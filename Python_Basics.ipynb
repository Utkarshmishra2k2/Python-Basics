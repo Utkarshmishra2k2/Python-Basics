{
  "nbformat": 4,
  "nbformat_minor": 0,
  "metadata": {
    "colab": {
      "provenance": [],
      "authorship_tag": "ABX9TyMWRzR4Tn+toLQfZpt6u6vb",
      "include_colab_link": true
    },
    "kernelspec": {
      "name": "python3",
      "display_name": "Python 3"
    },
    "language_info": {
      "name": "python"
    }
  },
  "cells": [
    {
      "cell_type": "markdown",
      "metadata": {
        "id": "view-in-github",
        "colab_type": "text"
      },
      "source": [
        "<a href=\"https://colab.research.google.com/github/Utkarshmishra2k2/Python-Basics/blob/main/Python_Basics.ipynb\" target=\"_parent\"><img src=\"https://colab.research.google.com/assets/colab-badge.svg\" alt=\"Open In Colab\"/></a>"
      ]
    },
    {
      "cell_type": "code",
      "source": [
        "Lecture=\"Varanasi\" "
      ],
      "metadata": {
        "id": "qBDztU93KtqH"
      },
      "execution_count": null,
      "outputs": []
    },
    {
      "cell_type": "code",
      "source": [
        "print(Lecture)  "
      ],
      "metadata": {
        "id": "9iqnZjmhSGnb",
        "colab": {
          "base_uri": "https://localhost:8080/"
        },
        "outputId": "7c3cbc14-c640-4a95-f9ca-dffaad22e912"
      },
      "execution_count": null,
      "outputs": [
        {
          "output_type": "stream",
          "name": "stdout",
          "text": [
            "Varanasi\n"
          ]
        }
      ]
    },
    {
      "cell_type": "code",
      "source": [
        "print(type(Lecture))"
      ],
      "metadata": {
        "id": "JfP0mlrdSOaY",
        "colab": {
          "base_uri": "https://localhost:8080/"
        },
        "outputId": "a19dfb85-61f1-4e71-a427-4ea48c8fcf4c"
      },
      "execution_count": null,
      "outputs": [
        {
          "output_type": "stream",
          "name": "stdout",
          "text": [
            "<class 'str'>\n"
          ]
        }
      ]
    },
    {
      "cell_type": "code",
      "source": [
        "print(id(Lecture))  "
      ],
      "metadata": {
        "id": "QebAe5cySWto",
        "colab": {
          "base_uri": "https://localhost:8080/"
        },
        "outputId": "086a20ad-e106-416b-a883-e5c4a9c560fa"
      },
      "execution_count": null,
      "outputs": [
        {
          "output_type": "stream",
          "name": "stdout",
          "text": [
            "140314911535472\n"
          ]
        }
      ]
    },
    {
      "cell_type": "code",
      "source": [
        "Lecture01=\"Varanasi\"\n",
        "print(id(Lecture01)) \n"
      ],
      "metadata": {
        "id": "8vy8EV7ISbQ4",
        "colab": {
          "base_uri": "https://localhost:8080/"
        },
        "outputId": "a99fe0b0-28d6-4ab5-82b4-b80f7a1a489c"
      },
      "execution_count": null,
      "outputs": [
        {
          "output_type": "stream",
          "name": "stdout",
          "text": [
            "140314911535472\n"
          ]
        }
      ]
    },
    {
      "cell_type": "code",
      "source": [
        "print(\"I am Studying In \"+Lecture)"
      ],
      "metadata": {
        "id": "0ipQ6G32TsHE",
        "colab": {
          "base_uri": "https://localhost:8080/"
        },
        "outputId": "b5b12e7a-6640-4c87-d45e-ec6d842f1338"
      },
      "execution_count": null,
      "outputs": [
        {
          "output_type": "stream",
          "name": "stdout",
          "text": [
            "I am Studying In Varanasi\n"
          ]
        }
      ]
    },
    {
      "cell_type": "code",
      "source": [
        "Sleep=input(\"How Many Hour You Sleep in A 24 Hours: \") "
      ],
      "metadata": {
        "id": "NmIs-CowVBl1",
        "colab": {
          "base_uri": "https://localhost:8080/"
        },
        "outputId": "9b5832ee-a05f-4dde-b510-f50d827bcd5a"
      },
      "execution_count": null,
      "outputs": [
        {
          "name": "stdout",
          "output_type": "stream",
          "text": [
            "How Many Hour You Sleep in A 24 Hours: 8\n"
          ]
        }
      ]
    },
    {
      "cell_type": "code",
      "source": [
        "print(Sleep,type(Sleep),id(Sleep)) "
      ],
      "metadata": {
        "id": "Zv6qHV9EaNWE",
        "colab": {
          "base_uri": "https://localhost:8080/"
        },
        "outputId": "b6852010-1235-4f52-fa03-fa6dfe7f2b7f"
      },
      "execution_count": null,
      "outputs": [
        {
          "output_type": "stream",
          "name": "stdout",
          "text": [
            "8 <class 'str'> 140315316019952\n"
          ]
        }
      ]
    },
    {
      "cell_type": "code",
      "source": [
        "Sleep01=int(Sleep)*365\n",
        "print(Sleep01,type(Sleep01))"
      ],
      "metadata": {
        "id": "BzIP2Fu0mYyN",
        "colab": {
          "base_uri": "https://localhost:8080/"
        },
        "outputId": "e4a6610a-bc6e-4f4c-de64-63906aec0ff0"
      },
      "execution_count": null,
      "outputs": [
        {
          "output_type": "stream",
          "name": "stdout",
          "text": [
            "2920 <class 'int'>\n"
          ]
        }
      ]
    },
    {
      "cell_type": "code",
      "source": [
        "Sleep02=str(Sleep01)   "
      ],
      "metadata": {
        "id": "IHiWRkxAnAw7"
      },
      "execution_count": null,
      "outputs": []
    },
    {
      "cell_type": "code",
      "source": [
        "print(\"You Sleep \"+Sleep02+\" Hours In Years\")"
      ],
      "metadata": {
        "id": "lytZ8-kRnQdJ",
        "colab": {
          "base_uri": "https://localhost:8080/"
        },
        "outputId": "ccf18847-3b9f-4ee2-ffd5-7f572fc51f65"
      },
      "execution_count": null,
      "outputs": [
        {
          "output_type": "stream",
          "name": "stdout",
          "text": [
            "You Sleep 2920 Hours In Years\n"
          ]
        }
      ]
    },
    {
      "cell_type": "code",
      "source": [
        "Sleep03=str(Sleep01/12)\n",
        "print(\"You Sleep \"+Sleep03+\" Hours In Months\")"
      ],
      "metadata": {
        "id": "1rbKi1KJno3Z",
        "colab": {
          "base_uri": "https://localhost:8080/"
        },
        "outputId": "c1f5b2b4-a1aa-4d68-8e5c-b28b0c10e651"
      },
      "execution_count": null,
      "outputs": [
        {
          "output_type": "stream",
          "name": "stdout",
          "text": [
            "You Sleep 243.33333333333334 Hours In Months\n"
          ]
        }
      ]
    },
    {
      "cell_type": "code",
      "source": [
        "Sleep04=input(\"How Many Hour You Sleep in A 24 Hours: \")\n",
        "Sleep05=int(Sleep04)*365"
      ],
      "metadata": {
        "id": "u-8-APQDpbZr",
        "colab": {
          "base_uri": "https://localhost:8080/"
        },
        "outputId": "5171c3af-5ee2-41e3-97e5-53803c704ada"
      },
      "execution_count": null,
      "outputs": [
        {
          "name": "stdout",
          "output_type": "stream",
          "text": [
            "How Many Hour You Sleep in A 24 Hours: 8\n"
          ]
        }
      ]
    },
    {
      "cell_type": "code",
      "source": [
        "Sleep06=float(Sleep04)*365 \n",
        "print(\"You Sleep \"+str(Sleep06)+\" Hours In Years\") "
      ],
      "metadata": {
        "id": "4O6lgDg4qD8l",
        "colab": {
          "base_uri": "https://localhost:8080/"
        },
        "outputId": "a958b193-1ca9-4039-eacb-b5f5f5f16656"
      },
      "execution_count": null,
      "outputs": [
        {
          "output_type": "stream",
          "name": "stdout",
          "text": [
            "You Sleep 2920.0 Hours In Years\n"
          ]
        }
      ]
    },
    {
      "cell_type": "code",
      "source": [
        "String01=\"I am Utkarsh Mishra\"\n",
        "print(String01,type(String01),id(String01))"
      ],
      "metadata": {
        "id": "eYK7ku-MqxmE",
        "colab": {
          "base_uri": "https://localhost:8080/"
        },
        "outputId": "bc75e7bd-29b6-49b7-a0e1-24b0428e2990"
      },
      "execution_count": null,
      "outputs": [
        {
          "output_type": "stream",
          "name": "stdout",
          "text": [
            "I am Utkarsh Mishra <class 'str'> 140314911592160\n"
          ]
        }
      ]
    },
    {
      "cell_type": "code",
      "source": [
        "String01.find(\"Mishra\")  "
      ],
      "metadata": {
        "id": "jvaFTxNeuipA",
        "colab": {
          "base_uri": "https://localhost:8080/"
        },
        "outputId": "9efc2a21-fe6a-4563-8908-36d53010ee45"
      },
      "execution_count": null,
      "outputs": [
        {
          "output_type": "execute_result",
          "data": {
            "text/plain": [
              "13"
            ]
          },
          "metadata": {},
          "execution_count": 16
        }
      ]
    },
    {
      "cell_type": "code",
      "source": [
        "String01.replace(\"Utkarsh\",\"Manglam\") "
      ],
      "metadata": {
        "id": "7xNoAfZHusg-",
        "colab": {
          "base_uri": "https://localhost:8080/",
          "height": 36
        },
        "outputId": "b76e6cdc-2356-407e-fda0-4127a6cb42da"
      },
      "execution_count": null,
      "outputs": [
        {
          "output_type": "execute_result",
          "data": {
            "text/plain": [
              "'I am Manglam Mishra'"
            ],
            "application/vnd.google.colaboratory.intrinsic+json": {
              "type": "string"
            }
          },
          "metadata": {},
          "execution_count": 17
        }
      ]
    },
    {
      "cell_type": "code",
      "source": [
        "String01.find(\"Shukla\")\n"
      ],
      "metadata": {
        "id": "MtyQGoNmvFQO",
        "colab": {
          "base_uri": "https://localhost:8080/"
        },
        "outputId": "628d7eec-20b9-4bcb-ef30-7c4d21c8180f"
      },
      "execution_count": null,
      "outputs": [
        {
          "output_type": "execute_result",
          "data": {
            "text/plain": [
              "-1"
            ]
          },
          "metadata": {},
          "execution_count": 18
        }
      ]
    },
    {
      "cell_type": "code",
      "source": [
        "Sleep06=int(input(\"Please Enter Your Sleeping Hour: \"))"
      ],
      "metadata": {
        "id": "t5-Nh7GmgXOa",
        "colab": {
          "base_uri": "https://localhost:8080/"
        },
        "outputId": "9aed59b1-5965-4577-eee3-bfb7723a4761"
      },
      "execution_count": null,
      "outputs": [
        {
          "name": "stdout",
          "output_type": "stream",
          "text": [
            "Please Enter Your Sleeping Hour: 8\n"
          ]
        }
      ]
    },
    {
      "cell_type": "code",
      "source": [
        "if Sleep06>5:\n",
        "  print(\"Your Sleep Is Healthy\")\n",
        "else:\n",
        "  print(\"Your Sleep Is Not Healthy\")"
      ],
      "metadata": {
        "id": "SXYs1oYdvQ6u",
        "colab": {
          "base_uri": "https://localhost:8080/"
        },
        "outputId": "43f23d75-b4fe-4500-ad42-3632eb4488f1"
      },
      "execution_count": null,
      "outputs": [
        {
          "output_type": "stream",
          "name": "stdout",
          "text": [
            "Your Sleep Is Healthy\n"
          ]
        }
      ]
    },
    {
      "cell_type": "markdown",
      "source": [
        "Multiplication Code"
      ],
      "metadata": {
        "id": "YJRW8kT5LLDN"
      }
    },
    {
      "cell_type": "code",
      "source": [
        "StartValue=int(input(\"Please Enter Starting Value: \"))\n",
        "WhichMultiple=int(input(\"Please Enter Till Which Multiple You Need: \"))\n",
        "EndValue=(WhichMultiple*StartValue)+StartValue\n",
        "\n",
        "for U in range(StartValue,EndValue,StartValue):\n",
        "    print(StartValue ,\"*\" ,range(StartValue,EndValue) ,\"=\" ,U)"
      ],
      "metadata": {
        "id": "xkmw79QNfAXV",
        "colab": {
          "base_uri": "https://localhost:8080/"
        },
        "outputId": "d57f2639-f0eb-4f5b-de11-31c6d1453fd1"
      },
      "execution_count": null,
      "outputs": [
        {
          "output_type": "stream",
          "name": "stdout",
          "text": [
            "Please Enter Starting Value: 5\n",
            "Please Enter Till Which Multiple You Need: 2\n",
            "5 * range(5, 15) = 5\n",
            "5 * range(5, 15) = 10\n"
          ]
        }
      ]
    },
    {
      "cell_type": "markdown",
      "source": [
        "Fibonacci Number Problem"
      ],
      "metadata": {
        "id": "5Hgy6Kt3LP0e"
      }
    },
    {
      "cell_type": "code",
      "source": [
        "#1st Way\n",
        "FirstValue=int(input(\"Please Enter a 1st Number: \"))\n",
        "SecondValue=int(input(\"Plase Enter a 2nd Number: \"))\n",
        "print(FirstValue)\n",
        "print(SecondValue)\n",
        "for Fibonacci in range(10):\n",
        "    U=FirstValue+SecondValue\n",
        "    FirstValue=SecondValue\n",
        "    SecondValue=U\n",
        "    print(U)"
      ],
      "metadata": {
        "id": "EXyvuhYMix0R",
        "colab": {
          "base_uri": "https://localhost:8080/"
        },
        "outputId": "bce682b3-735f-41ee-fac5-a3bd227db6f5"
      },
      "execution_count": null,
      "outputs": [
        {
          "output_type": "stream",
          "name": "stdout",
          "text": [
            "Please Enter a 1st Number: 2\n",
            "Plase Enter a 2nd Number: 2\n",
            "2\n",
            "2\n",
            "4\n",
            "6\n",
            "10\n",
            "16\n",
            "26\n",
            "42\n",
            "68\n",
            "110\n",
            "178\n",
            "288\n"
          ]
        }
      ]
    },
    {
      "cell_type": "code",
      "source": [
        "#2nd Way\n",
        "print(FirstValue)\n",
        "print(SecondValue)\n",
        "i=2\n",
        "while SecondValue < 20:\n",
        "    U=FirstValue+SecondValue\n",
        "    i=i+1\n",
        "    FirstValue=SecondValue\n",
        "    SecondValue=U\n",
        "    print(U)\n",
        "\n",
        "print(\"You Have Printed \",i,\"Numbers\")"
      ],
      "metadata": {
        "id": "ROy3gEUdnVT4",
        "colab": {
          "base_uri": "https://localhost:8080/"
        },
        "outputId": "4f7d6a1e-87c3-4fa4-acdb-44a8a1faed79"
      },
      "execution_count": null,
      "outputs": [
        {
          "output_type": "stream",
          "name": "stdout",
          "text": [
            "178\n",
            "288\n",
            "You Have Printed  2 Numbers\n"
          ]
        }
      ]
    },
    {
      "cell_type": "markdown",
      "source": [
        "Defining Function"
      ],
      "metadata": {
        "id": "-sZLDyovLnMh"
      }
    },
    {
      "cell_type": "code",
      "source": [
        "def Fibonacci(Position):\n",
        "    A=1\n",
        "    B=1\n",
        "    for i in range(Position):\n",
        "        Tempory=A+B\n",
        "        A=B\n",
        "        B=Tempory\n",
        "    return Tempory"
      ],
      "metadata": {
        "id": "WlvoayFW0r2X"
      },
      "execution_count": null,
      "outputs": []
    },
    {
      "cell_type": "code",
      "source": [
        "Fibonacci(5),Fibonacci(6)"
      ],
      "metadata": {
        "id": "QOEY88Fd3mfA",
        "colab": {
          "base_uri": "https://localhost:8080/"
        },
        "outputId": "b90cc794-8667-4fc8-ac0e-f00f2d461d1b"
      },
      "execution_count": null,
      "outputs": [
        {
          "output_type": "execute_result",
          "data": {
            "text/plain": [
              "(13, 21)"
            ]
          },
          "metadata": {},
          "execution_count": 25
        }
      ]
    },
    {
      "cell_type": "code",
      "source": [
        "def Fibonacci01(Position,A=1,B=2):\n",
        "      for i in range(Position):\n",
        "        Tempory=A+B\n",
        "        A=B\n",
        "        B=Tempory\n",
        "      return Tempory"
      ],
      "metadata": {
        "id": "jM4UATB13rti"
      },
      "execution_count": null,
      "outputs": []
    },
    {
      "cell_type": "code",
      "source": [
        "Fibonacci01(5)"
      ],
      "metadata": {
        "id": "WKXnWNOb4rBg",
        "colab": {
          "base_uri": "https://localhost:8080/"
        },
        "outputId": "59c2e3f8-376a-4937-ffb3-77ae5cbdd16f"
      },
      "execution_count": null,
      "outputs": [
        {
          "output_type": "execute_result",
          "data": {
            "text/plain": [
              "21"
            ]
          },
          "metadata": {},
          "execution_count": 27
        }
      ]
    },
    {
      "cell_type": "markdown",
      "source": [
        "Conditional Statement {if ... else}"
      ],
      "metadata": {
        "id": "0M-QOePrLr8K"
      }
    },
    {
      "cell_type": "code",
      "source": [
        "YourWaight=int(input(\"Please Enter Your Weight: \"))\n",
        "UnitForHeight=str(input('Which Unit Would You Perffer(\"F\"=Feet & Inches:\"M\"=Meters): '))\n",
        "if UnitForHeight ==\"F\":\n",
        "    YourHeightFeets=int(input(\"Please Enter Your Height(Feets): \"))\n",
        "    YourHeightInches=int(input(\"Please Enter Your Height(Inches): \"))\n",
        "    YourHeightMeters=int((YourHeightFeets+ YourHeightInches/12)*0.3048)\n",
        "else:\n",
        "    YourHeightMeters=int(input(\"please Enter Your Height(Meters): \"))\n",
        "\n",
        "YourHeight=YourHeightMeters\n",
        "BMI=YourWaight/YourHeight**2\n",
        "print(\"Your BMI Is \",BMI)\n",
        "\n",
        "if BMI < 18.5:\n",
        "    print(\"You Are UnderWeight\")\n",
        "elif BMI>=18.5 and BMI<=25:\n",
        "    print(\"You Have Normal Weight\")\n",
        "elif BMI >25:\n",
        "    print(\"You Are Over Weight\")"
      ],
      "metadata": {
        "id": "_Hk5AHBT5Bkg",
        "colab": {
          "base_uri": "https://localhost:8080/"
        },
        "outputId": "43879ec7-ee49-4f34-9ff9-ed445240f081"
      },
      "execution_count": null,
      "outputs": [
        {
          "output_type": "stream",
          "name": "stdout",
          "text": [
            "Please Enter Your Weight: 2\n",
            "Which Unit Would You Perffer(\"F\"=Feet & Inches:\"M\"=Meters): 2\n",
            "please Enter Your Height(Meters): 635\n",
            "Your BMI Is  4.96000992001984e-06\n",
            "You Are UnderWeight\n"
          ]
        }
      ]
    },
    {
      "cell_type": "code",
      "source": [
        "def fibonacci(n,a=1,b=3):\n",
        "    \"\"\"Code To Compute nth Fibonacci Sequence From a to b\"\"\" \n",
        "    for i in range(n):\n",
        "        Temporay =a+b\n",
        "        a=b \n",
        "        b=Temporay\n",
        "    return Temporay"
      ],
      "metadata": {
        "id": "fndbwVywzhxv"
      },
      "execution_count": null,
      "outputs": []
    },
    {
      "cell_type": "code",
      "source": [
        "fibonacci?"
      ],
      "metadata": {
        "id": "mAqw_lwQYcU4"
      },
      "execution_count": null,
      "outputs": []
    },
    {
      "cell_type": "code",
      "source": [
        "fibonacci(254,1,69)"
      ],
      "metadata": {
        "id": "wFslnU4H204v",
        "colab": {
          "base_uri": "https://localhost:8080/"
        },
        "outputId": "817a8176-dc09-4fed-c524-63abef5fb75c"
      },
      "execution_count": null,
      "outputs": [
        {
          "output_type": "execute_result",
          "data": {
            "text/plain": [
              "6096562301039338616380980234559526675513955796936745027"
            ]
          },
          "metadata": {},
          "execution_count": 31
        }
      ]
    },
    {
      "cell_type": "code",
      "source": [
        "def InputFloat(Write):                                     \n",
        "    EnterInput = input(Write)                             \n",
        "    try:                                                   \n",
        "        Result=float(EnterInput)\n",
        "    except ValueError:                                   \n",
        "        print(\"Your input Is wrong\")\n",
        "        Result=None                                         \n",
        "\n",
        "    return(Result)                                         \n",
        "\n",
        "Month = InputFloat(\"Please Enter This Month: \")            "
      ],
      "metadata": {
        "id": "oAO1U8YX3MsT",
        "colab": {
          "base_uri": "https://localhost:8080/"
        },
        "outputId": "6894f821-7d9a-4ea9-e76f-4a63f30e8323"
      },
      "execution_count": null,
      "outputs": [
        {
          "name": "stdout",
          "output_type": "stream",
          "text": [
            "Please Enter This Month: 5\n"
          ]
        }
      ]
    },
    {
      "cell_type": "code",
      "source": [
        "print(Month,type(Month))           "
      ],
      "metadata": {
        "id": "xN-WYupH5j7u",
        "colab": {
          "base_uri": "https://localhost:8080/"
        },
        "outputId": "92841ff7-6eb7-45aa-c211-4bdfcf3014cc"
      },
      "execution_count": null,
      "outputs": [
        {
          "output_type": "stream",
          "name": "stdout",
          "text": [
            "5.0 <class 'float'>\n"
          ]
        }
      ]
    },
    {
      "cell_type": "code",
      "source": [
        "def InputFloatInverser(Write):                              \n",
        "    EnterInput = input(Write)                              \n",
        "    Result=None                                            \n",
        "    try:                                                  \n",
        "        Result=1/float(EnterInput)                         \n",
        "    except ValueError:                                     \n",
        "        print(\"Your input Is wrong\")\n",
        "                                                \n",
        "    except ZeroDivisionError:                               \n",
        "        print(\"Zero Reciopacal Is NotDefined\")              \n",
        "\n",
        "    return(Result)                                         \n",
        "\n",
        "Month = InputFloat(\"Please Enter This Month: \")           \n",
        "Month,type(Month)"
      ],
      "metadata": {
        "id": "8ovtQCjp7-f7",
        "colab": {
          "base_uri": "https://localhost:8080/"
        },
        "outputId": "de1c89de-3198-4182-b4a8-1c186eeb00ed"
      },
      "execution_count": null,
      "outputs": [
        {
          "name": "stdout",
          "output_type": "stream",
          "text": [
            "Please Enter This Month: 6\n"
          ]
        },
        {
          "output_type": "execute_result",
          "data": {
            "text/plain": [
              "(6.0, float)"
            ]
          },
          "metadata": {},
          "execution_count": 34
        }
      ]
    },
    {
      "cell_type": "markdown",
      "source": [
        "List"
      ],
      "metadata": {
        "id": "bP_gu8ydAIIS"
      }
    },
    {
      "cell_type": "code",
      "source": [
        "MySelf=\"Hi I'm Utkarsh Mishra And I From Jaunpur\"         \n",
        "print(MySelf)                                             \n",
        "Words=MySelf.split()                                     "
      ],
      "metadata": {
        "id": "y7PFkIoN9S-_",
        "colab": {
          "base_uri": "https://localhost:8080/"
        },
        "outputId": "54bc5bd5-2e0e-4cfd-ec82-9bb661b68c9b"
      },
      "execution_count": null,
      "outputs": [
        {
          "output_type": "stream",
          "name": "stdout",
          "text": [
            "Hi I'm Utkarsh Mishra And I From Jaunpur\n",
            "['Hi', \"I'm\", 'Utkarsh', 'Mishra', 'And', 'I', 'From', 'Jaunpur']\n"
          ]
        }
      ]
    },
    {
      "cell_type": "code",
      "source": [
        "Words,type(Words),id(Words)                           "
      ],
      "metadata": {
        "id": "M_edJYjk9dLi",
        "colab": {
          "base_uri": "https://localhost:8080/"
        },
        "outputId": "6ca0fa2f-355f-447c-fbd8-e88a4bf843ff"
      },
      "execution_count": null,
      "outputs": [
        {
          "output_type": "execute_result",
          "data": {
            "text/plain": [
              "(['Hi', \"I'm\", 'Utkarsh', 'Mishra', 'And', 'I', 'From', 'Jaunpur'],\n",
              " list,\n",
              " 140314911602160)"
            ]
          },
          "metadata": {},
          "execution_count": 36
        }
      ]
    },
    {
      "cell_type": "code",
      "source": [
        "Words[5]      \n",
        "Words[-5]      "
      ],
      "metadata": {
        "id": "wNFc8hqSBp4Q",
        "colab": {
          "base_uri": "https://localhost:8080/",
          "height": 36
        },
        "outputId": "a90127e3-6e25-4b45-e662-a6924a8ece8c"
      },
      "execution_count": null,
      "outputs": [
        {
          "output_type": "execute_result",
          "data": {
            "text/plain": [
              "'Mishra'"
            ],
            "application/vnd.google.colaboratory.intrinsic+json": {
              "type": "string"
            }
          },
          "metadata": {},
          "execution_count": 37
        }
      ]
    },
    {
      "cell_type": "code",
      "source": [
        "Words[2:4]    "
      ],
      "metadata": {
        "id": "KjvqoPEqjVkd",
        "colab": {
          "base_uri": "https://localhost:8080/"
        },
        "outputId": "cd053c07-028f-4ef0-8033-6c4203f2a0a3"
      },
      "execution_count": null,
      "outputs": [
        {
          "output_type": "execute_result",
          "data": {
            "text/plain": [
              "['Utkarsh', 'Mishra']"
            ]
          },
          "metadata": {},
          "execution_count": 38
        }
      ]
    },
    {
      "cell_type": "code",
      "source": [
        "Words[2:7:2]  "
      ],
      "metadata": {
        "id": "FZ2sFYc0kBSj",
        "colab": {
          "base_uri": "https://localhost:8080/"
        },
        "outputId": "4f261fff-255b-43f1-a812-204e4297fde8"
      },
      "execution_count": null,
      "outputs": [
        {
          "output_type": "execute_result",
          "data": {
            "text/plain": [
              "['Utkarsh', 'And', 'From']"
            ]
          },
          "metadata": {},
          "execution_count": 39
        }
      ]
    },
    {
      "cell_type": "code",
      "source": [
        "Numbers=[1,1,2,3,5,8,13,21]   "
      ],
      "metadata": {
        "id": "D4HJgYPbkiI6"
      },
      "execution_count": null,
      "outputs": []
    },
    {
      "cell_type": "code",
      "source": [
        "Numbers,type(Numbers),id(Numbers)"
      ],
      "metadata": {
        "id": "42onkVGilM4p",
        "colab": {
          "base_uri": "https://localhost:8080/"
        },
        "outputId": "adbe3984-4b1c-460a-9a98-a833ad7f27ba"
      },
      "execution_count": null,
      "outputs": [
        {
          "output_type": "execute_result",
          "data": {
            "text/plain": [
              "([1, 1, 2, 3, 5, 8, 13, 21], list, 140314911312784)"
            ]
          },
          "metadata": {},
          "execution_count": 41
        }
      ]
    },
    {
      "cell_type": "code",
      "source": [
        "#But\n",
        "Numbers[5],type (Numbers[5]),id (Numbers[5])  "
      ],
      "metadata": {
        "id": "3Swfy5M2lXpA",
        "colab": {
          "base_uri": "https://localhost:8080/"
        },
        "outputId": "3fd4bee2-cad3-4cbb-9eb5-0df7d5d60645"
      },
      "execution_count": null,
      "outputs": [
        {
          "output_type": "execute_result",
          "data": {
            "text/plain": [
              "(8, int, 11122816)"
            ]
          },
          "metadata": {},
          "execution_count": 42
        }
      ]
    },
    {
      "cell_type": "code",
      "source": [
        "#Numbers[2:6]+154\n",
        "#Here This Will Not Work Because Numbers[2:6] is List & 154 Is Not List,As We Know List01+List02 Is Only Possible "
      ],
      "metadata": {
        "id": "e-S5FKqllsa6"
      },
      "execution_count": null,
      "outputs": []
    },
    {
      "cell_type": "code",
      "source": [
        "#To Deal With Above Problem\n",
        "for Numbers01 in Numbers:     \n",
        "    print(Numbers01+1412)     "
      ],
      "metadata": {
        "id": "2Iz9vLQ8mAcJ",
        "colab": {
          "base_uri": "https://localhost:8080/"
        },
        "outputId": "e0dfe4f3-bded-48ab-9398-131ca78730c4"
      },
      "execution_count": null,
      "outputs": [
        {
          "output_type": "stream",
          "name": "stdout",
          "text": [
            "1413\n",
            "1413\n",
            "1414\n",
            "1415\n",
            "1417\n",
            "1420\n",
            "1425\n",
            "1433\n"
          ]
        }
      ]
    },
    {
      "cell_type": "code",
      "source": [
        "Length=len(Numbers)\n",
        "for W in range(Length):\n",
        "    print(W+1,Numbers[W])"
      ],
      "metadata": {
        "id": "QTLY97R5m7DK",
        "colab": {
          "base_uri": "https://localhost:8080/"
        },
        "outputId": "d23af974-a06c-4cd3-9696-1e9d9f026fe6"
      },
      "execution_count": null,
      "outputs": [
        {
          "output_type": "stream",
          "name": "stdout",
          "text": [
            "1 1\n",
            "2 1\n",
            "3 2\n",
            "4 3\n",
            "5 5\n",
            "6 8\n",
            "7 13\n",
            "8 21\n"
          ]
        }
      ]
    },
    {
      "cell_type": "code",
      "source": [
        "Length02=len(Words)      \n",
        "for Wo in range(Length02):  \n",
        "    print(Wo+1,Words[Wo])   "
      ],
      "metadata": {
        "id": "mT2y2Zr9oR2Y",
        "colab": {
          "base_uri": "https://localhost:8080/"
        },
        "outputId": "c9baffaa-4bd0-474b-c1c5-b2cc68fcdfa6"
      },
      "execution_count": null,
      "outputs": [
        {
          "output_type": "stream",
          "name": "stdout",
          "text": [
            "1 Hi\n",
            "2 I'm\n",
            "3 Utkarsh\n",
            "4 Mishra\n",
            "5 And\n",
            "6 I\n",
            "7 From\n",
            "8 Jaunpur\n"
          ]
        }
      ]
    },
    {
      "cell_type": "code",
      "source": [
        "Bmi=[\"Utkarsh Mishra\",90,150,True] \n",
        "for Item in Bmi:                   \n",
        "    print(Item,type(Item),id(Item))"
      ],
      "metadata": {
        "id": "-E2ynyM6wEjx",
        "colab": {
          "base_uri": "https://localhost:8080/"
        },
        "outputId": "798eeb93-967c-4991-d4e1-2d655580cb40"
      },
      "execution_count": null,
      "outputs": [
        {
          "output_type": "stream",
          "name": "stdout",
          "text": [
            "Utkarsh Mishra <class 'str'> 140315017034800\n",
            "90 <class 'int'> 11125440\n",
            "150 <class 'int'> 11127360\n",
            "True <class 'bool'> 11115712\n"
          ]
        }
      ]
    },
    {
      "cell_type": "code",
      "source": [
        "Bmi[0]=\"Utkarsh A Mishra\"   \n",
        "Bmi,type(Bmi)"
      ],
      "metadata": {
        "id": "jI2_iaWDx_xA",
        "colab": {
          "base_uri": "https://localhost:8080/"
        },
        "outputId": "0d14dd6c-1e47-442d-ecba-ddfde7ec1933"
      },
      "execution_count": null,
      "outputs": [
        {
          "output_type": "execute_result",
          "data": {
            "text/plain": [
              "(['Utkarsh A Mishra', 90, 150, True], list)"
            ]
          },
          "metadata": {},
          "execution_count": 48
        }
      ]
    },
    {
      "cell_type": "code",
      "source": [
        "Bmi.append(\"You Are Over Weight\"[2])   "
      ],
      "metadata": {
        "id": "NzJ3BT8fyYHg"
      },
      "execution_count": null,
      "outputs": []
    },
    {
      "cell_type": "code",
      "source": [
        "Bmi,type(Bmi)"
      ],
      "metadata": {
        "id": "cBzyyc-KyqaN",
        "colab": {
          "base_uri": "https://localhost:8080/"
        },
        "outputId": "542cb34d-1df8-4292-df1d-9699dec86b2c"
      },
      "execution_count": null,
      "outputs": [
        {
          "output_type": "execute_result",
          "data": {
            "text/plain": [
              "(['Utkarsh A Mishra', 90, 150, True, 'u'], list)"
            ]
          },
          "metadata": {},
          "execution_count": 50
        }
      ]
    },
    {
      "cell_type": "code",
      "source": [
        "for Item in Bmi:                   \n",
        "    print(Item,type(Item),id(Item)) "
      ],
      "metadata": {
        "id": "H3DNvpI2zf-A",
        "colab": {
          "base_uri": "https://localhost:8080/"
        },
        "outputId": "5c5eb9ce-c1bd-4f1d-e31e-48218262d4ea"
      },
      "execution_count": null,
      "outputs": [
        {
          "output_type": "stream",
          "name": "stdout",
          "text": [
            "Utkarsh A Mishra <class 'str'> 140314911126512\n",
            "90 <class 'int'> 11125440\n",
            "150 <class 'int'> 11127360\n",
            "True <class 'bool'> 11115712\n",
            "u <class 'str'> 140315316500464\n"
          ]
        }
      ]
    },
    {
      "cell_type": "markdown",
      "source": [
        "List Within List"
      ],
      "metadata": {
        "id": "b0QCBXMa0VdQ"
      }
    },
    {
      "cell_type": "code",
      "source": [
        "FamilyRecord=[\n",
        "              [\"Lal Mani Mishra\",[85,1],True,\"10th\"],\n",
        "              [\"P N Mishra\",[80,2],False,\"Doctrate\"],\n",
        "              [\"B N Mishra\",[70,3],False,\"Graduation\"],\n",
        "              [\"Yogesh Mishra\",[50,4],True,\"Graduation\"],\n",
        "              [\"Avinash Mishra\",[45,5],True,\"Post Graduation\"],\n",
        "              [\"Avnish Mishra\",[40,6],False,\"PHD\"],\n",
        "]                "
      ],
      "metadata": {
        "id": "tTsfKd6kzj6Q"
      },
      "execution_count": null,
      "outputs": []
    },
    {
      "cell_type": "code",
      "source": [
        "#Here List No 1 is FamilyRecord\n",
        "#Lisr No 2 Is [Name,....]\n",
        "#List No 3 is [85,...]"
      ],
      "metadata": {
        "id": "CoIZz0qb7C30"
      },
      "execution_count": null,
      "outputs": []
    },
    {
      "cell_type": "code",
      "source": [
        "FamilyRecord[1][1][1],type(FamilyRecord[1][1][1]),id(FamilyRecord[1][1][1]) "
      ],
      "metadata": {
        "id": "X1kVYcN75pwM",
        "colab": {
          "base_uri": "https://localhost:8080/"
        },
        "outputId": "6b11216c-8e0f-4537-b7b6-116522afc8eb"
      },
      "execution_count": null,
      "outputs": [
        {
          "output_type": "execute_result",
          "data": {
            "text/plain": [
              "(2, int, 11122624)"
            ]
          },
          "metadata": {},
          "execution_count": 54
        }
      ]
    },
    {
      "cell_type": "code",
      "source": [
        "A=[\n",
        "   [1,1],\n",
        "   [1,0],\n",
        "]"
      ],
      "metadata": {
        "id": "KxkUQF066c99"
      },
      "execution_count": null,
      "outputs": []
    },
    {
      "cell_type": "code",
      "source": [
        "def Matrix(A,n):\n",
        "    OutPut = [Item[:] for Item in A] #Here I Use Deep Copy\n",
        "    Tempory = [Item[:] for Item in A] #Here I Use Deep Copy\n",
        "    for AA in range(n-1):\n",
        "        OutPut[0][0] = A[0][0]*Tempory[0][0]+A[0][0]*Tempory[1][0]\n",
        "        OutPut[0][1] = A[0][0]*Tempory[0][1]+A[0][1]*Tempory[1][1]\n",
        "        OutPut[1][0] = A[1][0]*Tempory[0][0]+A[1][0]*Tempory[1][0]\n",
        "        OutPut[1][1] = A[1][0]*Tempory[0][1]+A[1][1]*Tempory[1][1]\n",
        "        Tempory =[Item[:] for Item in OutPut]\n",
        "    return OutPut"
      ],
      "metadata": {
        "id": "5tnYlJxF-yhd"
      },
      "execution_count": null,
      "outputs": []
    },
    {
      "cell_type": "code",
      "source": [
        "Matrix(A,2)"
      ],
      "metadata": {
        "id": "6Sc0sFJYAqVS",
        "colab": {
          "base_uri": "https://localhost:8080/"
        },
        "outputId": "7908cd74-1b69-4c1f-9598-539e45f30536"
      },
      "execution_count": null,
      "outputs": [
        {
          "output_type": "execute_result",
          "data": {
            "text/plain": [
              "[[2, 1], [2, 1]]"
            ]
          },
          "metadata": {},
          "execution_count": 57
        }
      ]
    },
    {
      "cell_type": "code",
      "source": [
        "#Here I Printed The A**55\n",
        "for N in range(56):\n",
        "    OutPut=Matrix(A,N)\n",
        "    print(N,OutPut)"
      ],
      "metadata": {
        "id": "uYmHkyk7BBRI",
        "colab": {
          "base_uri": "https://localhost:8080/"
        },
        "outputId": "ebcf9269-bee1-401a-d5a8-3c51860f37d2"
      },
      "execution_count": null,
      "outputs": [
        {
          "output_type": "stream",
          "name": "stdout",
          "text": [
            "0 [[1, 1], [1, 0]]\n",
            "1 [[1, 1], [1, 0]]\n",
            "2 [[2, 1], [2, 1]]\n",
            "3 [[4, 2], [4, 1]]\n",
            "4 [[8, 3], [8, 2]]\n",
            "5 [[16, 5], [16, 3]]\n",
            "6 [[32, 8], [32, 5]]\n",
            "7 [[64, 13], [64, 8]]\n",
            "8 [[128, 21], [128, 13]]\n",
            "9 [[256, 34], [256, 21]]\n",
            "10 [[512, 55], [512, 34]]\n",
            "11 [[1024, 89], [1024, 55]]\n",
            "12 [[2048, 144], [2048, 89]]\n",
            "13 [[4096, 233], [4096, 144]]\n",
            "14 [[8192, 377], [8192, 233]]\n",
            "15 [[16384, 610], [16384, 377]]\n",
            "16 [[32768, 987], [32768, 610]]\n",
            "17 [[65536, 1597], [65536, 987]]\n",
            "18 [[131072, 2584], [131072, 1597]]\n",
            "19 [[262144, 4181], [262144, 2584]]\n",
            "20 [[524288, 6765], [524288, 4181]]\n",
            "21 [[1048576, 10946], [1048576, 6765]]\n",
            "22 [[2097152, 17711], [2097152, 10946]]\n",
            "23 [[4194304, 28657], [4194304, 17711]]\n",
            "24 [[8388608, 46368], [8388608, 28657]]\n",
            "25 [[16777216, 75025], [16777216, 46368]]\n",
            "26 [[33554432, 121393], [33554432, 75025]]\n",
            "27 [[67108864, 196418], [67108864, 121393]]\n",
            "28 [[134217728, 317811], [134217728, 196418]]\n",
            "29 [[268435456, 514229], [268435456, 317811]]\n",
            "30 [[536870912, 832040], [536870912, 514229]]\n",
            "31 [[1073741824, 1346269], [1073741824, 832040]]\n",
            "32 [[2147483648, 2178309], [2147483648, 1346269]]\n",
            "33 [[4294967296, 3524578], [4294967296, 2178309]]\n",
            "34 [[8589934592, 5702887], [8589934592, 3524578]]\n",
            "35 [[17179869184, 9227465], [17179869184, 5702887]]\n",
            "36 [[34359738368, 14930352], [34359738368, 9227465]]\n",
            "37 [[68719476736, 24157817], [68719476736, 14930352]]\n",
            "38 [[137438953472, 39088169], [137438953472, 24157817]]\n",
            "39 [[274877906944, 63245986], [274877906944, 39088169]]\n",
            "40 [[549755813888, 102334155], [549755813888, 63245986]]\n",
            "41 [[1099511627776, 165580141], [1099511627776, 102334155]]\n",
            "42 [[2199023255552, 267914296], [2199023255552, 165580141]]\n",
            "43 [[4398046511104, 433494437], [4398046511104, 267914296]]\n",
            "44 [[8796093022208, 701408733], [8796093022208, 433494437]]\n",
            "45 [[17592186044416, 1134903170], [17592186044416, 701408733]]\n",
            "46 [[35184372088832, 1836311903], [35184372088832, 1134903170]]\n",
            "47 [[70368744177664, 2971215073], [70368744177664, 1836311903]]\n",
            "48 [[140737488355328, 4807526976], [140737488355328, 2971215073]]\n",
            "49 [[281474976710656, 7778742049], [281474976710656, 4807526976]]\n",
            "50 [[562949953421312, 12586269025], [562949953421312, 7778742049]]\n",
            "51 [[1125899906842624, 20365011074], [1125899906842624, 12586269025]]\n",
            "52 [[2251799813685248, 32951280099], [2251799813685248, 20365011074]]\n",
            "53 [[4503599627370496, 53316291173], [4503599627370496, 32951280099]]\n",
            "54 [[9007199254740992, 86267571272], [9007199254740992, 53316291173]]\n",
            "55 [[18014398509481984, 139583862445], [18014398509481984, 86267571272]]\n"
          ]
        }
      ]
    },
    {
      "cell_type": "code",
      "source": [
        "#Here I Printed The fibonacci\n",
        "for No in range(56):\n",
        "    OutPut=Matrix(A,No)\n",
        "    print(No,OutPut[0][0])"
      ],
      "metadata": {
        "id": "2OHclnK3CoBx",
        "colab": {
          "base_uri": "https://localhost:8080/"
        },
        "outputId": "a464b211-8636-4636-e916-7e834a9d2d28"
      },
      "execution_count": null,
      "outputs": [
        {
          "output_type": "stream",
          "name": "stdout",
          "text": [
            "0 1\n",
            "1 1\n",
            "2 2\n",
            "3 4\n",
            "4 8\n",
            "5 16\n",
            "6 32\n",
            "7 64\n",
            "8 128\n",
            "9 256\n",
            "10 512\n",
            "11 1024\n",
            "12 2048\n",
            "13 4096\n",
            "14 8192\n",
            "15 16384\n",
            "16 32768\n",
            "17 65536\n",
            "18 131072\n",
            "19 262144\n",
            "20 524288\n",
            "21 1048576\n",
            "22 2097152\n",
            "23 4194304\n",
            "24 8388608\n",
            "25 16777216\n",
            "26 33554432\n",
            "27 67108864\n",
            "28 134217728\n",
            "29 268435456\n",
            "30 536870912\n",
            "31 1073741824\n",
            "32 2147483648\n",
            "33 4294967296\n",
            "34 8589934592\n",
            "35 17179869184\n",
            "36 34359738368\n",
            "37 68719476736\n",
            "38 137438953472\n",
            "39 274877906944\n",
            "40 549755813888\n",
            "41 1099511627776\n",
            "42 2199023255552\n",
            "43 4398046511104\n",
            "44 8796093022208\n",
            "45 17592186044416\n",
            "46 35184372088832\n",
            "47 70368744177664\n",
            "48 140737488355328\n",
            "49 281474976710656\n",
            "50 562949953421312\n",
            "51 1125899906842624\n",
            "52 2251799813685248\n",
            "53 4503599627370496\n",
            "54 9007199254740992\n",
            "55 18014398509481984\n"
          ]
        }
      ]
    },
    {
      "cell_type": "markdown",
      "source": [
        "Tuples & Sets"
      ],
      "metadata": {
        "id": "wFyB4jE8qSd4"
      }
    },
    {
      "cell_type": "code",
      "source": [
        "Surnames=(\"Mishra\",\"Tiwari\",\"Dubey\",\"Shukla\") "
      ],
      "metadata": {
        "id": "oXccuJseDcII"
      },
      "execution_count": null,
      "outputs": []
    },
    {
      "cell_type": "code",
      "source": [
        "Surnames,type(Surnames),id(Surnames)"
      ],
      "metadata": {
        "id": "hWCRJOLyqz1f",
        "colab": {
          "base_uri": "https://localhost:8080/"
        },
        "outputId": "b5686d93-dd88-4b42-98d9-83eca796a53f"
      },
      "execution_count": null,
      "outputs": [
        {
          "output_type": "execute_result",
          "data": {
            "text/plain": [
              "(('Mishra', 'Tiwari', 'Dubey', 'Shukla'), tuple, 140314911102928)"
            ]
          },
          "metadata": {},
          "execution_count": 61
        }
      ]
    },
    {
      "cell_type": "code",
      "source": [
        "Surnames[3]   "
      ],
      "metadata": {
        "id": "JEv1AybPrMBC",
        "colab": {
          "base_uri": "https://localhost:8080/",
          "height": 36
        },
        "outputId": "dbdfab13-941e-4639-e820-89607b0972cb"
      },
      "execution_count": null,
      "outputs": [
        {
          "output_type": "execute_result",
          "data": {
            "text/plain": [
              "'Shukla'"
            ],
            "application/vnd.google.colaboratory.intrinsic+json": {
              "type": "string"
            }
          },
          "metadata": {},
          "execution_count": 62
        }
      ]
    },
    {
      "cell_type": "code",
      "source": [
        "Surnames[-3]"
      ],
      "metadata": {
        "id": "cMztMN-DrYdp",
        "colab": {
          "base_uri": "https://localhost:8080/",
          "height": 36
        },
        "outputId": "f875b5f5-bffc-47f3-9ae2-3fc969da19cb"
      },
      "execution_count": null,
      "outputs": [
        {
          "output_type": "execute_result",
          "data": {
            "text/plain": [
              "'Tiwari'"
            ],
            "application/vnd.google.colaboratory.intrinsic+json": {
              "type": "string"
            }
          },
          "metadata": {},
          "execution_count": 63
        }
      ]
    },
    {
      "cell_type": "code",
      "source": [
        "Surnames[-4:-2]"
      ],
      "metadata": {
        "id": "asQtihgSrmpZ",
        "colab": {
          "base_uri": "https://localhost:8080/"
        },
        "outputId": "7b436c17-215c-47c6-9a0f-331de7ac68cd"
      },
      "execution_count": null,
      "outputs": [
        {
          "output_type": "execute_result",
          "data": {
            "text/plain": [
              "('Mishra', 'Tiwari')"
            ]
          },
          "metadata": {},
          "execution_count": 64
        }
      ]
    },
    {
      "cell_type": "markdown",
      "source": [
        "Magic Commands "
      ],
      "metadata": {
        "id": "2WT7Jzm0MLZ8"
      }
    },
    {
      "cell_type": "code",
      "source": [
        "%%timeit?"
      ],
      "metadata": {
        "id": "vf2n6svJt6m1"
      },
      "execution_count": null,
      "outputs": []
    },
    {
      "cell_type": "code",
      "source": [
        "%%timeit -n1 -r10\n",
        "for U in range(20000000):\n",
        "    List01=[\"I\",\"a'm\",\"Better\",\"Than\"]"
      ],
      "metadata": {
        "id": "kkcolk59rw2Z",
        "colab": {
          "base_uri": "https://localhost:8080/"
        },
        "outputId": "61bf25da-f3be-4716-fa15-ccb5bc229b9e"
      },
      "execution_count": null,
      "outputs": [
        {
          "output_type": "stream",
          "name": "stdout",
          "text": [
            "1.62 s ± 143 ms per loop (mean ± std. dev. of 10 runs, 1 loop each)\n"
          ]
        }
      ]
    },
    {
      "cell_type": "code",
      "source": [
        "%%timeit -n1 -r10\n",
        "for U in range(20000000):\n",
        "    Tuple01=(\"I\",\"a'm\",\"Better\",\"Than\")"
      ],
      "metadata": {
        "id": "CNMXNHh2B0G-",
        "colab": {
          "base_uri": "https://localhost:8080/"
        },
        "outputId": "8f790c5d-4117-4cad-e0d4-3043e3923460"
      },
      "execution_count": null,
      "outputs": [
        {
          "output_type": "stream",
          "name": "stdout",
          "text": [
            "654 ms ± 24.9 ms per loop (mean ± std. dev. of 10 runs, 1 loop each)\n"
          ]
        }
      ]
    },
    {
      "cell_type": "code",
      "source": [
        "Surnames01={\"Mishra\",\"Tiwari\",\"Dubey\",\"Shukla\"} "
      ],
      "metadata": {
        "id": "__zBlN6UCZG8"
      },
      "execution_count": null,
      "outputs": []
    },
    {
      "cell_type": "code",
      "source": [
        "Surnames01,type(Surnames01)"
      ],
      "metadata": {
        "id": "JPQaj2G9DLoY",
        "colab": {
          "base_uri": "https://localhost:8080/"
        },
        "outputId": "52586201-c037-4ca1-bb95-a024bc25718b"
      },
      "execution_count": null,
      "outputs": [
        {
          "output_type": "execute_result",
          "data": {
            "text/plain": [
              "({'Dubey', 'Mishra', 'Shukla', 'Tiwari'}, set)"
            ]
          },
          "metadata": {},
          "execution_count": 69
        }
      ]
    },
    {
      "cell_type": "code",
      "source": [
        "\"Mishra\" in Surnames01"
      ],
      "metadata": {
        "id": "2mhHyzYUDS0o",
        "colab": {
          "base_uri": "https://localhost:8080/"
        },
        "outputId": "a591811f-3ad2-423c-8c6b-555f49fb4ab1"
      },
      "execution_count": null,
      "outputs": [
        {
          "output_type": "execute_result",
          "data": {
            "text/plain": [
              "True"
            ]
          },
          "metadata": {},
          "execution_count": 70
        }
      ]
    },
    {
      "cell_type": "code",
      "source": [
        "#Surnames01.index(\"Mishra\")  \n",
        "#Here Sets Don't Have Index Function"
      ],
      "metadata": {
        "id": "e71DdTW_DfQo"
      },
      "execution_count": null,
      "outputs": []
    },
    {
      "cell_type": "code",
      "source": [
        "Surnames02={\"Mishra\",\"Patel\",\"Pandey\",\"Pal\"}"
      ],
      "metadata": {
        "id": "5KStLoD1D5ky"
      },
      "execution_count": null,
      "outputs": []
    },
    {
      "cell_type": "code",
      "source": [
        "Surnames03=Surnames01.intersection(Surnames02)     \n",
        "Surnames03,type(Surnames03),id(Surnames03)"
      ],
      "metadata": {
        "id": "fznq2mzPEnCe",
        "colab": {
          "base_uri": "https://localhost:8080/"
        },
        "outputId": "d512db50-8c49-458d-d664-2d6281ba86f7"
      },
      "execution_count": null,
      "outputs": [
        {
          "output_type": "execute_result",
          "data": {
            "text/plain": [
              "({'Mishra'}, set, 140314982905808)"
            ]
          },
          "metadata": {},
          "execution_count": 73
        }
      ]
    },
    {
      "cell_type": "code",
      "source": [
        "Surnames04=Surnames01.union(Surnames02)           \n",
        "Surnames04,type(Surnames04),id(Surnames04)"
      ],
      "metadata": {
        "id": "uBk0vyfDEzO-",
        "colab": {
          "base_uri": "https://localhost:8080/"
        },
        "outputId": "369898a8-97ed-4b81-9d58-527fc117490f"
      },
      "execution_count": null,
      "outputs": [
        {
          "output_type": "execute_result",
          "data": {
            "text/plain": [
              "({'Dubey', 'Mishra', 'Pal', 'Pandey', 'Patel', 'Shukla', 'Tiwari'},\n",
              " set,\n",
              " 140314982550176)"
            ]
          },
          "metadata": {},
          "execution_count": 74
        }
      ]
    },
    {
      "cell_type": "code",
      "source": [
        "Surnames02={\"Mishra\",\"Patel\",\"Pandey\",\"Pal\",\"Mishra\"}  "
      ],
      "metadata": {
        "id": "VCTJ1adiE-jS"
      },
      "execution_count": null,
      "outputs": []
    },
    {
      "cell_type": "code",
      "source": [
        "Surnames04     "
      ],
      "metadata": {
        "id": "gMlWGMhXF85G",
        "colab": {
          "base_uri": "https://localhost:8080/"
        },
        "outputId": "c5257415-0749-4aed-a737-c5c6925f926c"
      },
      "execution_count": null,
      "outputs": [
        {
          "output_type": "execute_result",
          "data": {
            "text/plain": [
              "{'Dubey', 'Mishra', 'Pal', 'Pandey', 'Patel', 'Shukla', 'Tiwari'}"
            ]
          },
          "metadata": {},
          "execution_count": 76
        }
      ]
    },
    {
      "cell_type": "markdown",
      "source": [
        "List Vs Tuple Vs Sets { Time Comparison }"
      ],
      "metadata": {
        "id": "PeNSG1zAMTsV"
      }
    },
    {
      "cell_type": "code",
      "source": [
        "N=100000000"
      ],
      "metadata": {
        "id": "1GDvw34xR3Vl"
      },
      "execution_count": null,
      "outputs": []
    },
    {
      "cell_type": "code",
      "source": [
        "%%time\n",
        "List=list(range(N))\n",
        "for S in range(N):\n",
        "    List[S]=List[S]*List[S] "
      ],
      "metadata": {
        "id": "o_2ozcLnR7I2",
        "colab": {
          "base_uri": "https://localhost:8080/"
        },
        "outputId": "e15d1334-3997-46fc-e9e9-09c927196ca5"
      },
      "execution_count": null,
      "outputs": [
        {
          "output_type": "stream",
          "name": "stdout",
          "text": [
            "CPU times: user 26.3 s, sys: 2.62 s, total: 28.9 s\n",
            "Wall time: 29.6 s\n"
          ]
        }
      ]
    },
    {
      "cell_type": "code",
      "source": [
        "%%time\n",
        "List=list(range(N))\n",
        "List ={M*M for M in List}"
      ],
      "metadata": {
        "id": "6Nmv7ULASk6y"
      },
      "execution_count": null,
      "outputs": []
    },
    {
      "cell_type": "code",
      "source": [
        "%%timeit -n25 -r101\n",
        "List03=list(range(1000000))\n",
        "for L in range(1000000):\n",
        "    M =201412 in List03"
      ],
      "metadata": {
        "id": "t6lTbRXzF-9d"
      },
      "execution_count": null,
      "outputs": []
    },
    {
      "cell_type": "code",
      "source": [
        "%%timeit -n25 -r101\n",
        "Tuple02=tuple(range(1000000))\n",
        "for L in range(1000000):\n",
        "    M =201412 in Tuples02"
      ],
      "metadata": {
        "id": "wgh9JSPlH07e"
      },
      "execution_count": null,
      "outputs": []
    },
    {
      "cell_type": "code",
      "source": [
        "%%timeit -n25 -r101\n",
        "Sets02=set(range(1000000))\n",
        "for L in range(1000000):\n",
        "    M =201412 in Sets02"
      ],
      "metadata": {
        "id": "-4WmoHNUIJTu"
      },
      "execution_count": null,
      "outputs": []
    },
    {
      "cell_type": "code",
      "source": [
        "print (\"The End  \\n Thank You\")"
      ],
      "metadata": {
        "colab": {
          "base_uri": "https://localhost:8080/"
        },
        "id": "4pRRm0dkOjbX",
        "outputId": "56757c5c-e01c-468f-96b4-2aff1d09434a"
      },
      "execution_count": null,
      "outputs": [
        {
          "output_type": "stream",
          "name": "stdout",
          "text": [
            "The End  \n",
            " Thank You\n"
          ]
        }
      ]
    }
  ]
}