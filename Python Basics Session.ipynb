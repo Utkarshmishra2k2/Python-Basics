{
  "nbformat": 4,
  "nbformat_minor": 0,
  "metadata": {
    "colab": {
      "private_outputs": true,
      "provenance": [],
      "authorship_tag": "ABX9TyNPlGz25G/rOCKtNTQKt0O9",
      "include_colab_link": true
    },
    "kernelspec": {
      "name": "python3",
      "display_name": "Python 3"
    },
    "language_info": {
      "name": "python"
    }
  },
  "cells": [
    {
      "cell_type": "markdown",
      "metadata": {
        "id": "view-in-github",
        "colab_type": "text"
      },
      "source": [
        "<a href=\"https://colab.research.google.com/github/Utkarshmishra2k2/Python-Basics/blob/main/Python%20Basics%20Session.ipynb\" target=\"_parent\"><img src=\"https://colab.research.google.com/assets/colab-badge.svg\" alt=\"Open In Colab\"/></a>"
      ]
    },
    {
      "cell_type": "markdown",
      "metadata": {
        "id": "ef4d4039"
      },
      "source": [
        "# Introduction"
      ]
    },
    {
      "cell_type": "markdown",
      "metadata": {
        "id": "f92126d2"
      },
      "source": [
        " Why Jupyter Notebook?\n",
        "\n",
        "    Jupyter Notebook is the main environment where many Data Scientists start from because it is\n",
        "    the easiest to understood and integrated with the Anaconda environment."
      ]
    },
    {
      "cell_type": "markdown",
      "metadata": {
        "id": "9d9576f2"
      },
      "source": [
        "How to open Jupyter notebook in system:\n",
        "    \n",
        " Method 1: Using Anaconda Prompt:\n",
        "    1. Search ANACONDA PROMPT in your system\n",
        "    2. type cd followed by path of file\n",
        "    3. type \"Jupyter Notebook\"\n",
        "    \n",
        "Method 2: Open ANACONDA NAVIGATOR in your system and from there you can launch Jupyter Notebook"
      ]
    },
    {
      "cell_type": "code",
      "execution_count": null,
      "metadata": {
        "id": "04461a0e"
      },
      "outputs": [],
      "source": [
        "# How to open file in notebook\n",
        "\n",
        "import pandas as pd\n",
        "data=pd.read_csv(\"C://D Drive//MBA//Stretch Objective//2023//Python Initiative//DummyData.csv\")"
      ]
    },
    {
      "cell_type": "code",
      "execution_count": null,
      "metadata": {
        "id": "7b5ae6f8"
      },
      "outputs": [],
      "source": [
        "data.head()"
      ]
    },
    {
      "cell_type": "code",
      "execution_count": null,
      "metadata": {
        "id": "0d49516a"
      },
      "outputs": [],
      "source": [
        "# How to save file in notebook\n",
        "\n",
        "df=pd.DataFrame(data)\n",
        "df.to_csv(\"DummyData2.csv\")"
      ]
    },
    {
      "cell_type": "markdown",
      "metadata": {
        "id": "383bf3ba"
      },
      "source": [
        "Few Keyboard Shortcuts\n",
        "\n",
        "1. Row above: click \"a\"\n",
        "2. Row Below: click \"b\"\n",
        "3. Delete: double click \"d\""
      ]
    },
    {
      "cell_type": "markdown",
      "metadata": {
        "id": "b544d0e1"
      },
      "source": [
        "# Section 1: Basics of Python"
      ]
    },
    {
      "cell_type": "markdown",
      "metadata": {
        "id": "6d12cddb"
      },
      "source": [
        "## Operators\n",
        "1. \" + \" ==> Addition Operator\n",
        "2. \" - \" ==> Subtraction Operator\n",
        "3. \" * \" ==> Multiplication Operator\n",
        "4. \" / \" ==> Division Operator\n",
        "5. \" = \" ==> Assignment Operator\n",
        "6. \" // \" ==> Integer Divison Operator [Divide and share the lowest possible integer]\n",
        "7. \" % \" ==> Modulo operator [Gives Remainder as an output]\n",
        "8. \" ** \" ==> Power Operator"
      ]
    },
    {
      "cell_type": "code",
      "execution_count": null,
      "metadata": {
        "id": "5a03ecec"
      },
      "outputs": [],
      "source": [
        "## Datatype:\n",
        "int() ==> Integer: 3,5,7\n",
        "float() ==> Float: 2.5, 3.7, 2.0\n",
        "str() ==> String: \"MBA\"\n",
        "bin() ==> Binary: 1,0"
      ]
    },
    {
      "cell_type": "code",
      "execution_count": null,
      "metadata": {
        "id": "22b319af"
      },
      "outputs": [],
      "source": [
        "A=3\n",
        "B=2.7\n",
        "C=\"India\"\n",
        "D=7.0\n",
        "E=\"3\""
      ]
    },
    {
      "cell_type": "code",
      "execution_count": null,
      "metadata": {
        "id": "0f37b05d"
      },
      "outputs": [],
      "source": [
        "print(type(A))\n",
        "print(type(B))\n",
        "print(type(C))\n",
        "print(type(D))\n",
        "print(type(E))"
      ]
    },
    {
      "cell_type": "code",
      "execution_count": null,
      "metadata": {
        "scrolled": true,
        "id": "66bbac53"
      },
      "outputs": [],
      "source": [
        "p=7\n",
        "q=2\n",
        "\n",
        "print(p+q,p-q,p*q,p/q,p//q,p%q,p**q)\n"
      ]
    },
    {
      "cell_type": "code",
      "execution_count": null,
      "metadata": {
        "id": "945f36ca"
      },
      "outputs": [],
      "source": [
        "#Quick Activity:\n",
        "    #Q: A=2**4, B=4**2 check whether A=B or not?\n",
        "\n",
        "#Answer:\n",
        "\n",
        "A=2**4\n",
        "B=4**2\n",
        "A==B"
      ]
    },
    {
      "cell_type": "code",
      "execution_count": null,
      "metadata": {
        "id": "f70ec061"
      },
      "outputs": [],
      "source": [
        "A=6\n",
        "B=10\n",
        "A=B\n",
        "A"
      ]
    },
    {
      "cell_type": "code",
      "execution_count": null,
      "metadata": {
        "id": "54bcbb93"
      },
      "outputs": [],
      "source": [
        "# Let's play with Print Operator"
      ]
    },
    {
      "cell_type": "code",
      "execution_count": null,
      "metadata": {
        "id": "71576994"
      },
      "outputs": [],
      "source": [
        "A=\"Team\"\n",
        "B=\"RJ\"\n",
        "print(A+B)\n",
        "print(A+\"_\"+B)\n",
        "print(A,B)"
      ]
    },
    {
      "cell_type": "code",
      "execution_count": null,
      "metadata": {
        "id": "2f2974e7"
      },
      "outputs": [],
      "source": [
        "#Q. Objective here is to paste both in same line using , as separator\n",
        "A=10\n",
        "B=20\n",
        "print(A+B)\n",
        "print(A-B)\n",
        "print (A+B, A-B)"
      ]
    },
    {
      "cell_type": "code",
      "execution_count": null,
      "metadata": {
        "id": "c6d2628f"
      },
      "outputs": [],
      "source": [
        "#A. Use END function of print [Default option: end=\"/n\"]\n",
        "\n",
        "print(A+B,end=\"_\") #Useful in case of Loop when we want to paste multiple output in single line using some separator\n",
        "print(A-B)"
      ]
    },
    {
      "cell_type": "code",
      "execution_count": null,
      "metadata": {
        "id": "0610886a"
      },
      "outputs": [],
      "source": [
        "# Input Funtion: Using this we can take any value from user [Default Datatype: String]"
      ]
    },
    {
      "cell_type": "code",
      "execution_count": null,
      "metadata": {
        "id": "7aa5082d"
      },
      "outputs": [],
      "source": [
        "A=input()\n",
        "B=input()\n",
        "A+B"
      ]
    },
    {
      "cell_type": "code",
      "execution_count": null,
      "metadata": {
        "id": "ee9c8baf"
      },
      "outputs": [],
      "source": [
        "type(A)"
      ]
    },
    {
      "cell_type": "code",
      "execution_count": null,
      "metadata": {
        "id": "82021edf"
      },
      "outputs": [],
      "source": [
        "print(type(A),type(B))"
      ]
    },
    {
      "cell_type": "code",
      "execution_count": null,
      "metadata": {
        "scrolled": true,
        "id": "47447119"
      },
      "outputs": [],
      "source": [
        "A=int(input())\n",
        "B=int(input())\n",
        "print(A+B, type(A), type(B))"
      ]
    },
    {
      "cell_type": "code",
      "execution_count": null,
      "metadata": {
        "id": "9d48429f"
      },
      "outputs": [],
      "source": [
        "# Conversion from one datatype to other"
      ]
    },
    {
      "cell_type": "code",
      "execution_count": null,
      "metadata": {
        "id": "13de3380"
      },
      "outputs": [],
      "source": [
        "A=\"123\"\n",
        "print(type(A))\n",
        "B=int(A)\n",
        "print(type(B))\n"
      ]
    },
    {
      "cell_type": "code",
      "execution_count": null,
      "metadata": {
        "id": "850b3420"
      },
      "outputs": [],
      "source": [
        "A=30\n",
        "print(type(A),A)\n",
        "B=str(A)\n",
        "print(type(B),B)"
      ]
    },
    {
      "cell_type": "markdown",
      "metadata": {
        "id": "60d9350c"
      },
      "source": [
        "# Section 2: Control Statement [If...else]"
      ]
    },
    {
      "cell_type": "code",
      "execution_count": null,
      "metadata": {
        "id": "8c71585c"
      },
      "outputs": [],
      "source": [
        "a=4\n",
        "b=5\n",
        "a>b or b>a"
      ]
    },
    {
      "cell_type": "code",
      "execution_count": null,
      "metadata": {
        "id": "dbbb1531"
      },
      "outputs": [],
      "source": [
        "a=40\n",
        "b=5\n",
        "if a>b:\n",
        "             print(\"a is larger than b\")\n",
        "else:\n",
        "            print(\"b is larger than a\")\n",
        "\n",
        "## Always use colon : to create a block for if & else,the spaces below if & else is called \"intends\" \"intendation\""
      ]
    },
    {
      "cell_type": "code",
      "execution_count": null,
      "metadata": {
        "id": "33c69018"
      },
      "outputs": [],
      "source": [
        "if <condition>:\n",
        "    <BODY>\n",
        "else:\n",
        "    <BODY>"
      ]
    },
    {
      "cell_type": "code",
      "execution_count": null,
      "metadata": {
        "id": "48d5c7ae"
      },
      "outputs": [],
      "source": [
        "A%7"
      ]
    },
    {
      "cell_type": "code",
      "execution_count": null,
      "metadata": {
        "id": "ff6cdeb5"
      },
      "outputs": [],
      "source": [
        "A=115\n",
        "A%10"
      ]
    },
    {
      "cell_type": "code",
      "execution_count": null,
      "metadata": {
        "id": "714bd10e"
      },
      "outputs": [],
      "source": [
        "# Read a number and check whether divisible by 7 or not\n",
        "\n",
        "A=int(input())\n",
        "if A%7==0:\n",
        "    print(A,\"is divisible by 7\")\n",
        "else:\n",
        "    print(A,\"is not divisible by 7\")"
      ]
    },
    {
      "cell_type": "code",
      "execution_count": null,
      "metadata": {
        "id": "3f85a5ab"
      },
      "outputs": [],
      "source": [
        "# Read a number and check whether last digit is 4 or not\n",
        "\n",
        "A=int(input())\n",
        "if A%10==4:\n",
        "    print(\"Last digit is 4\")\n",
        "else:\n",
        "    print(\"Last digit is not 4\")"
      ]
    },
    {
      "cell_type": "code",
      "execution_count": null,
      "metadata": {
        "id": "9c3fac1c"
      },
      "outputs": [],
      "source": [
        "# Read a number and check whether last digit is 4 or not & divisible by 3 or not\n",
        "# If we want to check two condition at a time and both condition need to be satisfy use AND operator\n",
        "#If we want to check two condition at a time but need only one condition to be satisfy use OR operator\n",
        "\n",
        "A=int(input())\n",
        "if (A%10==4 or A%3==0):\n",
        "    print(\"Yes\")\n",
        "else:\n",
        "    print(\"No\")"
      ]
    },
    {
      "cell_type": "code",
      "execution_count": null,
      "metadata": {
        "id": "da30e813"
      },
      "outputs": [],
      "source": [
        "# Nested Control Statement [if - elif [\"elif\" is shortcut of \"elseif\"] - else] - Used when we have multiple conditions to check"
      ]
    },
    {
      "cell_type": "code",
      "execution_count": null,
      "metadata": {
        "id": "f9aed074"
      },
      "outputs": [],
      "source": [
        "8# Read 3 integers and print their maximum\n",
        "\n",
        "a=int(input())\n",
        "b=int(input())\n",
        "c=int(input())\n",
        "\n",
        "if (a>b and a>c):\n",
        "    print(\"Maximum is:\",a)\n",
        "elif (b>a and b>c):\n",
        "    print(\"Maximum is:\",b)\n",
        "elif (c>a and c>b):\n",
        "    print(\"Maximum is:\",c)\n",
        "else:\n",
        "    print(\"Please try with different numbers\")"
      ]
    },
    {
      "cell_type": "code",
      "execution_count": null,
      "metadata": {
        "id": "2d9857a0"
      },
      "outputs": [],
      "source": [
        "## Task 1\n",
        "# read the three angles of triangle and figure out the type of triangle\n",
        "\n",
        "a=int(input())\n",
        "b=int(input())\n",
        "c=int(input())\n",
        "\n",
        "if ((a+b+c == 180) and (a<90 and b<90 and c<90)):\n",
        "    print(\"Acute Angled Triangle\")\n",
        "elif ((a+b+c == 180) and (a>90 or b>90 or c>90)):\n",
        "    print(\"Obtuse Angled Triangle\")\n",
        "else:\n",
        "    print(\"Right Angled Triangle\")"
      ]
    },
    {
      "cell_type": "markdown",
      "metadata": {
        "id": "bcbd0851"
      },
      "source": [
        "# Section 3: Loop"
      ]
    },
    {
      "cell_type": "code",
      "execution_count": null,
      "metadata": {
        "id": "4d83659c"
      },
      "outputs": [],
      "source": [
        "# Whenever you want to replicate any task multiple time, we can use Loop\n",
        "# There are two types of loops in Python \"For\" and \"While\""
      ]
    },
    {
      "cell_type": "code",
      "execution_count": null,
      "metadata": {
        "id": "a3e66710"
      },
      "outputs": [],
      "source": [
        "# While Loop work until the given condition satisfied\n",
        "\n",
        "# loop follow four step namely: Initialization, Condition, Update & Work."
      ]
    },
    {
      "cell_type": "code",
      "execution_count": null,
      "metadata": {
        "id": "cc42c1e2"
      },
      "outputs": [],
      "source": [
        "# Print \"I love Python\" using while loop\n",
        "\n",
        "#Initialization\n",
        "\n",
        "i=0.\n",
        "\n",
        "# Condition\n",
        "while (i<5):\n",
        "    i=i+1 #update\n",
        "    print(\"I love Python\",end=\",\") #work"
      ]
    },
    {
      "cell_type": "code",
      "execution_count": null,
      "metadata": {
        "id": "42a4c87f"
      },
      "outputs": [],
      "source": [
        "# Print \"I love Stats\" using while loop in one line\n",
        "\n",
        "#Initialization\n",
        "\n",
        "i=0.\n",
        "\n",
        "# Condition\n",
        "while (i<5):\n",
        "    i=i+1 #update\n",
        "    print(\"I love Stats\",end=\" \") #work"
      ]
    },
    {
      "cell_type": "code",
      "execution_count": null,
      "metadata": {
        "id": "28e6cac8"
      },
      "outputs": [],
      "source": [
        "#Print all natural from 1 to 10\n",
        "\n",
        "#Option 1\n",
        "#Initialization\n",
        "\n",
        "i=0\n",
        "\n",
        "#Condition\n",
        "\n",
        "while (i<10):\n",
        "    i=i+1 #update\n",
        "    print(i,end=\",\") #work\n",
        "\n",
        "print(\"\\n\")\n",
        "#Option 2\n",
        "\n",
        "i=1\n",
        "while i<=10:\n",
        "    print(i,end=\",\")\n",
        "    i=i+1"
      ]
    },
    {
      "cell_type": "code",
      "execution_count": null,
      "metadata": {
        "id": "9313351c"
      },
      "outputs": [],
      "source": [
        "# print all integers from 1 to N [Where N means user input number]\n",
        "\n",
        "i=1 #I\n",
        "j=int(input())\n",
        "while (i<=j):\n",
        "    print(i,end=\",\")\n",
        "    i=i+1"
      ]
    },
    {
      "cell_type": "code",
      "execution_count": null,
      "metadata": {
        "id": "97e24913"
      },
      "outputs": [],
      "source": [
        "# print all odd integers from 1 to N [Where N=User Input]\n",
        "\n",
        "i=1\n",
        "j=int(input())\n",
        "while (i<=j):\n",
        "    if i%2==1:\n",
        "        print(i,end=\" \")\n",
        "    i=i+1"
      ]
    },
    {
      "cell_type": "code",
      "execution_count": null,
      "metadata": {
        "id": "5b38b582"
      },
      "outputs": [],
      "source": [
        "# For Loop:\n",
        "\n",
        "# Range Method\n",
        "# it is use to generate the range of integers\n",
        "# range(start,end,increment)\n",
        "#==> Start - Starting number, default is \"0\"\n",
        "#==> end - end of range, python returns numbers < end that means if end value is 6 then the last number return by python will be 5 (numbers<6) [in case of negative icremental value will be number>end]\n",
        "#==> increment - numbers by which you want to increase your previous number [Default is 1]\n",
        "\n",
        "#range(6): Since we have 1 number as input, python will consider this value as END value and will return numbers start from 0 to 5\n",
        "#range(2,6): Python will consider first number as starting point and second number as ending point [Output: 2,3,4,5]\n",
        "#range(1,10,2): First No = Starting point, Second No.=Ending point, Third No= incremental value [Output:1,3,5,7,9]\n",
        "#range(10,0,-2): Start from 10 till 1 by difference of 2 [10,8,6,4,2]\n",
        "\n",
        "# body\n",
        "\n",
        "# for i in range(start,end,increment):"
      ]
    },
    {
      "cell_type": "code",
      "execution_count": null,
      "metadata": {
        "id": "d0f9f1de"
      },
      "outputs": [],
      "source": [
        "for i in range(10):\n",
        "    print(i,end=\" \")"
      ]
    },
    {
      "cell_type": "code",
      "execution_count": null,
      "metadata": {
        "id": "c61b984a"
      },
      "outputs": [],
      "source": [
        "# Print square of i\n",
        "\n",
        "for i in range(10):\n",
        "    print(i**2,end=\" \")"
      ]
    },
    {
      "cell_type": "code",
      "execution_count": null,
      "metadata": {
        "id": "4c14fbed"
      },
      "outputs": [],
      "source": [
        "# print all odd integers from 1 to N\n",
        "\n",
        "N=int(input())\n",
        "for i in range(1,N+1):\n",
        "    if (i%2==1):\n",
        "        print(i,end=\" \")"
      ]
    },
    {
      "cell_type": "code",
      "execution_count": null,
      "metadata": {
        "id": "6b83516a"
      },
      "outputs": [],
      "source": [
        "# For Loop VS While Loop\n",
        "\n",
        "#1. Use FOR loop when you have a fixed range\n",
        "#2. Use WHILE loop for all other cases\n",
        "#3. There is no difference in performance. Both loops would take the same amount of time.\n",
        "#4. FOR loop has a cleaner syntax"
      ]
    },
    {
      "cell_type": "code",
      "execution_count": null,
      "metadata": {
        "id": "1b447461"
      },
      "outputs": [],
      "source": [
        "# Given N, print it's factor\n",
        "\n",
        "N=int(input())\n",
        "for i in range(1,N+1):\n",
        "    if N%i==0:\n",
        "        print(i,end=\" \")"
      ]
    },
    {
      "cell_type": "code",
      "execution_count": null,
      "metadata": {
        "id": "515feb35"
      },
      "outputs": [],
      "source": [
        "# Given N, return a power b\n",
        "\n",
        "A=int(input())\n",
        "B=int(input())\n",
        "ans=1\n",
        "for i in range(1,B+1):\n",
        "    ans=A*ans\n",
        "print(ans)"
      ]
    },
    {
      "cell_type": "markdown",
      "metadata": {
        "id": "0d9ed5c8"
      },
      "source": [
        "# Section 4: Hands-On-Practice"
      ]
    },
    {
      "cell_type": "code",
      "execution_count": null,
      "metadata": {
        "id": "0e810d1d"
      },
      "outputs": [],
      "source": [
        "Task 1: On the basis of side of triangles figure out the type of triangle\n",
        "Note: We need to take all the inputs from user\n",
        "\n",
        "    [Equilateral Triangle: All Sides are equal, Isoscele Triangle: 2 sides are equal, Scalene: No sides are equal ]\n",
        "\n",
        "Hint: Use If.. elif.. else"
      ]
    },
    {
      "cell_type": "code",
      "source": [
        "side1, side2, side3 = map(int, input(\"Enter Sides All \"))\n",
        "print(f\"Given triangle sides are {side1},{side2} & {side3}.\")\n",
        "if side1 == side2 and side2 == side3:\n",
        " print(\"Equilateral Triangle\")\n",
        "elif side1 == side2 or side2 == side3 or side1 == side3:\n",
        " print(\"Isosceles Triangle\")\n",
        "else:\n",
        " print(\"Scalene Triangle\")"
      ],
      "metadata": {
        "id": "KGn986KlkVbk"
      },
      "execution_count": null,
      "outputs": []
    },
    {
      "cell_type": "code",
      "execution_count": null,
      "metadata": {
        "id": "26dcfc60"
      },
      "outputs": [],
      "source": [
        "Task 2: Between 1 to 100, print all the numbers multiple of 4 using while loop"
      ]
    },
    {
      "cell_type": "code",
      "source": [
        "number = 4\n",
        "while number <= 100:\n",
        " print(number)\n",
        " number += 4"
      ],
      "metadata": {
        "id": "ISODPPLgkZZq"
      },
      "execution_count": null,
      "outputs": []
    },
    {
      "cell_type": "code",
      "source": [
        "number = 1\n",
        "while number <= 100:\n",
        " if number % 4 == 0:\n",
        "    print(number)\n",
        " number += 1"
      ],
      "metadata": {
        "id": "bFnDlZdVkfAi"
      },
      "execution_count": null,
      "outputs": []
    },
    {
      "cell_type": "code",
      "execution_count": null,
      "metadata": {
        "id": "80515b02"
      },
      "outputs": [],
      "source": [
        "Task 3: Print all even number from 20 to 1 using For Loop"
      ]
    },
    {
      "cell_type": "code",
      "execution_count": null,
      "metadata": {
        "id": "834eda2a",
        "collapsed": true
      },
      "outputs": [],
      "source": [
        "Task 4: Given N=4, print below pattern using loop\n",
        "    *\n",
        "    **\n",
        "    ***\n",
        "    ****"
      ]
    },
    {
      "cell_type": "code",
      "source": [
        "i = 0\n",
        "while (i<6):\n",
        " print(\"*\"*i)\n",
        " i+=1"
      ],
      "metadata": {
        "id": "kZMFHozDj7dS"
      },
      "execution_count": null,
      "outputs": []
    },
    {
      "cell_type": "code",
      "execution_count": null,
      "metadata": {
        "id": "f3e2bb48"
      },
      "outputs": [],
      "source": [
        "# BREAK statement\n",
        "# It is one of the loop control statement\n",
        "#Used to break out of the enclosing loop\n",
        "#if you want to stop loop at any point, you can use Break statement to stop loop\n",
        "\n",
        "#In the below loop i want to discontinue the loop once the value of i reaches 50\n",
        "\n",
        "for i in range(1,100):\n",
        "    print(i,end=\" \")\n",
        "    if i==50:\n",
        "        break\n"
      ]
    },
    {
      "cell_type": "code",
      "execution_count": null,
      "metadata": {
        "id": "bcaf033d",
        "collapsed": true
      },
      "outputs": [],
      "source": [
        "#Loop 2: Assignment 4\n",
        "\n",
        "N=int(input()) #Balance in Bank Account\n",
        "M=int(input())\n",
        "for i in range(M):\n",
        "    Type,Amount=map(int,input().split())\n",
        "    if Type==1:\n",
        "        N=N+Amount\n",
        "        print(N)\n",
        "    if Type==2:\n",
        "        if Amount>N:\n",
        "            print(\"Insufficient Funds\")\n",
        "            break\n",
        "        N=N-Amount\n",
        "        print(N)"
      ]
    },
    {
      "cell_type": "code",
      "execution_count": null,
      "metadata": {
        "id": "8db2b745"
      },
      "outputs": [],
      "source": [
        "# Continue Statement\n",
        "# it is used to skip an iteration of the loop\n",
        "\n",
        "# I want to print numbers from 1 to 20 except the multiple of 3\n",
        "\n",
        "for i in range(1,21):\n",
        "    if i%3==0:\n",
        "        continue\n",
        "    print(i,end=\" \")"
      ]
    },
    {
      "cell_type": "code",
      "execution_count": null,
      "metadata": {
        "id": "b4384e2c"
      },
      "outputs": [],
      "source": [
        "# Generate & Print random numbers from 1 to 10 until you reach 5\n",
        "# For random number, always import module called \"random\"\n",
        "\n",
        "import random\n",
        "\n",
        "while True:  #Infinite loop because it consider the condition as always true\n",
        "    x=random.randint(1,10) # It is a funtion to generate random number between given range i.e 1 to 10 in this case\n",
        "    if (x==5):\n",
        "        break\n",
        "    print(x,end=\" \")\n"
      ]
    },
    {
      "cell_type": "code",
      "execution_count": null,
      "metadata": {
        "id": "30799e2b"
      },
      "outputs": [],
      "source": [
        "# Generate & Print random numbers from 1 to 10 until you reach 5  & want to skip multiple of 4\n",
        "\n",
        "import random\n",
        "\n",
        "while True:  #Infinite loop because it consider the condition as always true\n",
        "    x=random.randint(1,10) # It is a funtion to generate random number between given range i.e 1 to 10 in this case\n",
        "    if (x==5):\n",
        "        break\n",
        "    elif (x%4==0):\n",
        "        continue\n",
        "    print(x,end=\" \")\n"
      ]
    },
    {
      "cell_type": "code",
      "execution_count": null,
      "metadata": {
        "id": "9854e733"
      },
      "outputs": [],
      "source": [
        "# Pattern Problems"
      ]
    },
    {
      "cell_type": "code",
      "execution_count": null,
      "metadata": {
        "id": "dbfa289a"
      },
      "outputs": [],
      "source": [
        "# Given N, print N no of stars\n",
        "\n",
        "N=int(input())\n",
        "for i in range(N):\n",
        "    print(\"*\",end=\"\")"
      ]
    },
    {
      "cell_type": "code",
      "execution_count": null,
      "metadata": {
        "id": "5a469e11"
      },
      "outputs": [],
      "source": [
        "# Given N=3, M=5 print 3*5 matrix\n",
        "\n",
        "N=int(input())\n",
        "M=int(input())\n",
        "for i in range(N):\n",
        "    for j in range (M):\n",
        "        print(\"*\",end=\" \")\n",
        "    print(end=\"\\n\") # or we can write print() as well because blank in print by default take the cursor on next line\n",
        "\n",
        "# if we will use print(\"\\n\") then it will add 1 extra blank row between two rows because the print() will by.....\n",
        "#.....default move cursor to next line but because of \\n it will again move curson to next line hence extra one line\n",
        "# Loop inside loop is called \"Nested Loop\""
      ]
    },
    {
      "cell_type": "code",
      "execution_count": null,
      "metadata": {
        "id": "60bacc75"
      },
      "outputs": [],
      "source": [
        "# Given N=4, Print below star pattern\n",
        "# *\n",
        "# **\n",
        "# ***\n",
        "# ****\n",
        "\n",
        "#Option 1\n",
        "for i in range(0,6,1):\n",
        " print(\"*\"*i)\n",
        "print()\n",
        "\n",
        "#Option 2\n",
        "i = 0\n",
        "while (i<6):\n",
        " print(\"*\"*i)\n",
        " i+=1\n",
        "print()\n",
        "\n",
        "#Option 3\n",
        "N=5\n",
        "for i in range(1,N+1):\n",
        "    for j in range(i):\n",
        "        print(\"*\",end=\"\")\n",
        "    print()"
      ]
    },
    {
      "cell_type": "code",
      "execution_count": null,
      "metadata": {
        "id": "5f299017"
      },
      "outputs": [],
      "source": [
        "# Given N=4, print reverse star pattern (****,***,**,*)\n",
        "\n",
        "#Option 1\n",
        "for i in range(6,0,-1):\n",
        " print(\"*\"*i)\n",
        "print()\n",
        "\n",
        "#Option 2\n",
        "i = 6\n",
        "while (i>0):\n",
        " print(\"*\"*i)\n",
        " i-=1\n",
        "print()\n",
        "\n",
        "#Option 3\n",
        "N=4\n",
        "for i in range(6,0,-1):\n",
        "    for j in range(i):\n",
        "        print(\"*\",end=\"\")\n",
        "    print()"
      ]
    },
    {
      "cell_type": "code",
      "execution_count": null,
      "metadata": {
        "id": "e1f02183"
      },
      "outputs": [],
      "source": [
        "# Given N=5, print below pattern\n",
        "# 1\n",
        "# 1*\n",
        "# 1*3\n",
        "# 1*3*\n",
        "# 1*3*5\n",
        "\n",
        "#Option 1\n",
        "N=5\n",
        "for i in range(1,N+1):\n",
        "    for j in range(1,i+1):\n",
        "        if j%2==0:\n",
        "            print(\"*\",end=\"\")\n",
        "        else:\n",
        "            print(j,end=\"\")\n",
        "    print()\n",
        "\n",
        "print()\n",
        "\n",
        "#Option 2\n",
        "N=5\n",
        "for i in range(1,N+1):\n",
        "    for j in range(1,i+1):\n",
        "        if j%2==0:\n",
        "            print(\"*\",end=\"\")\n",
        "        else:\n",
        "            print(j,end=\"\")\n",
        "    print()"
      ]
    },
    {
      "cell_type": "code",
      "execution_count": null,
      "metadata": {
        "id": "1c18db80"
      },
      "outputs": [],
      "source": [
        "# Given N print below pattern [First line 5 spaces, then 4 then 3 and so on..]\n",
        "\n",
        "#Option 1\n",
        "for i in range(6,0,-1):\n",
        " print(\"*\",\" \"*i,\"*\")\n",
        "print()\n",
        "\n",
        "#Option 1\n",
        "N=5\n",
        "for i in range(1,N+1):\n",
        "    print(\"*\",end=\"\")\n",
        "    for j in range(N+1-i):\n",
        "        print(\" \",end=\"\")\n",
        "    print(\"*\")"
      ]
    },
    {
      "cell_type": "code",
      "source": [
        "# Given N=4, Print below star pattern\n",
        "# *  *\n",
        "# *  *\n",
        "# *  *\n",
        "# *  *\n",
        "# 3 Spaces excatly\n",
        "\n",
        "#Option 1\n",
        "for i in range(0,5,1):\n",
        " print(\"*\",\" \"*3,\"*\")\n",
        "print()\n",
        "\n",
        "#Option 2\n",
        "i = 0\n",
        "while (i<6):\n",
        " print(\"*\",\" \"*3,\"*\")\n",
        " i+=1\n",
        "print()"
      ],
      "metadata": {
        "id": "X-oxUOf0rWWv"
      },
      "execution_count": null,
      "outputs": []
    },
    {
      "cell_type": "code",
      "execution_count": null,
      "metadata": {
        "id": "bde6b21c"
      },
      "outputs": [],
      "source": [
        "# Given N=5, print below pattern\n",
        "#    *\n",
        "#   **\n",
        "#  ***\n",
        "# ****\n",
        "#*****\n",
        "\n",
        "#Option 1\n",
        "for i in range(1, 6):\n",
        " print(' ' * (6 - i) + '*' * i)\n",
        "print()\n",
        "\n",
        "#Option 2\n",
        "N=5\n",
        "for i in range(1,N+1):\n",
        "    for j in range(N-i):\n",
        "        print(\" \",end=\"\")\n",
        "    for k in range(i):\n",
        "        print(\"*\",end=\"\")\n",
        "    print()\n",
        "print()\n",
        "\n",
        "#Option 3\n",
        "N = 5\n",
        "i = 1\n",
        "while i <= N:\n",
        "    j = 0\n",
        "    while j < (N - i):\n",
        "        print(\" \", end=\"\")\n",
        "        j += 1\n",
        "    k = 0\n",
        "    while k < i:\n",
        "        print(\"*\", end=\"\")\n",
        "        k += 1\n",
        "    print()\n",
        "    i += 1\n"
      ]
    },
    {
      "cell_type": "code",
      "execution_count": null,
      "metadata": {
        "id": "f6e66dbc"
      },
      "outputs": [],
      "source": [
        "# Given N=5, print below pattern\n",
        "# *****\n",
        "#  ****\n",
        "#  ***\n",
        "#   **\n",
        "#    *\n",
        "# *****\n",
        "# ****\n",
        "#  ***\n",
        "#   **\n",
        "#    *\n",
        "\n",
        "\n",
        "#Option 1\n",
        "N = 5\n",
        "for i in range(N):\n",
        "    for j in range(i):\n",
        "        print(\" \", end=\"\")\n",
        "    for k in range(N - i):\n",
        "        print(\"*\", end=\"\")\n",
        "    print()\n",
        "\n",
        "\n",
        "#option 2\n",
        "N = 5\n",
        "for i in range(1, N + 1):\n",
        "    for j in range(i - 1):\n",
        "        print(\" \", end=\"\")\n",
        "    for k in range(N + 1 - i):\n",
        "        print(\"*\", end=\"\")\n",
        "    print()\n"
      ]
    },
    {
      "cell_type": "code",
      "execution_count": null,
      "metadata": {
        "id": "7cd6d502"
      },
      "outputs": [],
      "source": [
        "# Even number from N to 1 using while loop\n",
        "i = 20\n",
        "while (i>1):\n",
        " if i%2==0:\n",
        "    print(i, end=\" \" )\n",
        " i -=1"
      ]
    },
    {
      "cell_type": "code",
      "source": [
        "# Sum of number using while loop\n",
        "i = 1\n",
        "sum = 0\n",
        "while (i<10):\n",
        "    sum+=i\n",
        "    i +=1\n",
        "    print(sum)"
      ],
      "metadata": {
        "id": "XT-QYduuuN-C"
      },
      "execution_count": null,
      "outputs": []
    },
    {
      "cell_type": "code",
      "source": [
        "# Calculate the sum of the individual digits of the number.\n",
        "#Option 1\n",
        "T = int(input(\"Enter the number of test cases: \"))\n",
        "i = 1\n",
        "while i <= T:\n",
        "    num = int(input(\"Enter a number: \"))\n",
        "    add = 0\n",
        "    while num > 0:\n",
        "        b = num % 10\n",
        "        add += b\n",
        "        num //= 10\n",
        "    print(add)\n",
        "    i += 1\n",
        "\n",
        "\n",
        "#Option 2\n",
        "T = int(input(\"Enter the number of test cases: \"))\n",
        "for _ in range(T):\n",
        "    num = int(input(\"Enter a number: \"))\n",
        "    print(sum(int(digit) for digit in str(num)))\n",
        "\n",
        "#Option 3\n",
        "def cal(data):\n",
        "    total = 0\n",
        "    res = [int(x) for x in str(data)]\n",
        "    for ele in res:\n",
        "        total += ele\n",
        "    print(\"Sum of all digits in the given number:\", total)\n",
        "\n",
        "i = 0\n",
        "number = int(input(\"How many times do you need? \"))\n",
        "while i < number:\n",
        "    data_01 = input(\"Enter a number: \")\n",
        "    cal(data_01)\n",
        "    i += 1\n"
      ],
      "metadata": {
        "id": "ZVbWbIjgutg-"
      },
      "execution_count": null,
      "outputs": []
    },
    {
      "cell_type": "code",
      "source": [
        "print(\"End\")"
      ],
      "metadata": {
        "id": "fFkzD1nBvVFk"
      },
      "execution_count": null,
      "outputs": []
    }
  ]
}