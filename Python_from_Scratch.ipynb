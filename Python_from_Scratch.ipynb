{
  "nbformat": 4,
  "nbformat_minor": 0,
  "metadata": {
    "colab": {
      "private_outputs": true,
      "provenance": [],
      "authorship_tag": "ABX9TyO8BN+evQpgO/jSp/8jngjq",
      "include_colab_link": true
    },
    "kernelspec": {
      "name": "python3",
      "display_name": "Python 3"
    },
    "language_info": {
      "name": "python"
    }
  },
  "cells": [
    {
      "cell_type": "markdown",
      "metadata": {
        "id": "view-in-github",
        "colab_type": "text"
      },
      "source": [
        "<a href=\"https://colab.research.google.com/github/Utkarshmishra2k2/Python-Basics/blob/main/Python_from_Scratch.ipynb\" target=\"_parent\"><img src=\"https://colab.research.google.com/assets/colab-badge.svg\" alt=\"Open In Colab\"/></a>"
      ]
    },
    {
      "cell_type": "markdown",
      "metadata": {
        "id": "ef4d4039"
      },
      "source": [
        "# Introduction"
      ]
    },
    {
      "cell_type": "markdown",
      "metadata": {
        "id": "f92126d2"
      },
      "source": [
        " Why Jupyter Notebook?\n",
        "\n",
        "    Jupyter Notebook is the main environment where many Data Scientists start from because it is\n",
        "    the easiest to understood and integrated with the Anaconda environment."
      ]
    },
    {
      "cell_type": "markdown",
      "metadata": {
        "id": "9d9576f2"
      },
      "source": [
        "How to open Jupyter notebook in system:\n",
        "    \n",
        " Method 1: Using Anaconda Prompt:\n",
        "    1. Search ANACONDA PROMPT in your system\n",
        "    2. type cd followed by path of file\n",
        "    3. type \"Jupyter Notebook\"\n",
        "    \n",
        "Method 2: Open ANACONDA NAVIGATOR in your system and from there you can launch Jupyter Notebook"
      ]
    },
    {
      "cell_type": "code",
      "execution_count": null,
      "metadata": {
        "id": "04461a0e"
      },
      "outputs": [],
      "source": [
        "# How to open file in notebook\n",
        "\n",
        "import pandas as pd\n",
        "data=pd.read_csv(\"C://D Drive//MBA//Stretch Objective//2023//Python Initiative//DummyData.csv\")"
      ]
    },
    {
      "cell_type": "code",
      "execution_count": null,
      "metadata": {
        "id": "7b5ae6f8"
      },
      "outputs": [],
      "source": [
        "data.head()"
      ]
    },
    {
      "cell_type": "code",
      "execution_count": null,
      "metadata": {
        "id": "0d49516a"
      },
      "outputs": [],
      "source": [
        "# How to save file in notebook\n",
        "\n",
        "df=pd.DataFrame(data)\n",
        "df.to_csv(\"DummyData2.csv\")"
      ]
    },
    {
      "cell_type": "markdown",
      "metadata": {
        "id": "383bf3ba"
      },
      "source": [
        "Few Keyboard Shortcuts\n",
        "\n",
        "1. Row above: click \"a\"\n",
        "2. Row Below: click \"b\"\n",
        "3. Delete: double click \"d\""
      ]
    },
    {
      "cell_type": "markdown",
      "metadata": {
        "id": "b544d0e1"
      },
      "source": [
        "# Section 1: Basics of Python"
      ]
    },
    {
      "cell_type": "markdown",
      "metadata": {
        "id": "6d12cddb"
      },
      "source": [
        "## Operators\n",
        "1. \" + \" ==> Addition Operator\n",
        "2. \" - \" ==> Subtraction Operator\n",
        "3. \" * \" ==> Multiplication Operator\n",
        "4. \" / \" ==> Division Operator\n",
        "5. \" = \" ==> Assignment Operator\n",
        "6. \" // \" ==> Integer Divison Operator [Divide and share the lowest possible integer]\n",
        "7. \" % \" ==> Modulo operator [Gives Remainder as an output]\n",
        "8. \" ** \" ==> Power Operator"
      ]
    },
    {
      "cell_type": "code",
      "execution_count": null,
      "metadata": {
        "id": "5a03ecec"
      },
      "outputs": [],
      "source": [
        "## Datatype:\n",
        "int() ==> Integer: 3,5,7\n",
        "float() ==> Float: 2.5, 3.7, 2.0\n",
        "str() ==> String: \"MBA\"\n",
        "bin() ==> Binary: 1,0"
      ]
    },
    {
      "cell_type": "code",
      "execution_count": null,
      "metadata": {
        "id": "22b319af"
      },
      "outputs": [],
      "source": [
        "A=3\n",
        "B=2.7\n",
        "C=\"India\"\n",
        "D=7.0\n",
        "E=\"3\""
      ]
    },
    {
      "cell_type": "code",
      "execution_count": null,
      "metadata": {
        "id": "0f37b05d"
      },
      "outputs": [],
      "source": [
        "print(type(A))\n",
        "print(type(B))\n",
        "print(type(C))\n",
        "print(type(D))\n",
        "print(type(E))"
      ]
    },
    {
      "cell_type": "code",
      "execution_count": null,
      "metadata": {
        "id": "66bbac53"
      },
      "outputs": [],
      "source": [
        "p=7\n",
        "q=2\n",
        "\n",
        "print(p+q,p-q,p*q,p/q,p//q,p%q,p**q)\n"
      ]
    },
    {
      "cell_type": "code",
      "execution_count": null,
      "metadata": {
        "id": "945f36ca"
      },
      "outputs": [],
      "source": [
        "#Quick Activity:\n",
        "    #Q: A=2**4, B=4**2 check whether A=B or not?\n",
        "\n",
        "#Answer:\n",
        "\n",
        "A=2**4\n",
        "B=4**2\n",
        "A==B"
      ]
    },
    {
      "cell_type": "code",
      "execution_count": null,
      "metadata": {
        "id": "54bcbb93"
      },
      "outputs": [],
      "source": [
        "# Let's play with Print Operator"
      ]
    },
    {
      "cell_type": "code",
      "execution_count": null,
      "metadata": {
        "id": "71576994"
      },
      "outputs": [],
      "source": [
        "A=\"Team\"\n",
        "B=\"MBA\"\n",
        "print(A+B)\n",
        "print(A+\" \"+B)\n",
        "print(A,B)"
      ]
    },
    {
      "cell_type": "code",
      "execution_count": null,
      "metadata": {
        "id": "2f2974e7"
      },
      "outputs": [],
      "source": [
        "#Q. Objective here is to paste both in same line using , as separator\n",
        "A=10\n",
        "B=20\n",
        "print(A+B)\n",
        "print(A-B)\n",
        "print (A+B, A-B)"
      ]
    },
    {
      "cell_type": "code",
      "execution_count": null,
      "metadata": {
        "id": "c6d2628f"
      },
      "outputs": [],
      "source": [
        "#A. Use END function of print [Default option: end=\"/n\"]\n",
        "\n",
        "print(A+B,end=\",\") #Useful in case of Loop when we want to paste multiple output in single line using some separator\n",
        "print(A-B)"
      ]
    },
    {
      "cell_type": "code",
      "execution_count": null,
      "metadata": {
        "id": "0610886a"
      },
      "outputs": [],
      "source": [
        "# Input Funtion: Using this we can take any value from user [Default Datatype: String]"
      ]
    },
    {
      "cell_type": "code",
      "execution_count": null,
      "metadata": {
        "id": "7aa5082d"
      },
      "outputs": [],
      "source": [
        "A=input()\n",
        "B=input()\n",
        "A+B"
      ]
    },
    {
      "cell_type": "code",
      "execution_count": null,
      "metadata": {
        "id": "82021edf"
      },
      "outputs": [],
      "source": [
        "print(type(A),type(B))"
      ]
    },
    {
      "cell_type": "code",
      "execution_count": null,
      "metadata": {
        "id": "47447119"
      },
      "outputs": [],
      "source": [
        "A=int(input())\n",
        "B=int(input())\n",
        "print(A+B, type(A), type(B))"
      ]
    },
    {
      "cell_type": "code",
      "execution_count": null,
      "metadata": {
        "id": "9d48429f"
      },
      "outputs": [],
      "source": [
        "# Conversion from one datatype to other"
      ]
    },
    {
      "cell_type": "code",
      "execution_count": null,
      "metadata": {
        "id": "13de3380"
      },
      "outputs": [],
      "source": [
        "A=\"123\"\n",
        "print(type(A))\n",
        "B=int(A)\n",
        "print(type(B))\n"
      ]
    },
    {
      "cell_type": "code",
      "execution_count": null,
      "metadata": {
        "id": "850b3420"
      },
      "outputs": [],
      "source": [
        "A=30\n",
        "print(type(A),A)\n",
        "B=str(A)\n",
        "print(type(B),B)"
      ]
    },
    {
      "cell_type": "markdown",
      "metadata": {
        "id": "60d9350c"
      },
      "source": [
        "# Section 2: Control Statement [If...else]"
      ]
    },
    {
      "cell_type": "code",
      "execution_count": null,
      "metadata": {
        "id": "dbbb1531"
      },
      "outputs": [],
      "source": [
        "a=4\n",
        "b=5\n",
        "if a>b:\n",
        "    print(\"a is larger than b\")\n",
        "else:\n",
        "    print(\"b is larger than a\")\n",
        "\n",
        "## Always use colon : to create a block for if & else,the spaces below if & else is called \"intends\" \"intendation\""
      ]
    },
    {
      "cell_type": "code",
      "execution_count": null,
      "metadata": {
        "id": "714bd10e"
      },
      "outputs": [],
      "source": [
        "# Read a number and check whether divisible by 7 or not\n",
        "\n",
        "A=int(input())\n",
        "if A%7==0:\n",
        "    print(A,\"is divisible by 7\")\n",
        "else:\n",
        "    print(A,\"is not divisible by 7\")"
      ]
    },
    {
      "cell_type": "code",
      "execution_count": null,
      "metadata": {
        "id": "3f85a5ab"
      },
      "outputs": [],
      "source": [
        "# Read a number and check whether last digit is 4 or not\n",
        "\n",
        "A=int(input())\n",
        "if A%10==4:\n",
        "    print(\"Last digit is 4\")\n",
        "else:\n",
        "    print(\"Last digit is not 4\")"
      ]
    },
    {
      "cell_type": "code",
      "execution_count": null,
      "metadata": {
        "id": "9c3fac1c"
      },
      "outputs": [],
      "source": [
        "# Read a number and check whether last digit is 4 or not & divisible by 3 or not\n",
        "# If we want to check two condition at a time and both condition need to be satisfy use AND operator\n",
        "#If we want to check two condition at a time but need only one condition to be satisfy use OR operator\n",
        "\n",
        "A=int(input())\n",
        "if (A%10==4 and A%3==0):\n",
        "    print(\"Yes\")\n",
        "else:\n",
        "    print(\"No\")"
      ]
    },
    {
      "cell_type": "code",
      "execution_count": null,
      "metadata": {
        "id": "da30e813"
      },
      "outputs": [],
      "source": [
        "# Nested Control Statement [if - elif [\"elif\" is shortcut of \"elseif\"] - else] - Used when we have multiple conditions to check"
      ]
    },
    {
      "cell_type": "code",
      "execution_count": null,
      "metadata": {
        "id": "f9aed074"
      },
      "outputs": [],
      "source": [
        "# Read 3 integers and print their maximum\n",
        "\n",
        "a=int(input())\n",
        "b=int(input())\n",
        "c=int(input())\n",
        "\n",
        "if (a>b and a>c):\n",
        "    print(\"Maximum is:\",a)\n",
        "elif (b>a and b>c):\n",
        "    print(\"Maximum is:\",b)\n",
        "elif (c>a and c>b):\n",
        "    print(\"Maximum is:\",c)\n",
        "else:\n",
        "    print(\"Please try with different numbers\")"
      ]
    },
    {
      "cell_type": "code",
      "execution_count": null,
      "metadata": {
        "id": "2d9857a0"
      },
      "outputs": [],
      "source": [
        "## Task 1\n",
        "# read the three angles of triangle and figure out the type of triangle\n",
        "\n",
        "a=int(input())\n",
        "b=int(input())\n",
        "c=int(input())\n",
        "\n",
        "if ((a+b+c == 180) and (a<90 and b<90 and c<90)):\n",
        "    print(\"Acute Angled Triangle\")\n",
        "elif ((a+b+c == 180) and (a>90 or b>90 or c>90)):\n",
        "    print(\"Obtuse Angled Triangle\")\n",
        "else:\n",
        "    print(\"Right Angled Triangle\")"
      ]
    },
    {
      "cell_type": "markdown",
      "metadata": {
        "id": "bcbd0851"
      },
      "source": [
        "# Section 3: Loop"
      ]
    },
    {
      "cell_type": "code",
      "execution_count": null,
      "metadata": {
        "id": "4d83659c"
      },
      "outputs": [],
      "source": [
        "# Whenever you want to replicate any task multiple time, we can use Loop\n",
        "# There are two types of loops in Python \"For\" and \"While\""
      ]
    },
    {
      "cell_type": "code",
      "execution_count": null,
      "metadata": {
        "id": "a3e66710"
      },
      "outputs": [],
      "source": [
        "# While Loop work until the given condition satisfied\n",
        "\n",
        "# loop follow four step namely: Initialization, Condition, Update & Work."
      ]
    },
    {
      "cell_type": "code",
      "execution_count": null,
      "metadata": {
        "id": "cc42c1e2"
      },
      "outputs": [],
      "source": [
        "# Print \"I love Python\" using while loop\n",
        "\n",
        "#Initialization\n",
        "\n",
        "i=0.\n",
        "\n",
        "# Condition\n",
        "while (i<5):\n",
        "    i=i+1 #update\n",
        "    print(\"I love Python\") #work"
      ]
    },
    {
      "cell_type": "code",
      "execution_count": null,
      "metadata": {
        "id": "42a4c87f"
      },
      "outputs": [],
      "source": [
        "# Print \"I love you\" using while loop in one line\n",
        "\n",
        "#Initialization\n",
        "\n",
        "i=0.\n",
        "\n",
        "# Condition\n",
        "while (i<5):\n",
        "    i=i+1 #update\n",
        "    print(\"I love you\",end=\" \") #work"
      ]
    },
    {
      "cell_type": "code",
      "execution_count": null,
      "metadata": {
        "id": "28e6cac8"
      },
      "outputs": [],
      "source": [
        "#Print all integers from 1 to 10\n",
        "\n",
        "#Option 1\n",
        "#Initialization\n",
        "\n",
        "i=0\n",
        "\n",
        "#Condition\n",
        "\n",
        "while (i<10):\n",
        "    i=i+1 #update\n",
        "    print(i) #work\n",
        "\n",
        "#Option 2\n",
        "\n",
        "i=1\n",
        "while i<=10:\n",
        "    print(i)\n",
        "    i=i+1"
      ]
    },
    {
      "cell_type": "code",
      "execution_count": null,
      "metadata": {
        "id": "9313351c"
      },
      "outputs": [],
      "source": [
        "# print all integers from 1 to N [Where N means user input number]\n",
        "\n",
        "i=1\n",
        "j=int(input())\n",
        "while (i<=j):\n",
        "    print(i,end=\" \")\n",
        "    i=i+1"
      ]
    },
    {
      "cell_type": "code",
      "execution_count": null,
      "metadata": {
        "id": "97e24913"
      },
      "outputs": [],
      "source": [
        "# print all odd integers from 1 to N [Where N=User Input]\n",
        "\n",
        "i=1\n",
        "j=int(input())\n",
        "while (i<=j):\n",
        "    if i%2==1:\n",
        "        print(i,end=\" \")\n",
        "    i=i+1"
      ]
    },
    {
      "cell_type": "code",
      "execution_count": null,
      "metadata": {
        "id": "5b38b582"
      },
      "outputs": [],
      "source": [
        "# For Loop:\n",
        "\n",
        "# Range Method\n",
        "# it is use to generate the range of integers\n",
        "# range(start,end,increment)\n",
        "#==> Start - Starting number, default is \"0\"\n",
        "#==> end - end of range, python returns numbers < end that means if end value is 6 then the last number return by python will be 5 (numbers<6) [in case of negative icremental value will be number>end]\n",
        "#==> increment - numbers by which you want to increase your previous number [Default is 1]\n",
        "\n",
        "#range(6): Since we have 1 number as input, python will consider this value as END value and will return numbers start from 0 to 5\n",
        "#range(2,6): Python will consider first number as starting point and second number as ending point [Output: 2,3,4,5]\n",
        "#range(1,10,2): First No = Starting point, Second No.=Ending point, Third No= incremental value [Output:1,3,5,7,9]\n",
        "#range(10,0,-2): Start from 10 till 1 by difference of 2 [10,8,6,4,2]\n",
        "\n",
        "# body\n",
        "\n",
        "# for i in range(start,end,increment):"
      ]
    },
    {
      "cell_type": "code",
      "execution_count": null,
      "metadata": {
        "id": "d0f9f1de"
      },
      "outputs": [],
      "source": [
        "for i in range(10):\n",
        "    print(i,end=\" \")"
      ]
    },
    {
      "cell_type": "code",
      "execution_count": null,
      "metadata": {
        "id": "c61b984a"
      },
      "outputs": [],
      "source": [
        "# Print square of i\n",
        "\n",
        "for i in range(10):\n",
        "    print(i*i,end=\" \")"
      ]
    },
    {
      "cell_type": "code",
      "execution_count": null,
      "metadata": {
        "id": "4c14fbed"
      },
      "outputs": [],
      "source": [
        "# print all odd integers from 1 to N\n",
        "\n",
        "N=int(input())\n",
        "for i in range(1,N+1):\n",
        "    if (i%2==1):\n",
        "        print(i,end=\" \")"
      ]
    },
    {
      "cell_type": "code",
      "execution_count": null,
      "metadata": {
        "id": "6b83516a"
      },
      "outputs": [],
      "source": [
        "# For Loop VS While Loop\n",
        "\n",
        "#1. Use FOR loop when you have a fixed range\n",
        "#2. Use WHILE loop for all other cases\n",
        "#3. There is no difference in performance. Both loops would take the same amount of time.\n",
        "#4. FOR loop has a cleaner syntax"
      ]
    },
    {
      "cell_type": "code",
      "execution_count": null,
      "metadata": {
        "id": "1b447461"
      },
      "outputs": [],
      "source": [
        "# Given N, print it's factor\n",
        "\n",
        "N=int(input())\n",
        "for i in range(1,N+1):\n",
        "    if N%i==0:\n",
        "        print(i,end=\" \")"
      ]
    },
    {
      "cell_type": "code",
      "execution_count": null,
      "metadata": {
        "id": "515feb35"
      },
      "outputs": [],
      "source": [
        "# Given N, return a power b\n",
        "\n",
        "A=int(input())\n",
        "B=int(input())\n",
        "ans=1\n",
        "for i in range(1,B+1):\n",
        "    ans=A*ans\n",
        "print(ans)"
      ]
    },
    {
      "cell_type": "markdown",
      "source": [
        "# Section 4: Method & List"
      ],
      "metadata": {
        "id": "mwP_pb8GeEyo"
      }
    },
    {
      "cell_type": "code",
      "execution_count": null,
      "metadata": {
        "id": "77287154-ee39-44dc-9c52-1de993f9434b"
      },
      "outputs": [],
      "source": [
        "# Map function is use to take multiple input at a time\n",
        "\n",
        "a,b,c,d,e=map(int,input().split(sep=\" \")) #int==>Type of data you need as an input"
      ]
    },
    {
      "cell_type": "code",
      "execution_count": null,
      "metadata": {
        "id": "644c0c02-2dfe-4f33-a984-49d235f282ab"
      },
      "outputs": [],
      "source": [
        "a"
      ]
    },
    {
      "cell_type": "code",
      "execution_count": null,
      "metadata": {
        "id": "1ff4549e-b5d9-43a6-b2b9-ad6827344816"
      },
      "outputs": [],
      "source": [
        "# Converting float upto 2 decimal point\n",
        "f=3.6234\n",
        "print(\"{0:.2f}\".format(f)) #if need 3 decimal point, replave .2f by .3f [.2 or.3 represent number after decimal]"
      ]
    },
    {
      "cell_type": "code",
      "execution_count": null,
      "metadata": {
        "id": "4a791a8e-67f2-4178-94df-cf11e5c4cff6"
      },
      "outputs": [],
      "source": [
        "# BREAK statement\n",
        "# It is one of the loop control statement\n",
        "#Used to break out of the enclosing loop\n",
        "#if you want to stop loop at any point, you can use Break statement to stop loop\n",
        "\n",
        "#In the below loop i want to discontinue the loop once the value of i reaches 50\n",
        "\n",
        "for i in range(1,100):\n",
        "    print(i,end=\" \")\n",
        "    if i==50:\n",
        "        break\n"
      ]
    },
    {
      "cell_type": "code",
      "execution_count": null,
      "metadata": {
        "id": "da126078-ea32-4612-ac88-2dc241c904cb"
      },
      "outputs": [],
      "source": [
        "# Continue Statement\n",
        "# it is used to skip an iteration of the loop\n",
        "\n",
        "# I want to print numbers from 1 to 20 except the multiple of 3\n",
        "\n",
        "for i in range(1,21):\n",
        "    if i%3==0:\n",
        "        continue\n",
        "    print(i,end=\" \")"
      ]
    },
    {
      "cell_type": "code",
      "execution_count": null,
      "metadata": {
        "id": "d72c0f19-9bdd-4fa6-a6c0-c6a21027ee59"
      },
      "outputs": [],
      "source": [
        "# Generate & Print random numbers from 1 to 10 until you reach 5\n",
        "# For random number, always import module called \"random\"\n",
        "\n",
        "import random\n",
        "\n",
        "while True:  #Infinite loop because it consider the condition as always true\n",
        "    x=random.randint(1,10) # It is a funtion to generate random number between given range i.e 1 to 10 in this case\n",
        "    if (x==5):\n",
        "        break\n",
        "    print(x,end=\" \")"
      ]
    },
    {
      "cell_type": "code",
      "execution_count": null,
      "metadata": {
        "id": "c577f6cc-315f-4ff0-a375-c1b8370e16ec"
      },
      "outputs": [],
      "source": [
        "# Generate & Print random numbers from 1 to 10 until you reach 5  & want to skip multiple of 4\n",
        "\n",
        "import random\n",
        "\n",
        "while True:  #Infinite loop because it consider the condition as always true\n",
        "    x=random.randint(1,10) # It is a funtion to generate random number between given range i.e 1 to 10 in this case\n",
        "    if (x==5):\n",
        "        break\n",
        "    elif (x%4==0):\n",
        "        continue\n",
        "    print(x,end=\" \")\n"
      ]
    },
    {
      "cell_type": "code",
      "execution_count": null,
      "metadata": {
        "id": "609467f5-1ab4-4285-952d-a9a76fcd74b3"
      },
      "outputs": [],
      "source": [
        "# SEP in print [SEP means SEPARATER]\n",
        "# Whenever we print multiple things in one line using Comma then python automatically add space between them\n",
        "\n",
        "print(\"Vikas\",\"Male\",25,\"Mumbai\")"
      ]
    },
    {
      "cell_type": "code",
      "execution_count": null,
      "metadata": {
        "id": "fa24e5bc-66f9-48b1-b68c-9943a6dbf410"
      },
      "outputs": [],
      "source": [
        "# if i want to separate words using something else instead of SPACE then I can use SEP function in print\n",
        "\n",
        "print(\"Vikas\",\"Male\",25,\"Mumbai\",sep=\"_\")"
      ]
    },
    {
      "cell_type": "code",
      "execution_count": null,
      "metadata": {
        "id": "dbe39c6e-b661-4d60-af7a-8d84a9daa335"
      },
      "outputs": [],
      "source": [
        "# Compound Assignment Statement\n",
        "# it is just a shorthand way of writing\n",
        "\n",
        "# in loop instead of i=i+1 you can write \"i+=1\"\n",
        "\n",
        "x=x+10 [x+=10]\n",
        "x=x-5 [x-=5]\n",
        "x=x*20 [x*=20]\n",
        "x=x/5[x/=5]\n",
        "x=x//5 [x//=5]"
      ]
    },
    {
      "cell_type": "code",
      "execution_count": null,
      "metadata": {
        "id": "8d7c5584-2a3d-453e-a7aa-c8f6a44469f7"
      },
      "outputs": [],
      "source": [
        "# Shorcut for converting mutiple line as \"comments\" is \"ctlr+/\""
      ]
    },
    {
      "cell_type": "code",
      "execution_count": null,
      "metadata": {
        "id": "b0b0a760-388d-47f1-ab9c-9bcf6b64ed93"
      },
      "outputs": [],
      "source": [
        "# FUNCTIONS"
      ]
    },
    {
      "cell_type": "code",
      "execution_count": null,
      "metadata": {
        "id": "485902c9-bbcf-4adc-b270-a255b1f72832"
      },
      "outputs": [],
      "source": [
        "# Problems of writing all the codes in one go are the codes become difficult to understand if it is lengthy\n",
        "# We need to write the same code again and again if we want to replicate any steps n times\n",
        "# Repetation also increases the file size\n",
        "# If later we want to do any edit in my previous code, I have to do the same editing part for n times [where n means the number of times we have replicated the code]\n",
        "\n",
        "# Problem: [Hard to Read, Hard to edit, Repeating code, Hard to maintain or update]\n",
        "\n",
        "# The solution for this is \"Functions\""
      ]
    },
    {
      "cell_type": "code",
      "execution_count": null,
      "metadata": {
        "id": "0887ca5f-5d36-4625-8ec7-5d859046a5e2"
      },
      "outputs": [],
      "source": [
        "#Function is a block of code. It runs the code whenever it is called\n",
        "# So basically we will define one formula or algorithm in function and then whenever we need to run that formula we have to just call the function rather than writing the formula again\n",
        "\n",
        "def tea(): #def is use to define any funtion, tea() is a function name\n",
        "    print(\"Water\",\"Milk\",\"Sugar\",\"Tealeaf\",sep=\"+\")\n",
        "\n",
        "def coffee():\n",
        "    print(\"Water\",\"Milk\",\"Sugar\",\"Coffeepowder\",sep=\"+\")\n",
        "\n",
        "# when we run the above function we will not get any output because we are defining the function but not calling that function\n",
        "# for princting any function, we have to call the function\n",
        "\n",
        "tea()\n",
        "coffee()\n"
      ]
    },
    {
      "cell_type": "code",
      "execution_count": null,
      "metadata": {
        "id": "1ea77592-1c05-4c51-ab34-3ccda1e167f4"
      },
      "outputs": [],
      "source": [
        "# Arguments\n",
        "# Argments are some values which we can pass through the function\n",
        "# it is also called as PARAMETERS\n",
        "\n",
        "def hello():\n",
        "    print(\"Hello Vikas Dubey\")\n",
        "hello() # It will always print the same name\n",
        "\n",
        "#let's say if i want to paste the different names [Name should be user input], then i can pass the parameter for name\n",
        "\n",
        "def name(a):\n",
        "    print(\"Hello\",a)\n",
        "\n",
        "name(\"Pankaj\")\n",
        "\n",
        "# We cannot define the datatype of ARGUMENT in python"
      ]
    },
    {
      "cell_type": "code",
      "execution_count": null,
      "metadata": {
        "id": "279ba1a0-87ad-4450-8fca-51fff476f4ed"
      },
      "outputs": [],
      "source": [
        "# Functio, print the square of number\n",
        "\n",
        "def sqr(a):\n",
        "    print(a**2)\n",
        "\n",
        "sqr(8)"
      ]
    },
    {
      "cell_type": "code",
      "execution_count": null,
      "metadata": {
        "id": "3bc8dc43-67d8-471e-98ce-9c6cde587b2b"
      },
      "outputs": [],
      "source": [
        "def sum(a,b):\n",
        "    c=a+b\n",
        "    print(c)\n",
        "sum(10,20)\n",
        "sum(10,30)"
      ]
    },
    {
      "cell_type": "code",
      "execution_count": null,
      "metadata": {
        "id": "885fd635-80cc-4abf-b3d4-c7ee82ca7057"
      },
      "outputs": [],
      "source": [
        "def cube(x):\n",
        "    c=x**3\n",
        "    print(c)\n",
        "x=cube(10)\n",
        "y=10\n",
        "z=x-y\n",
        "print(z) # Here since we are just printing C in CUBE function we cannot assign the value to X because we are not getting anything back from the function.\n"
      ]
    },
    {
      "cell_type": "code",
      "execution_count": null,
      "metadata": {
        "id": "cfa538a3-4285-46dd-a5f6-38eff775b4c6"
      },
      "outputs": [],
      "source": [
        "def cube(x):\n",
        "    c=x**3\n",
        "    return c\n",
        "x=cube(10)\n",
        "y=10\n",
        "z=x-y\n",
        "print(z) # Here since we are returning C in CUBE function we can assign the value to X because we are getting C back from the function."
      ]
    },
    {
      "cell_type": "code",
      "execution_count": null,
      "metadata": {
        "id": "a9ce17dc-f11c-4767-baeb-3778bf3eddc5"
      },
      "outputs": [],
      "source": [
        "# Programming language follow BOMDAS not BODMAS [Bracket open, Multiplication, Division, Addition , Substraction]"
      ]
    },
    {
      "cell_type": "code",
      "execution_count": null,
      "metadata": {
        "id": "a6cbfe63-86d7-49fd-85c7-539b6fcc14a1"
      },
      "outputs": [],
      "source": [
        "def maths(a,b):\n",
        "    return a+b,a-b, a*b, a/b\n",
        "y=maths(10,20) # by doing this we are assigning all the return values to one variable\n",
        "y\n",
        "# if we want to assign different values of return to different variables then we can do by following approach\n",
        "\n",
        "x,y,z,m=maths(1,2)\n",
        "\n",
        "print(x,y,z,m)\n",
        "print(x)"
      ]
    },
    {
      "cell_type": "code",
      "execution_count": null,
      "metadata": {
        "id": "f81d3256-de30-4157-96b2-31216d76031c"
      },
      "outputs": [],
      "source": [
        "# Keyword Arguments\n",
        "\n",
        "def introducer(name, age, profession):\n",
        "    print(name)\n",
        "    print(age)\n",
        "    print(profession)\n",
        "\n",
        "introducer(\"Vikas\",25,\"Data Scientist\")\n",
        "\n",
        "# whenever we need to call any function, we need to pass the value of arguments in the same order which we have defined in the function\n",
        "# For Example, in the above syntax we have name then age then profession. so value should be in the same order otherwise the result will be incorrect.\n",
        "# Let's say i have forget the order of arguments we have used while defining the function\n",
        "# in this case we will blindly enter the input in some random order, the result might be inappropriate\n",
        "# hence we can use Keyword Argument concept to adress this issue.\n",
        "# In this while passing the value of argument we can write argument name as well. example, introducer(name=\"Vikas\", profession=\"Data\",age=\"25\")"
      ]
    },
    {
      "cell_type": "code",
      "execution_count": null,
      "metadata": {
        "id": "bc2002bf-c3e6-44fb-8874-d7cd5181ddd1"
      },
      "outputs": [],
      "source": [
        "# Default Arguments\n",
        "\n",
        "# When you will pass any value to any argument while defining the function, the python will print the default value in absense of missing value for that particular argument\n",
        "\n",
        "def name(age, profession=\"Student\"):\n",
        "    print(\"My age is\",age,\"old\")\n",
        "    print(\"My profession is\",profession)\n",
        "\n",
        "name(30,\"Doctor\") # Here we are passing value of profession hence it will paste the value passed by us\n",
        "name(30) # Here we are not passing any value for profession hence it is printing the DEFAULT value provided to this argument while defining the function itself"
      ]
    },
    {
      "cell_type": "code",
      "execution_count": null,
      "metadata": {
        "id": "ee2c37e5-7f86-4fa2-b82d-3a5f8d2cb439"
      },
      "outputs": [],
      "source": [
        "#DSA - Data structure & Algorithms\n",
        "# It is use to store the data. Depends of different kind on data we use different data structures\n",
        "# The defauls data structres in python are LIST, TUPLES, SETS, DICTIONARY"
      ]
    },
    {
      "cell_type": "code",
      "execution_count": null,
      "metadata": {
        "id": "63aba57f-4868-4c2a-a8a9-4a8c827713fc"
      },
      "outputs": [],
      "source": [
        "# LISTS:\n",
        "\n",
        "#1. Lists are used to store multiple items in a single variable.\n",
        "#2. Lists are changable, that said we can add, remove or alter the values of list\n",
        "#3. the values are denoted in [] bracket\n",
        "#4. list() - it is a list constructor which we can use to create a list"
      ]
    },
    {
      "cell_type": "code",
      "execution_count": null,
      "metadata": {
        "id": "63eeacf3-e144-4531-bdcf-18c8a59a3729"
      },
      "outputs": [],
      "source": [
        "Movie1=\"A\"\n",
        "Movie2=\"B\"\n",
        "Movie3=\"C\"\n",
        "Movie4=\"D\"\n",
        "Movie5=\"E\" # Here we are defining N numbers of variables for N objects.\n",
        "\n",
        "# To avoid these kind of scenario, we can use list. By using list we can store all the values in one VARIABLE.\n",
        "\n",
        "Movie=[\"A\",\"B\",\"C\",\"D\",\"E\"]\n",
        "print(Movie)\n",
        "type(Movie)"
      ]
    },
    {
      "cell_type": "code",
      "execution_count": null,
      "metadata": {
        "id": "2489c2ac-3eb8-4ed8-9efa-c6d20f93dfff"
      },
      "outputs": [],
      "source": [
        "# We can add any kind of data in list [String, Integers, Float, Boolean etc.]\n",
        "#We can add LIST WITHIN LIST as well.\n",
        "\n",
        "List1=[\"A\",200,1.5]\n",
        "List2=[\"A\",\"B\",[100,200,300]]\n",
        "print(List1)\n",
        "print(List2)\n",
        "len(List1) #len is default function to find the length\n",
        "len(List2) #Python consider the list within the list as one object only hence the length in this case will be 3 only."
      ]
    },
    {
      "cell_type": "code",
      "execution_count": null,
      "metadata": {
        "id": "5f4571b3-748f-4cf7-ba25-618d065091b3"
      },
      "outputs": [],
      "source": [
        "# Order of Data in the list [Indexing]\n",
        "#Indexing is used to access specific item from the list\n",
        "\n",
        "#Indexing will start from 0 to n. in above LIST1/List2 the indexing are [0,1,2]\n",
        "#In LIST2, there will be separate indexing for the list we have inside the list.\n",
        "\n",
        "#Accessing first item of List1\n",
        "\n",
        "print(List1[0])\n",
        "print(List2[2])\n",
        "\n",
        "# Update the value of list\n",
        "\n",
        "List1[1]=500\n",
        "print(List1)\n",
        "\n",
        "# Accessing list within the list\n",
        "\n",
        "print(List2[2][0]) #it will first access the value at index 2 in List2 [in this case that is list itself], then we give the index position of the item we want from second list\n",
        "#So whenever we have nested list and we want to access any value from inside list, then first give the reference to that list and the reference of object within that list\n",
        "#Here [2] represent position of nested list and [0] represent the object we need from nested list`"
      ]
    },
    {
      "cell_type": "code",
      "execution_count": null,
      "metadata": {
        "id": "7226a940-5a4b-45dd-95a0-52b58796c347"
      },
      "outputs": [],
      "source": [
        "# We can define the list outside and call that variable directly in the list\n",
        "name=[\"Vikas\",\"Pankaj\"]\n",
        "age=[\"25\",\"28\"]\n",
        "details=[name,age]\n",
        "print(details)\n",
        "\n",
        "# We can have duplicate values in list\n",
        "\n",
        "details2=[name, name, age]\n",
        "print(details2)"
      ]
    },
    {
      "cell_type": "code",
      "execution_count": null,
      "metadata": {
        "id": "83629e52-be48-4dfd-8cdd-858b41e6e930"
      },
      "outputs": [],
      "source": [
        "# Negative Indexing\n",
        "# It start from Right [last element] to left[first element].\n",
        "#it start from -1 to -n\n",
        "\n",
        "# example: [\"A\",\"B\",\"C\",\"D\"] ==[-4,-3,-2,-1]\n",
        "\n",
        "List1=[\"A\",200,1.5]\n",
        "print(List1[-1])"
      ]
    },
    {
      "cell_type": "code",
      "execution_count": null,
      "metadata": {
        "id": "8ba6796c-dbdb-4394-9b37-27041b2bbb25"
      },
      "outputs": [],
      "source": [
        "# Manipulation of List"
      ]
    },
    {
      "cell_type": "code",
      "execution_count": null,
      "metadata": {
        "id": "bd500cfd-73d5-4e94-9a74-4710ad8bc929"
      },
      "outputs": [],
      "source": [
        "# Changing value - You can change the value of list by using index as a reference\n",
        "\n",
        "List1=[\"A\",200,1.5]\n",
        "List1[0]=\"B\" # It will change the value of 0 index in List1 [That said A will get replace by B]\n",
        "print(List1)"
      ]
    },
    {
      "cell_type": "code",
      "execution_count": null,
      "metadata": {
        "id": "b23e937e-dee8-4a60-88bd-b09a8eb2e230"
      },
      "outputs": [],
      "source": [
        "# Append the list [Add additional elements in the list at the end]\n",
        "\n",
        "l=[1,2,3]\n",
        "\n",
        "#Objective: I want to add 4 at the end of list\n",
        "\n",
        "l.append(4)\n",
        "l\n",
        "\n",
        "l.append(\"Vikas\") # We can add one element at a time using append\n",
        "l\n",
        "\n",
        "l.append([1,2,3,4]) # We can add list as well at the end using append as python will cosider the entire list as one object\n",
        "l"
      ]
    },
    {
      "cell_type": "code",
      "execution_count": null,
      "metadata": {
        "id": "73292e7c-5333-493a-8efe-05c456ee7bd1"
      },
      "outputs": [],
      "source": [
        "# POP : it is opposite of APPEND\n",
        "# it remove the specified element from the list\n",
        "\n",
        "l=[1,2,3,4]\n",
        "print(l)\n",
        "l.pop() #If nothing is mentioned in (), then it will delete last item from the list\n",
        "print(l) # It removed 4 from the list as 4 was the last element of the list l"
      ]
    },
    {
      "cell_type": "code",
      "execution_count": null,
      "metadata": {
        "id": "0d9d5f3e-ac8e-4c55-8dac-5f84c578e1b8"
      },
      "outputs": [],
      "source": [
        "#if i want to delete any specific element from the list, just provide the index reference to POP function\n",
        "\n",
        "l=[1,2,3,4]\n",
        "l.pop(1) #it will delete the 2nd element\n",
        "l"
      ]
    },
    {
      "cell_type": "code",
      "execution_count": null,
      "metadata": {
        "id": "78fc9da0-8db1-4d6f-914d-2436d87779dc"
      },
      "outputs": [],
      "source": [
        "l=[1,2,3,[1,2,3,4,5,6]]\n",
        "l.pop()\n",
        "l"
      ]
    },
    {
      "cell_type": "code",
      "execution_count": null,
      "metadata": {
        "id": "c6845ba6-9818-44d8-a264-80c46df9445a"
      },
      "outputs": [],
      "source": [
        "l=[1,2,3,[1,2,3,4,5,6]]\n",
        "l.pop(3,3) # We cannot delete any specific item of nested list using POP.\n",
        "l\n"
      ]
    },
    {
      "cell_type": "code",
      "execution_count": null,
      "metadata": {
        "id": "2ec62377-0932-43c4-a98b-12e01d02416f"
      },
      "outputs": [],
      "source": [
        "# If I want to add any number somewhere in between the existing list not at the end of list then we can use INSERT function\n",
        "\n",
        "l=[1,2,3,4] #i want to add \"5\" in between 2 &3\n",
        "l.insert(2,5) #insert(index where you want to insert the value, value)\n",
        "l\n",
        "l.insert(3,\"Vikas\")\n",
        "l"
      ]
    },
    {
      "cell_type": "code",
      "execution_count": null,
      "metadata": {
        "id": "84d18c14-23e7-4f38-8c0c-4f7ec8cbda0a"
      },
      "outputs": [],
      "source": [
        "# Remove: delete the first occurance of the specified value from the list\n",
        "\n",
        "L=[10,20,30,10,10,40,10,50,10]\n",
        "L.remove(10) #it deleted first 10\n",
        "L"
      ]
    },
    {
      "cell_type": "code",
      "execution_count": null,
      "metadata": {
        "id": "31685754-7156-41e8-8989-3ef5c5f8e073"
      },
      "outputs": [],
      "source": [
        "# Searching in the list\n",
        "\n",
        "l=[10,20,30,40]\n",
        "\n",
        "# Question: We have to check whether 10 is a part of this list or not\n",
        "\n",
        "target=10\n",
        "\n",
        "if target in l: #IN is inbuild function to search something in specified list or range\n",
        "    print(\"Yes\")\n",
        "else:\n",
        "    print(\"No\")"
      ]
    },
    {
      "cell_type": "code",
      "execution_count": null,
      "metadata": {
        "id": "b3ec91ab-4932-4efb-8974-e5dae7e56598"
      },
      "outputs": [],
      "source": [
        "# Index function:\n",
        "# Given the list, find the index of the target number which we are searching in the list\n",
        "\n",
        "Target=40\n",
        "l=[10,20,30,40,50]\n",
        "\n",
        "print(l.index(40))\n",
        "print(l.index(Target))\n",
        "print(l.index(20))\n",
        "print(l.index(50))\n",
        "print(l.index(100))"
      ]
    },
    {
      "cell_type": "code",
      "execution_count": null,
      "metadata": {
        "id": "d44603f3-badb-40af-b76f-8de84faabd5f"
      },
      "outputs": [],
      "source": [
        "l=[10,20,30,10]\n",
        "print(l.index(10))# so index return the index value of first occurance of target number\n",
        "print(l.index(10,2)) # If you want index number of \"nth\" occurence of target, then just add the occurence number in the fuction\n",
        "\n",
        "#list.index(target, occurance number)"
      ]
    },
    {
      "cell_type": "code",
      "execution_count": null,
      "metadata": {
        "id": "698516ec-165f-4f3c-bb60-1df7c1d0a802"
      },
      "outputs": [],
      "source": [
        "# Difference between IN & INDEX\n",
        "# IN just search whether the specified value is present in the list or not BUT INDEX search and return the index of target value as an output"
      ]
    },
    {
      "cell_type": "code",
      "execution_count": null,
      "metadata": {
        "id": "c312ff16-9292-4b8d-94e7-9fa31cd38a9a"
      },
      "outputs": [],
      "source": [
        "### LINEAR SEARCH\n",
        "\n",
        "# Given a list of integers and a target number, find and print the index of the target from the list\n",
        "# CHALLENGE: DO NOT USE ANY INBUILD METHODS\n",
        "\n",
        "target=30\n",
        "l=[10,20,30,40]\n",
        "\n",
        "for i in range(len(l)):\n",
        "    if l[i]==target:\n",
        "        print(i)"
      ]
    },
    {
      "cell_type": "code",
      "execution_count": null,
      "metadata": {
        "id": "279a3ad0-a30b-48a4-9ab2-45f282e066a3"
      },
      "outputs": [],
      "source": [
        "# Copy of a list\n",
        "\n",
        "A=[1,2,3,4]\n",
        "B=A\n",
        "B"
      ]
    },
    {
      "cell_type": "code",
      "execution_count": null,
      "metadata": {
        "id": "40c93904-e8be-4c61-8a70-ba1897a68a26"
      },
      "outputs": [],
      "source": [
        "B[0]=1000\n",
        "print(A)\n",
        "\n",
        "#This will not work because if we use = for creating new list, any change in any one list will impact the other list as well"
      ]
    },
    {
      "cell_type": "code",
      "execution_count": null,
      "metadata": {
        "id": "d6c3af8a-ff7a-4f17-ad2b-0264de521c70"
      },
      "outputs": [],
      "source": [
        "#So we can copy using two ways\n",
        "#Way 1: .copy()\n",
        "\n",
        "A=[1,2,3,4,5]\n",
        "B=A.copy()\n",
        "print(B)"
      ]
    },
    {
      "cell_type": "code",
      "execution_count": null,
      "metadata": {
        "id": "248c9221-0816-4f35-bc18-5b1cb1ec187b"
      },
      "outputs": [],
      "source": [
        "#Way 2:\n",
        "\n",
        "A=[1,2,3,4,5,6]\n",
        "B=list(A)\n",
        "B"
      ]
    },
    {
      "cell_type": "code",
      "execution_count": null,
      "metadata": {
        "id": "b1d79efd-b94c-486a-b46c-6b2bf6080fb2"
      },
      "outputs": [],
      "source": [
        "#Split Function [It break down the string by space]\n",
        "\"Hello I love my India\"==> Hello, I, Love, My, India [Split function by default return the LIST]"
      ]
    },
    {
      "cell_type": "code",
      "execution_count": null,
      "metadata": {
        "id": "87baba4e-f676-4acc-9ad1-828cb545f9ea"
      },
      "outputs": [],
      "source": [
        "A=input()\n",
        "B=A.split()\n",
        "B\n",
        "\n",
        "# Here the element in list will be STRING..."
      ]
    },
    {
      "cell_type": "code",
      "execution_count": null,
      "metadata": {
        "id": "d5329596-b9d1-45d4-9a1a-bacaeeec914c"
      },
      "outputs": [],
      "source": [
        "#Split the input in list but before that convert the type to int from string..."
      ]
    },
    {
      "cell_type": "code",
      "execution_count": null,
      "metadata": {
        "id": "58fcb162-97cc-4e60-bb7d-375d497585a7"
      },
      "outputs": [],
      "source": [
        "# Method 1\n",
        "A=input()\n",
        "B=A.split()\n",
        "C=[]\n",
        "for i in range(0,len(B)):\n",
        "    C.append(int(B[i]))\n",
        "print(C)\n",
        "\n",
        "# Method 2\n",
        "A=input()\n",
        "B=A.split()\n",
        "C=[]\n",
        "for i in B:\n",
        "    C.append(int(i))\n",
        "print(C)"
      ]
    },
    {
      "cell_type": "code",
      "execution_count": null,
      "metadata": {
        "id": "fd723fbd-343a-4862-afc6-a907e555533f"
      },
      "outputs": [],
      "source": [
        "#Given an array, compute the SUM of all element in it\n",
        "\n",
        "A=input()\n",
        "B=A.split()\n",
        "add=0\n",
        "C=[]\n",
        "for i in B:\n",
        "    C.append(int(i))\n",
        "for j in C:\n",
        "    add=add+j\n",
        "print(add)"
      ]
    },
    {
      "cell_type": "code",
      "execution_count": null,
      "metadata": {
        "id": "4d316108-18f2-4cd5-a728-a3076b955373"
      },
      "outputs": [],
      "source": [
        "#Given an array, Find the maximum value in it\n",
        "\n",
        "A=input()\n",
        "B=A.split()\n",
        "ans=-float(\"inf\")\n",
        "for i in range(0,len(B)):\n",
        "    ans=max(ans,int(B[i]))\n",
        "\n",
        "print(ans)"
      ]
    },
    {
      "cell_type": "code",
      "execution_count": null,
      "metadata": {
        "id": "fe82a40a-a867-44c8-a7af-15c502215e66"
      },
      "outputs": [],
      "source": [
        "# Given an array & target number, find the number of occurences of the target number in the array\n",
        "\n",
        "A=input()\n",
        "B=A.split()\n",
        "C=int(input())\n",
        "count=0\n",
        "for i in B:\n",
        "    if int(i)==C:\n",
        "        count=count+1\n",
        "    else:\n",
        "        continue\n",
        "print(count)"
      ]
    },
    {
      "cell_type": "code",
      "execution_count": null,
      "metadata": {
        "id": "65c2440c-7bb3-4a7a-bf24-35bfeb263c5b"
      },
      "outputs": [],
      "source": [
        "# Given an array and an increment number, generate a new array which contain all values of original array increased by increment value\n",
        "\n",
        "A=input()\n",
        "B=A.split()\n",
        "C=int(input())\n",
        "D=[]\n",
        "for i in B:\n",
        "    D.append(int(i)+C)\n",
        "print(D)"
      ]
    },
    {
      "cell_type": "code",
      "execution_count": null,
      "metadata": {
        "id": "b323ffaf-9818-45d0-bf9e-9cfb80535aaa"
      },
      "outputs": [],
      "source": [
        "# Given an array, generate a new array containing squares of all numbers\n",
        "\n",
        "A=input()\n",
        "B=A.split()\n",
        "C=[]\n",
        "for i in B:\n",
        "    C.append(int(i)*int(i))\n",
        "print(C)"
      ]
    },
    {
      "cell_type": "code",
      "execution_count": null,
      "metadata": {
        "id": "9c145dc2-0314-4887-8ee1-861acf6773da"
      },
      "outputs": [],
      "source": [
        "# Given an array, filter out all odd numbers\n",
        "\n",
        "A=input()\n",
        "B=A.split()\n",
        "C=[]\n",
        "for i in B:\n",
        "    if int(i)%2==1:\n",
        "        C.append(int(i))\n",
        "    else:\n",
        "        continue\n",
        "print(C)"
      ]
    },
    {
      "cell_type": "code",
      "execution_count": null,
      "metadata": {
        "id": "b703dc0e-854c-4b3a-875b-976ade1c77a1"
      },
      "outputs": [],
      "source": [
        "######## LIST SLICING ##############"
      ]
    },
    {
      "cell_type": "code",
      "execution_count": null,
      "metadata": {
        "id": "4663966c-26a5-464a-80d4-5220b0dddc6b"
      },
      "outputs": [],
      "source": [
        "# Whenever we need small portion of list not the entire list, we do use list slicing concept"
      ]
    },
    {
      "cell_type": "code",
      "execution_count": null,
      "metadata": {
        "id": "1cb21f75-bd86-454f-969d-b40a2aac5d57"
      },
      "outputs": [],
      "source": [
        "# Syntax is A[Start Value Index :End Value Index :Increment] Note that,\n",
        "# the End value is exclusive hence give the end value index as N+1 if you want to pull the results till Nth index value\n",
        "#Increment index gap between two numbers [Default value is 1]\n",
        "\n",
        "A=[1,2,3,4,5,6,7] #index ==>[0,1,2,3,4,5,6] I want to extract slice [2,3,4,5] ==> index[1,2,3,4]\n",
        "A[1:5:1]"
      ]
    },
    {
      "cell_type": "code",
      "execution_count": null,
      "metadata": {
        "id": "b34f68d7-c2e0-47af-8095-12164b895ad6"
      },
      "outputs": [],
      "source": [
        "# Whenever we have negative increment the default start value is index -1 and default end value is (-length-1)\n",
        "\n",
        "A=[1,2,3,4,5]\n",
        "A[ : :-1] # This will start by default from -1 and move to left direction till before -6 index i.e, index -5\n",
        "\n",
        "# The result will be exact reverse of the given list"
      ]
    },
    {
      "cell_type": "code",
      "execution_count": null,
      "metadata": {
        "id": "840f031e-2b20-428e-90b9-5f607850e6b3"
      },
      "outputs": [],
      "source": [
        "A=\"Hello\"\n",
        "A[::-1]"
      ]
    },
    {
      "cell_type": "code",
      "execution_count": null,
      "metadata": {
        "id": "42c30306-0c9f-48b7-bb2c-55edd753ff07"
      },
      "outputs": [],
      "source": [
        "pip install nbconvert"
      ]
    },
    {
      "cell_type": "markdown",
      "source": [
        "# Section 5: List\n"
      ],
      "metadata": {
        "id": "BvoHrH4feyHq"
      }
    },
    {
      "cell_type": "code",
      "execution_count": null,
      "metadata": {
        "id": "44b40442"
      },
      "outputs": [],
      "source": [
        "##### 2D Lists #####"
      ]
    },
    {
      "cell_type": "code",
      "execution_count": null,
      "metadata": {
        "id": "b18478c4"
      },
      "outputs": [],
      "source": [
        "# Iterating 2D lists #"
      ]
    },
    {
      "cell_type": "code",
      "execution_count": null,
      "metadata": {
        "id": "81fed54e"
      },
      "outputs": [],
      "source": [
        "# While giving the input for Matrices, it is mendentory to provide number of rows & number of columns."
      ]
    },
    {
      "cell_type": "code",
      "execution_count": null,
      "metadata": {
        "id": "113c3894"
      },
      "outputs": [],
      "source": [
        "row,col=map(int,input().split()) # We read row in matrix, means if there are 3 rows we need three list within a list.\n",
        "\n",
        "A=[]\n",
        "for i in range(row): #this loop will run number of times equal to the number of rows\n",
        "    row=list(map(int,input().split()))\n",
        "    A.append(row)\n",
        "print(A)"
      ]
    },
    {
      "cell_type": "code",
      "execution_count": null,
      "metadata": {
        "id": "c87cc95d"
      },
      "outputs": [],
      "source": [
        "# Challenge: Given 2 Matrices, find their sum.\n",
        "\n",
        "A=[[1,2,3],[4,5,6],[7,8,9]]\n",
        "B=[[2,2,3],[2,4,5],[-1,-1,0]]\n",
        "C=[]\n",
        "for i in range(len(A)):\n",
        "    row=[]\n",
        "    for j in range(len(A[i])):\n",
        "        row.append(A[i][j]+B[i][j])\n",
        "    C.append(row)\n",
        "print(C)\n"
      ]
    },
    {
      "cell_type": "code",
      "execution_count": null,
      "metadata": {
        "id": "c4199bd2"
      },
      "outputs": [],
      "source": [
        "# Challenge: Given a matrix, find the sum of each row\n",
        "\n",
        "A=[[1,2,3],[4,5,6],[7,8,9]]\n",
        "B=[]\n",
        "for i in range(len(A)):\n",
        "    add=0\n",
        "    for j in range(len(A[i])):\n",
        "        add=add+A[i][j]\n",
        "    B.append(add)\n",
        "print(B)"
      ]
    },
    {
      "cell_type": "code",
      "execution_count": null,
      "metadata": {
        "id": "7da2b268"
      },
      "outputs": [],
      "source": [
        "# Challenge: Given a square matrix check if it is an identity matrix\n",
        "\n",
        "A=[[1,0,0],[0,1,0],[0,0,1]]\n",
        "B=[]\n",
        "for i in range(len(A)):\n",
        "    row=[]\n",
        "    for j in range(len(A[i])):\n",
        "        if (i==j):\n",
        "            row.append(1)\n",
        "        else:\n",
        "            row.append(0)\n",
        "    B.append(row)\n",
        "\n",
        "if A==B:\n",
        "    print(\"Identity Matrix\")\n",
        "else:\n",
        "    print(\"Not an identity matrix\")\n"
      ]
    },
    {
      "cell_type": "code",
      "execution_count": null,
      "metadata": {
        "id": "84a71ad7"
      },
      "outputs": [],
      "source": [
        "# Challenge: Given a square matrix check if it is an identity matrix\n",
        "\n",
        "A=[[1,0,0],[0,1,0],[0,0,1]]\n",
        "ans=\"Identity Matrix\"\n",
        "for i in range(len(A)):\n",
        "    for j in range(len(A[i])):\n",
        "        if (i==j and A[i][j]==1):\n",
        "            continue\n",
        "        elif (i!=j and A[i][j]==0):\n",
        "            continue\n",
        "        else:\n",
        "            ans=\"Not an identity matrix\"\n",
        "print(ans)"
      ]
    },
    {
      "cell_type": "code",
      "execution_count": null,
      "metadata": {
        "id": "74d93e8f"
      },
      "outputs": [],
      "source": [
        "# Challenge: Given a square matrix, compute the sum of it's diagonal matrix\n",
        "\n",
        "A=[[5,1,3],[1,7,8],[1,1,0]]\n",
        "ans=0\n",
        "for i in range(len(A)):\n",
        "    for j in range(len(A[i])):\n",
        "        if (i==j):\n",
        "            ans=ans+A[i][j]\n",
        "        else:\n",
        "            continue\n",
        "print(ans)"
      ]
    },
    {
      "cell_type": "code",
      "execution_count": null,
      "metadata": {
        "id": "0619fc70"
      },
      "outputs": [],
      "source": [
        "# Challenge: Given a square matrix, compute the sum of it's diagonal matrix [Method 2]\n",
        "\n",
        "A=[[5,1,3],[1,7,8],[1,1,0]]\n",
        "ans=0\n",
        "for i in range(len(A)):\n",
        "    ans=ans+A[i][i]\n",
        "print(ans)"
      ]
    },
    {
      "cell_type": "code",
      "execution_count": null,
      "metadata": {
        "id": "ab811ae0"
      },
      "outputs": [],
      "source": [
        "# Challenge: Find determinant of square matrix"
      ]
    },
    {
      "cell_type": "code",
      "execution_count": null,
      "metadata": {
        "id": "4cf2c1f0"
      },
      "outputs": [],
      "source": [
        "# Challenge: Find mutiplication of two matrices"
      ]
    },
    {
      "cell_type": "code",
      "execution_count": null,
      "metadata": {
        "id": "4c7eb7b0"
      },
      "outputs": [],
      "source": [
        "# Challenge: Find inverse of square matrix"
      ]
    },
    {
      "cell_type": "code",
      "execution_count": null,
      "metadata": {
        "id": "9d92b21b"
      },
      "outputs": [],
      "source": [
        "################# MODULE in Python ###############"
      ]
    },
    {
      "cell_type": "code",
      "execution_count": null,
      "metadata": {
        "id": "4ba44bac"
      },
      "outputs": [],
      "source": [
        "# Whenever we want to fetch code from different files, we can use module instead of rewriting entire code again"
      ]
    },
    {
      "cell_type": "code",
      "execution_count": null,
      "metadata": {
        "id": "5f7d0a78"
      },
      "outputs": [],
      "source": [
        "# default value of print(__name__) is __main__"
      ]
    },
    {
      "cell_type": "code",
      "execution_count": null,
      "metadata": {
        "id": "4e33ce7b"
      },
      "outputs": [],
      "source": [
        "# if the file you have executed is same in which you are running the code then the value of __name__ will be __main__\n",
        "# if the file you have executed is not the same which you are running the code (you have imported one in another), the ..\n",
        "# ... value of __name__ will be the name of model whose code we are running\n"
      ]
    },
    {
      "cell_type": "markdown",
      "source": [
        "# Section 6: String"
      ],
      "metadata": {
        "id": "WKIg0cAMe_Oo"
      }
    },
    {
      "cell_type": "code",
      "execution_count": null,
      "metadata": {
        "id": "2582fd61"
      },
      "outputs": [],
      "source": []
    },
    {
      "cell_type": "code",
      "execution_count": null,
      "metadata": {
        "id": "f9da2e77"
      },
      "outputs": [],
      "source": [
        "########### STRINGS ###########"
      ]
    },
    {
      "cell_type": "code",
      "execution_count": null,
      "metadata": {
        "id": "1ca3ecf1"
      },
      "outputs": [],
      "source": [
        "# it is used to store character data i.e, it is a set of characters [characters can be anything, letter, number, special character, etc.]"
      ]
    },
    {
      "cell_type": "code",
      "execution_count": null,
      "metadata": {
        "id": "373bc30a"
      },
      "outputs": [],
      "source": [
        "A=\"Hello World\"\n",
        "B='Hello World' # We can use either \" \" or ' ' to represent strings"
      ]
    },
    {
      "cell_type": "code",
      "execution_count": null,
      "metadata": {
        "id": "3399c869"
      },
      "outputs": [],
      "source": [
        "# As a standard python accept string in one line...\n",
        "# If we want to create MULTILINE string, write the string using thriple quote \"\"\"...........\"\"\" or '''......'''\n",
        "\n",
        "A='''Vikas\n",
        "Dubey'''\n",
        "\n",
        "print(A,sep=\" \")\n"
      ]
    },
    {
      "cell_type": "code",
      "execution_count": null,
      "metadata": {
        "id": "573c12c4"
      },
      "outputs": [],
      "source": [
        "# String works same as list in case of INDEX\n",
        "\n",
        "# in VIKAS the INDEX will be 01234 means 0==V, 1==I, 2==K, 3==A, 4==S... Similarly we have negative indexing as well like list\n",
        "\n",
        "A=\"Vikas\"\n",
        "A[1]"
      ]
    },
    {
      "cell_type": "code",
      "execution_count": null,
      "metadata": {
        "id": "7da26d43"
      },
      "outputs": [],
      "source": [
        "# List are IMMUTABLE because whenever we do any edit, that changes the value but python store the new value to different location\n",
        "# that means the original one will lost in memory but it was not changed.."
      ]
    },
    {
      "cell_type": "code",
      "execution_count": null,
      "metadata": {
        "id": "e32b7e39"
      },
      "outputs": [],
      "source": [
        "A = \"Vikas\"\n",
        "A=\"Dubey\" # Here VIKAS is getting replaced by DUBEY and VIKAS is lost in memory now and we cannot trace that.. For tracing we have to store that using another variable\n",
        "A"
      ]
    },
    {
      "cell_type": "code",
      "execution_count": null,
      "metadata": {
        "id": "2722ca1b"
      },
      "outputs": [],
      "source": [
        "# Length of string\n",
        "A=\"VIKAS\"\n",
        "len(A)"
      ]
    },
    {
      "cell_type": "code",
      "execution_count": null,
      "metadata": {
        "id": "f0610335"
      },
      "outputs": [],
      "source": [
        "# Concatenation of string\n",
        "\n",
        "A=\"Vikas\"\n",
        "B=\"Dubey\"\n",
        "C=A+\" \"+B #using + we can concatenate any string\n",
        "C"
      ]
    },
    {
      "cell_type": "code",
      "execution_count": null,
      "metadata": {
        "id": "6eaa199f"
      },
      "outputs": [],
      "source": [
        "A=\"Vikas \"Dubey\" \" # We cannot have double quote within double quote\n",
        "A\n",
        "B = 'Vikas 'Dubey'' # We cannot have single quote within single quote\n",
        "B"
      ]
    },
    {
      "cell_type": "code",
      "execution_count": null,
      "metadata": {
        "id": "22284aab"
      },
      "outputs": [],
      "source": [
        "A='Vikas \"Dubey\" ' # We can have double quote within Single quote\n",
        "A"
      ]
    },
    {
      "cell_type": "code",
      "execution_count": null,
      "metadata": {
        "id": "1d76e538"
      },
      "outputs": [],
      "source": [
        "A=\"Vikas 'Dubey'\" # We can have single quote within double quote\n",
        "A\n",
        "\n",
        "# Conclusion: We can have mixture of quotes but we cannot have same quote within that"
      ]
    },
    {
      "cell_type": "code",
      "execution_count": null,
      "metadata": {
        "id": "24a6fe66"
      },
      "outputs": [],
      "source": [
        "# Repetation\n",
        "\n",
        "A=\"Vikas\"\n",
        "print(A*5)\n",
        "\n",
        "B=\"1234\"\n",
        "print(B*2)"
      ]
    },
    {
      "cell_type": "code",
      "execution_count": null,
      "metadata": {
        "id": "5e1f0e55"
      },
      "outputs": [],
      "source": [
        "# IN Operator - Checks whether the target string is a part of given string or not\n",
        "# if target string exist in given string the output will be TRUE else FALSE"
      ]
    },
    {
      "cell_type": "code",
      "execution_count": null,
      "metadata": {
        "id": "207bd611"
      },
      "outputs": [],
      "source": [
        "A=\"Vikas will become a successful politician in future\"\n",
        "B=\"future\"\n",
        "B in A"
      ]
    },
    {
      "cell_type": "code",
      "execution_count": null,
      "metadata": {
        "id": "7864a369"
      },
      "outputs": [],
      "source": [
        "# we can write above using If & else\n",
        "\n",
        "if \"future\" in A:\n",
        "    print(\"Found\")\n",
        "else:\n",
        "    print(\"Not Found\")"
      ]
    },
    {
      "cell_type": "code",
      "execution_count": null,
      "metadata": {
        "id": "cb61f584"
      },
      "outputs": [],
      "source": [
        "# Count () function ==> COunt the number of occurence of target string"
      ]
    },
    {
      "cell_type": "code",
      "execution_count": null,
      "metadata": {
        "id": "ed400177"
      },
      "outputs": [],
      "source": [
        "A=\"Vikas is a good cricketer\"\n",
        "print(A.count(\"i\"))\n",
        "print(A.count(\"e\"))\n",
        "print(A.count(\"good\"))"
      ]
    },
    {
      "cell_type": "code",
      "execution_count": null,
      "metadata": {
        "id": "0674a2d2"
      },
      "outputs": [],
      "source": [
        "# find ( ) function ==> It allows to find the index of finrt occurence of target string in the given string\n",
        "\n",
        "A=\"Vikas Dubey\"\n",
        "print(A.find(\"i\"))"
      ]
    },
    {
      "cell_type": "code",
      "execution_count": null,
      "metadata": {
        "id": "bfbd4017"
      },
      "outputs": [],
      "source": [
        "A=\"Vikas Dubey is\"\n",
        "print(A.find(\"is\")) # return the index of first letter of the target word, in this case \"i\" [the position from the word starts]"
      ]
    },
    {
      "cell_type": "code",
      "execution_count": null,
      "metadata": {
        "id": "4bf619cb"
      },
      "outputs": [],
      "source": [
        "#Let's say we want index of next occorence of i\n",
        "\n",
        "A=\"Vikas Dubey is\"\n",
        "idx=A.find(\"i\") # first store the index of first occurence of target in one variable\n",
        "print(A.find(\"i\",idx+1)) # idx+1 means the position from where python will start searching the target character..\n",
        "# here idx+1=0+1=1 means the python will start searching \"i\" after 1st index"
      ]
    },
    {
      "cell_type": "code",
      "execution_count": null,
      "metadata": {
        "id": "207f81c9"
      },
      "outputs": [],
      "source": [
        "# replace( ) function\n",
        "\n",
        "A=\"Python is amazing\"\n",
        "\n",
        "# want to replace AMAZING with AWESOME\n",
        "\n",
        "print(A.replace(\"amazing\",\"awesome\")) # A.replace(what you want to replace, with whom you want to replace)"
      ]
    },
    {
      "cell_type": "code",
      "execution_count": null,
      "metadata": {
        "id": "26a17c10"
      },
      "outputs": [],
      "source": [
        "A=\"Python is amazing, Prograaming in Python is amazing\"\n",
        "print(A.replace(\"amazing\",\"awesome\"))"
      ]
    },
    {
      "cell_type": "code",
      "execution_count": null,
      "metadata": {
        "id": "b9a4b6c3"
      },
      "outputs": [],
      "source": [
        "## lower( ), upper( ) function ==> Convert the case from upper to lower and wise versa"
      ]
    },
    {
      "cell_type": "code",
      "execution_count": null,
      "metadata": {
        "id": "3b47180a"
      },
      "outputs": [],
      "source": [
        "A=\"Vikas\"\n",
        "print(A.lower()) # Convert all in lower case\n",
        "print(A.upper()) # convert all in upper case\n",
        "print(A) # It will print original value of A, that means LOWER or UPPER will not change the original value"
      ]
    },
    {
      "cell_type": "code",
      "execution_count": null,
      "metadata": {
        "id": "9a6ea486"
      },
      "outputs": [],
      "source": [
        "### Looping over strings ###"
      ]
    },
    {
      "cell_type": "code",
      "execution_count": null,
      "metadata": {
        "id": "9e7020d4"
      },
      "outputs": [],
      "source": [
        "A=\"Vikas Dubey\"\n",
        "\n",
        "for i in A:\n",
        "    print(i,end=\"\")"
      ]
    },
    {
      "cell_type": "code",
      "execution_count": null,
      "metadata": {
        "id": "22fd41c2"
      },
      "outputs": [],
      "source": [
        "## To get ASCII number for any character\n",
        "\n",
        "print(ord(\"A\")) # The ASCII value of capital A is 65"
      ]
    },
    {
      "cell_type": "code",
      "execution_count": null,
      "metadata": {
        "id": "8bd27adf"
      },
      "outputs": [],
      "source": [
        "# If we have ASCII value, using that we can extract the character.\n",
        "\n",
        "print(chr(65))"
      ]
    },
    {
      "cell_type": "code",
      "execution_count": null,
      "metadata": {
        "id": "90af5d4f"
      },
      "outputs": [],
      "source": [
        "## Pattern using ASCII value\n",
        "\n",
        "c=65\n",
        "n=4\n",
        "for i in range(n):\n",
        "    print((chr(c)+\" \")*(i+1))\n",
        "    c=c+1"
      ]
    },
    {
      "cell_type": "code",
      "execution_count": null,
      "metadata": {
        "id": "025d4e9f"
      },
      "outputs": [],
      "source": [
        "# String Slicing [Same as list slicing]"
      ]
    },
    {
      "cell_type": "code",
      "execution_count": null,
      "metadata": {
        "id": "375b5220"
      },
      "outputs": [],
      "source": [
        "A=\"Vikas\"\n",
        "A[::-1] #Reverse"
      ]
    },
    {
      "cell_type": "code",
      "execution_count": null,
      "metadata": {
        "id": "0b992900"
      },
      "outputs": [],
      "source": [
        "### STRIP FUNCTION ####"
      ]
    },
    {
      "cell_type": "code",
      "execution_count": null,
      "metadata": {
        "id": "a8b7ae75"
      },
      "outputs": [],
      "source": [
        "# Strip is used to remove extra spaces from the string\n",
        "#lstrip => Remove extra spaces from left\n",
        "#rstrip=> Remove extra spaces from right\n",
        "#strip=> Remove extra spaces from both left & right"
      ]
    },
    {
      "cell_type": "code",
      "execution_count": null,
      "metadata": {
        "id": "66bbd47a"
      },
      "outputs": [],
      "source": [
        "A=\"      Vikas Dubey          \"\n",
        "print(A.lstrip())\n",
        "print(A.rstrip())\n",
        "print(A.strip())"
      ]
    },
    {
      "cell_type": "code",
      "execution_count": null,
      "metadata": {
        "id": "6290e9be"
      },
      "outputs": [],
      "source": [
        "# To remove space between words, we have to use replace( ) function\n",
        "A=\"Vikas      Dubey\"\n",
        "A.replace(\"      \",\"\")"
      ]
    },
    {
      "cell_type": "code",
      "execution_count": null,
      "metadata": {
        "id": "ee59a9a3"
      },
      "outputs": [],
      "source": [
        "# To apply strip in user input\n",
        "A=input()\n",
        "A.strip()"
      ]
    },
    {
      "cell_type": "code",
      "execution_count": null,
      "metadata": {
        "id": "3ee61eae"
      },
      "outputs": [],
      "source": [
        "A=input().strip()\n",
        "print(A)"
      ]
    },
    {
      "cell_type": "code",
      "execution_count": null,
      "metadata": {
        "id": "c237c8f0"
      },
      "outputs": [],
      "source": [
        "## Reverse the order of words\n",
        "\n",
        "# The objective is not to reverse the entire statement like \"sdrow fo redro.....\" but to reverse the words within statement\n",
        "# Example \"Reverse the order of words\" ==>\"words of order the Reverse\""
      ]
    },
    {
      "cell_type": "code",
      "execution_count": null,
      "metadata": {
        "id": "267c485c"
      },
      "outputs": [],
      "source": [
        "A=\"Reverse the order of words\""
      ]
    },
    {
      "cell_type": "code",
      "execution_count": null,
      "metadata": {
        "id": "76df9f42"
      },
      "outputs": [],
      "source": [
        "B=A.split()\n",
        "B"
      ]
    },
    {
      "cell_type": "code",
      "execution_count": null,
      "metadata": {
        "id": "9f66f3b8"
      },
      "outputs": [],
      "source": [
        "B=B[ : :-1] # or you can use reverse() function as well [B.reverse()]\n",
        "B"
      ]
    },
    {
      "cell_type": "code",
      "execution_count": null,
      "metadata": {
        "id": "035a7d92"
      },
      "outputs": [],
      "source": [
        "S=\"\"\n",
        "for i in B:\n",
        "    S=S+\" \"+i\n",
        "print(S)"
      ]
    },
    {
      "cell_type": "code",
      "execution_count": null,
      "metadata": {
        "id": "c171194b"
      },
      "outputs": [],
      "source": [
        "type(S)"
      ]
    },
    {
      "cell_type": "code",
      "execution_count": null,
      "metadata": {
        "id": "6a4867d4"
      },
      "outputs": [],
      "source": [
        "# Alternate method or recommended methos is Join( ) function\n",
        "\n",
        "S=\" \".join(B) #\" \" means the separater, so join will take each element from the list and join and use the character in \"\" as separater\n",
        "print(S)"
      ]
    },
    {
      "cell_type": "code",
      "execution_count": null,
      "metadata": {
        "id": "3651d635"
      },
      "outputs": [],
      "source": [
        "#if we need \"_\" as separater\n",
        "\n",
        "S=\"_\".join(B)\n",
        "print(S)"
      ]
    },
    {
      "cell_type": "code",
      "execution_count": null,
      "metadata": {
        "id": "15b6ac11"
      },
      "outputs": [],
      "source": [
        "## Reverse each word individually in the string\n",
        "\n",
        "# \"vikas dubey is a good singer\" ==> \"sakiv yebud si a doog regnis\""
      ]
    },
    {
      "cell_type": "code",
      "execution_count": null,
      "metadata": {
        "id": "9e820b52"
      },
      "outputs": [],
      "source": [
        "A=\"vikas dubey is a good singer\"\n",
        "B=A[ : :-1]\n",
        "print(B)"
      ]
    },
    {
      "cell_type": "code",
      "execution_count": null,
      "metadata": {
        "id": "74f37663"
      },
      "outputs": [],
      "source": [
        "B=B.split()\n",
        "print(B)"
      ]
    },
    {
      "cell_type": "code",
      "execution_count": null,
      "metadata": {
        "id": "c5a804f6"
      },
      "outputs": [],
      "source": [
        "B=B[ : :-1]\n",
        "print(B)"
      ]
    },
    {
      "cell_type": "code",
      "execution_count": null,
      "metadata": {
        "id": "192df849"
      },
      "outputs": [],
      "source": [
        "C=\" \".join(B)\n",
        "print(C)"
      ]
    },
    {
      "cell_type": "code",
      "execution_count": null,
      "metadata": {
        "id": "4737268f"
      },
      "outputs": [],
      "source": [
        "# Alternate Method\n",
        "A=\"vikas dubey is a good singer\"\n",
        "A=A.split()\n",
        "for i in range(len(A)):\n",
        "    A[i] = A[i][ : :-1]\n",
        "A"
      ]
    },
    {
      "cell_type": "code",
      "execution_count": null,
      "metadata": {
        "id": "406622fe"
      },
      "outputs": [],
      "source": [
        "B=\" \".join(A)\n",
        "B"
      ]
    },
    {
      "cell_type": "code",
      "execution_count": null,
      "metadata": {
        "id": "2759b93c"
      },
      "outputs": [],
      "source": [
        "#### FORMAT STRINGS ######"
      ]
    },
    {
      "cell_type": "code",
      "execution_count": null,
      "metadata": {
        "id": "55f588e8"
      },
      "outputs": [],
      "source": [
        "# There are 5-6 methods to format the strings.."
      ]
    },
    {
      "cell_type": "code",
      "execution_count": null,
      "metadata": {
        "id": "13c5a194"
      },
      "outputs": [],
      "source": [
        "# Method 1: Concatenate\n",
        "\n",
        "apple_count=4\n",
        "orange_count=10\n",
        "S=\"I have \"+str(apple_count)+\" apples and \"+str(orange_count)+\" oranges\"\n",
        "S"
      ]
    },
    {
      "cell_type": "code",
      "execution_count": null,
      "metadata": {
        "id": "19d0c41e"
      },
      "outputs": [],
      "source": [
        "# Method 2: f-string method [it is available in python 3.6 or higher version, not in the lower version]"
      ]
    },
    {
      "cell_type": "code",
      "execution_count": null,
      "metadata": {
        "id": "2e731723"
      },
      "outputs": [],
      "source": [
        "A=f\"I have {apple_count} apples and {orange_count} oranges\" # by using this function we can format any string\n",
        "\n",
        "#{} is used to pass the variable name whose value you wanna use in the string\n",
        "# Much more cleaner than first syntax\n",
        "A"
      ]
    },
    {
      "cell_type": "code",
      "execution_count": null,
      "metadata": {
        "id": "85152975"
      },
      "outputs": [],
      "source": [
        "# Method 3: format method [it works in all the version of python]\n",
        "\n",
        "S=\"I have {} apples and {} oranges\".format(apple_count,orange_count) #in format mention the variable whose value we want in str\n",
        "#the order should be same other wise it will take wrong values\n",
        "S"
      ]
    },
    {
      "cell_type": "code",
      "execution_count": null,
      "metadata": {
        "id": "76558093"
      },
      "outputs": [],
      "source": [
        "######## There are 44 functions are in STRING , it is impossible to remember everything but in future we can use either if required##########\n",
        "\n",
        "https://www.scaler.com/topics/python/string-methods-python/"
      ]
    },
    {
      "cell_type": "code",
      "execution_count": null,
      "metadata": {
        "id": "6456353b"
      },
      "outputs": [],
      "source": [
        "## Docstrings [it is use to write and store brief or description about your code]##\n",
        "# It can be multiline string which we have to mention in the start of the class or function #\n",
        "\n",
        "def square(x):\n",
        "    '''It will return the square of given variable '''\n",
        "    return x**2\n",
        "help(square)\n"
      ]
    },
    {
      "cell_type": "code",
      "execution_count": null,
      "metadata": {
        "id": "15b65d1d"
      },
      "outputs": [],
      "source": [
        "# You are given two character strings A and B.\n",
        "# You have to find the first occurrence of string B in string A, as a substring,\n",
        "# and return the starting position of first occurrence.\n",
        "# A substring is a contiguous sequence of characters within a string. For e.g \"at\" is a substring in \"catalogue\".\n",
        "\n",
        "class Solution:\n",
        "    # @param A : string\n",
        "    # @param B : string\n",
        "    # @return an integer\n",
        "    def solve(A, B):\n",
        "        if A.count(B)>0:\n",
        "            return A.find(B)\n",
        "        else:\n",
        "            return -1\n",
        "    A=\"Vikas is a good boy\"\n",
        "    B=\"ods\"\n",
        "    C=solve(A,B)\n",
        "    print(C)"
      ]
    },
    {
      "cell_type": "code",
      "execution_count": null,
      "metadata": {
        "id": "04ab686f"
      },
      "outputs": [],
      "source": [
        "import numpy as np\n",
        "\n",
        "A=8\n",
        "cb=pow(A,1/3)\n",
        "cb"
      ]
    },
    {
      "cell_type": "markdown",
      "source": [
        "# Section 7: Sets & Disctionary"
      ],
      "metadata": {
        "id": "E8KfWyEffRf4"
      }
    },
    {
      "cell_type": "code",
      "execution_count": null,
      "metadata": {
        "id": "5cf4d2b8"
      },
      "outputs": [],
      "source": [
        "A = {}\n",
        "\n",
        "# or\n",
        "\n",
        "A=dict()"
      ]
    },
    {
      "cell_type": "code",
      "execution_count": null,
      "metadata": {
        "id": "02e48af2"
      },
      "outputs": [],
      "source": [
        "type(A)"
      ]
    },
    {
      "cell_type": "code",
      "execution_count": null,
      "metadata": {
        "id": "dfa5ee85"
      },
      "outputs": [],
      "source": [
        "csk= {\"MS DHONI\": [40,\"India\",4000], \"Jadeja\":[34,\"India\",2500]}\n",
        "print(csk)\n",
        "print(type(csk))"
      ]
    },
    {
      "cell_type": "code",
      "execution_count": null,
      "metadata": {
        "scrolled": true,
        "id": "aa9f0f3b"
      },
      "outputs": [],
      "source": [
        "csk2=dict({\"MS DHONI\": [40,\"India\",4000], \"Jadeja\":[34,\"India\",2500]})\n",
        "print(csk2)\n",
        "print(type(csk2))"
      ]
    },
    {
      "cell_type": "code",
      "execution_count": null,
      "metadata": {
        "id": "f2f1a45f"
      },
      "outputs": [],
      "source": [
        "csk3=dict([(\"MS Dhoni\",40),(\"Jadeja\",34)]) # So we can use tuples as well to define key:value pair in disctionary\n",
        "print(csk3)\n",
        "print(type(csk3))"
      ]
    },
    {
      "cell_type": "markdown",
      "metadata": {
        "id": "b24ceb60"
      },
      "source": [
        "#### How to access elements from Dictionary"
      ]
    },
    {
      "cell_type": "code",
      "execution_count": null,
      "metadata": {
        "id": "4e7e80bf"
      },
      "outputs": [],
      "source": [
        "# In case of Dictionary, we will access the element using KEYS not INDEX VALUE"
      ]
    },
    {
      "cell_type": "code",
      "execution_count": null,
      "metadata": {
        "id": "f936e9a9"
      },
      "outputs": [],
      "source": [
        "csk2[\"Jadeja\"]"
      ]
    },
    {
      "cell_type": "code",
      "execution_count": null,
      "metadata": {
        "id": "b75f9d30"
      },
      "outputs": [],
      "source": [
        "csk2[\"Rohit\"] # Error Because No Key called \"Rohit\" available in Dictionary"
      ]
    },
    {
      "cell_type": "code",
      "execution_count": null,
      "metadata": {
        "id": "ea76591e"
      },
      "outputs": [],
      "source": [
        "csk2.get(\"MS DHONI\") #This is another way to call the element from dictionary [variable.get(\"Key\")]"
      ]
    },
    {
      "cell_type": "markdown",
      "metadata": {
        "id": "38ccc7e1"
      },
      "source": [
        "#### Adding or updating an element"
      ]
    },
    {
      "cell_type": "code",
      "execution_count": null,
      "metadata": {
        "id": "954c91a3"
      },
      "outputs": [],
      "source": [
        "# Single entry\n",
        "csk2[\"Gaikward\"]=[39,\"India\",2300]  # Variable[\"Key\"]=[Values]\n",
        "print(csk2)"
      ]
    },
    {
      "cell_type": "code",
      "execution_count": null,
      "metadata": {
        "id": "b1be9f40"
      },
      "outputs": [],
      "source": [
        "# Disctionary are Mutable"
      ]
    },
    {
      "cell_type": "code",
      "execution_count": null,
      "metadata": {
        "id": "83e059bb"
      },
      "outputs": [],
      "source": [
        "# Add multiple entries in one go\n",
        "\n",
        "csk2.update({\"Moin\":[30,\"SA\",1000],\"Bravo\":[38,\"WI\",2300]})\n",
        "print(csk2)"
      ]
    },
    {
      "cell_type": "code",
      "execution_count": null,
      "metadata": {
        "id": "99e360ea"
      },
      "outputs": [],
      "source": [
        "csk2[\"Bravo\"]=[38,\"WI\",3000]\n",
        "csk2"
      ]
    },
    {
      "cell_type": "code",
      "execution_count": null,
      "metadata": {
        "id": "628dfca5"
      },
      "outputs": [],
      "source": [
        "# To access specific value for any Key, since the value is in list we can use index value to read the specific value, here runs\n",
        "csk2[\"MS DHONI\"][2]"
      ]
    },
    {
      "cell_type": "code",
      "execution_count": null,
      "metadata": {
        "id": "b66a33a3"
      },
      "outputs": [],
      "source": [
        "# We can add or remove any value in the list\n",
        "csk2[\"MS DHONI\"][2]=csk2[\"MS DHONI\"][2]+50"
      ]
    },
    {
      "cell_type": "code",
      "execution_count": null,
      "metadata": {
        "id": "a0ec0b7b"
      },
      "outputs": [],
      "source": [
        "csk2"
      ]
    },
    {
      "cell_type": "code",
      "execution_count": null,
      "metadata": {
        "id": "b100e19a"
      },
      "outputs": [],
      "source": [
        "# How to Delete element from the Dictionary"
      ]
    },
    {
      "cell_type": "code",
      "execution_count": null,
      "metadata": {
        "id": "6fce3a30"
      },
      "outputs": [],
      "source": [
        "csk2.pop(\"Bravo\") # To delete value from Dict"
      ]
    },
    {
      "cell_type": "code",
      "execution_count": null,
      "metadata": {
        "id": "a0d1fc90"
      },
      "outputs": [],
      "source": [
        "csk2"
      ]
    },
    {
      "cell_type": "code",
      "execution_count": null,
      "metadata": {
        "id": "03f6d03a"
      },
      "outputs": [],
      "source": [
        "# Dictionary can't have same KEY multiple time i.e, duplication of KEY is not possible in Dictionary"
      ]
    },
    {
      "cell_type": "code",
      "execution_count": null,
      "metadata": {
        "id": "d060162a"
      },
      "outputs": [],
      "source": [
        "# Alternate option is\n",
        "\n",
        "del csk2[\"MS DHONI\"]"
      ]
    },
    {
      "cell_type": "code",
      "execution_count": null,
      "metadata": {
        "id": "fe3f5699"
      },
      "outputs": [],
      "source": [
        "csk2"
      ]
    },
    {
      "cell_type": "code",
      "execution_count": null,
      "metadata": {
        "id": "2d84a54a"
      },
      "outputs": [],
      "source": [
        "# Methods\n",
        "\n",
        "# how to get all the keys present in dictionary"
      ]
    },
    {
      "cell_type": "code",
      "execution_count": null,
      "metadata": {
        "id": "6ff75f5a"
      },
      "outputs": [],
      "source": [
        "csk2.keys()"
      ]
    },
    {
      "cell_type": "code",
      "execution_count": null,
      "metadata": {
        "id": "452d2c93"
      },
      "outputs": [],
      "source": [
        "csk2.values() # To get all the values of Disctionary"
      ]
    },
    {
      "cell_type": "code",
      "execution_count": null,
      "metadata": {
        "id": "cb378204"
      },
      "outputs": [],
      "source": [
        "csk2.items()"
      ]
    },
    {
      "cell_type": "code",
      "execution_count": null,
      "metadata": {
        "id": "c5641608"
      },
      "outputs": [],
      "source": [
        "csk2.popitem() # Deleted last value from the dictionary, don't accept any argument"
      ]
    },
    {
      "cell_type": "code",
      "execution_count": null,
      "metadata": {
        "id": "096105c3"
      },
      "outputs": [],
      "source": [
        "csk2.clear() # Clear the entire dictionary and convert the dictionary as EMPTY DICT"
      ]
    },
    {
      "cell_type": "code",
      "execution_count": null,
      "metadata": {
        "id": "416d4718"
      },
      "outputs": [],
      "source": [
        "csk2"
      ]
    },
    {
      "cell_type": "code",
      "execution_count": null,
      "metadata": {
        "id": "c7b2ae40"
      },
      "outputs": [],
      "source": [
        "csk4=csk2.copy() # To copy any dictionary"
      ]
    },
    {
      "cell_type": "code",
      "execution_count": null,
      "metadata": {
        "id": "7164c84c"
      },
      "outputs": [],
      "source": [
        "csk4"
      ]
    },
    {
      "cell_type": "code",
      "execution_count": null,
      "metadata": {
        "id": "d4351694"
      },
      "outputs": [],
      "source": [
        "# Iterate a Dictionary\n",
        "\n",
        "for key,value in csk2.items():\n",
        "    print(key,\":\",value)"
      ]
    },
    {
      "cell_type": "code",
      "execution_count": null,
      "metadata": {
        "id": "26d83542"
      },
      "outputs": [],
      "source": [
        "# Write a dictionary with number from 1 to 10 as key and their square as value\n",
        "\n",
        "Sqr={}\n",
        "for i in range(1,11):\n",
        "    Sqr.update({i:i*i})\n",
        "\n",
        "print(Sqr)"
      ]
    },
    {
      "cell_type": "code",
      "execution_count": null,
      "metadata": {
        "id": "f8cbea52"
      },
      "outputs": [],
      "source": [
        "# Alternative Method\n",
        "\n",
        "Sqr2={i:i*i for i in range(1,11)}\n",
        "Sqr2"
      ]
    },
    {
      "cell_type": "code",
      "execution_count": null,
      "metadata": {
        "id": "87fc553f"
      },
      "outputs": [],
      "source": [
        "# in case of any conditins\n",
        "\n",
        "Sqr2={i:i*i for i in range(1,11) if i%2==0}\n",
        "Sqr2"
      ]
    },
    {
      "cell_type": "code",
      "execution_count": null,
      "metadata": {
        "id": "80783896"
      },
      "outputs": [],
      "source": [
        "# Given the list, multiply with some number in values\n",
        "\n",
        "A={\"a\":10,\"b\":20,\"c\":30}\n",
        "B=100\n",
        "for i,j in A.items():\n",
        "    A.update({i:j*B})\n",
        "print(A)"
      ]
    },
    {
      "cell_type": "code",
      "execution_count": null,
      "metadata": {
        "id": "c8b48a0d"
      },
      "outputs": [],
      "source": [
        "# Alternative method\n",
        "\n",
        "A={\"a\":10,\"b\":20,\"c\":30}\n",
        "B=100\n",
        "C={i:j*B for i,j in A.items()}"
      ]
    },
    {
      "cell_type": "code",
      "execution_count": null,
      "metadata": {
        "id": "e4ba9729"
      },
      "outputs": [],
      "source": [
        "print(C)"
      ]
    },
    {
      "cell_type": "code",
      "execution_count": null,
      "metadata": {
        "id": "0fcb0fa7"
      },
      "outputs": [],
      "source": [
        "### Nested Disctionary [Dictionary within Dictionary]"
      ]
    },
    {
      "cell_type": "code",
      "execution_count": null,
      "metadata": {
        "id": "7c220c07"
      },
      "outputs": [],
      "source": [
        "ipl={\n",
        "    \"CSK\":{\"MS Dhoni\":[40,\"IND\",2500],\"Bravo\":[38,\"WI\",2000]},\n",
        "    \"MI\":{\"Rohit\":[33,\"IND\",3000],\"Kishan\":[22,\"Ind\",2000]}\n",
        "}"
      ]
    },
    {
      "cell_type": "code",
      "execution_count": null,
      "metadata": {
        "id": "c781b82b"
      },
      "outputs": [],
      "source": [
        "ipl[\"CSK\"]"
      ]
    },
    {
      "cell_type": "code",
      "execution_count": null,
      "metadata": {
        "id": "c93ba6a1"
      },
      "outputs": [],
      "source": [
        "ipl.get(\"CSK\")"
      ]
    },
    {
      "cell_type": "code",
      "execution_count": null,
      "metadata": {
        "id": "4f847a07"
      },
      "outputs": [],
      "source": [
        "ipl[\"CSK\"][\"MS Dhoni\"]"
      ]
    },
    {
      "cell_type": "code",
      "execution_count": null,
      "metadata": {
        "id": "830a14ac"
      },
      "outputs": [],
      "source": [
        "ipl.get(\"CSK\").get(\"MS Dhoni\")"
      ]
    },
    {
      "cell_type": "code",
      "execution_count": null,
      "metadata": {
        "id": "3d2f87f5"
      },
      "outputs": [],
      "source": [
        "type(ipl[\"CSK\"][\"MS Dhoni\"])"
      ]
    },
    {
      "cell_type": "code",
      "execution_count": null,
      "metadata": {
        "id": "8920a2c3"
      },
      "outputs": [],
      "source": [
        "ipl[\"CSK\"][\"MS Dhoni\"][2]"
      ]
    },
    {
      "cell_type": "code",
      "execution_count": null,
      "metadata": {
        "id": "e9081644"
      },
      "outputs": [],
      "source": [
        "### SETS #####"
      ]
    },
    {
      "cell_type": "code",
      "execution_count": null,
      "metadata": {
        "id": "a8205b71"
      },
      "outputs": [],
      "source": [
        "# How to create a set\n",
        "\n",
        "A=set()\n",
        "type(A)"
      ]
    },
    {
      "cell_type": "code",
      "execution_count": null,
      "metadata": {
        "id": "2ea9508d"
      },
      "outputs": [],
      "source": [
        "B={}\n",
        "type(B)"
      ]
    },
    {
      "cell_type": "code",
      "execution_count": null,
      "metadata": {
        "id": "1912e410"
      },
      "outputs": [],
      "source": [
        "C=set({1,2,3,4,5})\n",
        "print(type(C))\n",
        "print(C)"
      ]
    },
    {
      "cell_type": "code",
      "execution_count": null,
      "metadata": {
        "id": "c1fa3930"
      },
      "outputs": [],
      "source": [
        "D={1,2,3,4,5,6,7}\n",
        "print(type(D))\n",
        "print(D)"
      ]
    },
    {
      "cell_type": "code",
      "execution_count": null,
      "metadata": {
        "id": "16b5cb12"
      },
      "outputs": [],
      "source": [
        "# In totality, we can define a set using {} or set() method.\n",
        "# We can enter the elements like {1,2,3,4} or set({1,2,3,4})"
      ]
    },
    {
      "cell_type": "code",
      "execution_count": null,
      "metadata": {
        "id": "a6f70267"
      },
      "outputs": [],
      "source": [
        "E={1,2,3,4,4,4,4,4,5} # The repetation is not allowed in set, hence the python will consider only unique vale\n",
        "E"
      ]
    },
    {
      "cell_type": "code",
      "execution_count": null,
      "metadata": {
        "id": "68be2a49"
      },
      "outputs": [],
      "source": [
        "F={3,2,1,4,5} #  the software will automatically arrange numbers in ascending order\n",
        "F"
      ]
    },
    {
      "cell_type": "code",
      "execution_count": null,
      "metadata": {
        "id": "a08a9b76"
      },
      "outputs": [],
      "source": [
        "G={\"v\",\"d\",\"a\"} #  the software will automatically arrange letters in Alhabatic order\n",
        "G"
      ]
    },
    {
      "cell_type": "code",
      "execution_count": null,
      "metadata": {
        "id": "eec7c552"
      },
      "outputs": [],
      "source": [
        "# Convert string into Set\n",
        "\n",
        "A=set(\"Mathematics Subject\") # it will consider each letter as element of set, remove duplicacy & arrange in ASCII order\n",
        "print(A)"
      ]
    },
    {
      "cell_type": "code",
      "execution_count": null,
      "metadata": {
        "id": "58aab578"
      },
      "outputs": [],
      "source": [
        "# IN TOTALITY WE WILL TREAT SET AS UNORDERED because Order is not at all important in SET"
      ]
    },
    {
      "cell_type": "code",
      "execution_count": null,
      "metadata": {
        "id": "a73baa46"
      },
      "outputs": [],
      "source": [
        "sentence = \"be the change you wish to see in the world\" # Find out the unique WORDS from this string\n",
        "\n",
        "A=set(sentence.split()) # So basically SPLIT method divide the strings using space as separater [default separater value] and create a list\n",
        "A"
      ]
    },
    {
      "cell_type": "code",
      "execution_count": null,
      "metadata": {
        "id": "bedce517"
      },
      "outputs": [],
      "source": [
        "## How to add element in set"
      ]
    },
    {
      "cell_type": "code",
      "execution_count": null,
      "metadata": {
        "id": "a145fff7"
      },
      "outputs": [],
      "source": [
        "A={1,2,3,4,5}"
      ]
    },
    {
      "cell_type": "code",
      "execution_count": null,
      "metadata": {
        "id": "3248c111"
      },
      "outputs": [],
      "source": [
        "A.add(6) # Adding single value\n",
        "print(A)"
      ]
    },
    {
      "cell_type": "code",
      "execution_count": null,
      "metadata": {
        "id": "1584fa0b"
      },
      "outputs": [],
      "source": [
        "A.update({7,8,9}) # For adding multiple element at a time, use UPDATE method instead of ADD\n",
        "                    #[write a sub-set you wanna add under update method using {} or [] or ()]\n",
        "                    # You can also use UPDATE method to add single value as well but write the number in {} or\n",
        "\n",
        "A"
      ]
    },
    {
      "cell_type": "code",
      "execution_count": null,
      "metadata": {
        "id": "83bc93f0"
      },
      "outputs": [],
      "source": [
        "A.update([10,11,12])\n",
        "A"
      ]
    },
    {
      "cell_type": "code",
      "execution_count": null,
      "metadata": {
        "id": "d8d5920f"
      },
      "outputs": [],
      "source": [
        "A.update([13])\n",
        "A"
      ]
    },
    {
      "cell_type": "code",
      "execution_count": null,
      "metadata": {
        "id": "6fb35f70"
      },
      "outputs": [],
      "source": [
        "A.update({14})\n",
        "A"
      ]
    },
    {
      "cell_type": "code",
      "execution_count": null,
      "metadata": {
        "id": "678d1a83"
      },
      "outputs": [],
      "source": [
        "A.update((15,16))\n",
        "A"
      ]
    },
    {
      "cell_type": "code",
      "execution_count": null,
      "metadata": {
        "id": "4fead403"
      },
      "outputs": [],
      "source": [
        "A.update((17)) # For enter single value using UPDATE, we need value in {} or [], but not ()\n",
        "A"
      ]
    },
    {
      "cell_type": "code",
      "execution_count": null,
      "metadata": {
        "id": "04f14641"
      },
      "outputs": [],
      "source": [
        "# Delete element from the set [discard & remove are the methods we use to delete any value from the set]"
      ]
    },
    {
      "cell_type": "code",
      "execution_count": null,
      "metadata": {
        "id": "c4e312cf"
      },
      "outputs": [],
      "source": [
        "A.discard(16)\n",
        "A"
      ]
    },
    {
      "cell_type": "code",
      "execution_count": null,
      "metadata": {
        "id": "dc2f282c"
      },
      "outputs": [],
      "source": [
        "A.discard(5)\n",
        "A"
      ]
    },
    {
      "cell_type": "code",
      "execution_count": null,
      "metadata": {
        "id": "9d6a85a0"
      },
      "outputs": [],
      "source": [
        "A.remove(3)\n",
        "A"
      ]
    },
    {
      "cell_type": "code",
      "execution_count": null,
      "metadata": {
        "id": "c2a2ed34"
      },
      "outputs": [],
      "source": [
        "A.pop() # Here POP works differently, it will by default delete first element of the SET\n",
        "A"
      ]
    },
    {
      "cell_type": "code",
      "execution_count": null,
      "metadata": {
        "id": "2bdfa031"
      },
      "outputs": [],
      "source": [
        "A.pop()\n",
        "A"
      ]
    },
    {
      "cell_type": "code",
      "execution_count": null,
      "metadata": {
        "id": "21d3a284"
      },
      "outputs": [],
      "source": [
        "# Union of sets"
      ]
    },
    {
      "cell_type": "code",
      "execution_count": null,
      "metadata": {
        "id": "61bfb6ea"
      },
      "outputs": [],
      "source": [
        "a={1,2,3,4,5}\n",
        "b={5,6,7,8}\n",
        "a.union(b)"
      ]
    },
    {
      "cell_type": "code",
      "execution_count": null,
      "metadata": {
        "id": "8ee9ee86"
      },
      "outputs": [],
      "source": [
        "a|b # Another way to find unioun"
      ]
    },
    {
      "cell_type": "code",
      "execution_count": null,
      "metadata": {
        "id": "3ea8bd52"
      },
      "outputs": [],
      "source": [
        "# Intersection\n",
        "\n",
        "a.intersection(b)"
      ]
    },
    {
      "cell_type": "code",
      "execution_count": null,
      "metadata": {
        "id": "74048eb7"
      },
      "outputs": [],
      "source": [
        "c={1,2,3}\n",
        "d={4,5,6}\n",
        "c.intersection(d)"
      ]
    },
    {
      "cell_type": "code",
      "execution_count": null,
      "metadata": {
        "id": "9a331057"
      },
      "outputs": [],
      "source": [
        "# Alternative of intersection method\n",
        "\n",
        "a&b"
      ]
    },
    {
      "cell_type": "code",
      "execution_count": null,
      "metadata": {
        "id": "bf260161"
      },
      "outputs": [],
      "source": [
        "# Difference in Sets"
      ]
    },
    {
      "cell_type": "code",
      "execution_count": null,
      "metadata": {
        "id": "6fc10f5a"
      },
      "outputs": [],
      "source": [
        "a.difference(b) # A-b ==> Remove all element of B from A"
      ]
    },
    {
      "cell_type": "code",
      "execution_count": null,
      "metadata": {
        "id": "f40c4bfa"
      },
      "outputs": [],
      "source": [
        "b.difference(a) # b-a ==> remove all element of a from b"
      ]
    },
    {
      "cell_type": "code",
      "execution_count": null,
      "metadata": {
        "id": "c71b0ea9"
      },
      "outputs": [],
      "source": [
        "# Symmetric difference [A+B-intersection] ==> symbol ^ [A^B]\n",
        "\n",
        "a.symmetric_difference(b)"
      ]
    },
    {
      "cell_type": "code",
      "execution_count": null,
      "metadata": {
        "id": "c9ba9e04"
      },
      "outputs": [],
      "source": [
        "c.isdisjoint(d) # Disjoint means mutually exclusive that said no element common in both the sets [If yes==> output - True otherwise False]"
      ]
    },
    {
      "cell_type": "code",
      "execution_count": null,
      "metadata": {
        "id": "8e82e36e"
      },
      "outputs": [],
      "source": [
        "a.issubset(b)"
      ]
    },
    {
      "cell_type": "code",
      "execution_count": null,
      "metadata": {
        "id": "edfccf97"
      },
      "outputs": [],
      "source": [
        "a={1,2,3}\n",
        "b={1,2,3,4,5,6}\n",
        "print(a.issubset(b))\n",
        "\n",
        "print(b.issubset(a))\n",
        "print(a.issuperset(b))\n",
        "print(b.issuperset(a))"
      ]
    },
    {
      "cell_type": "code",
      "execution_count": null,
      "metadata": {
        "id": "21ac19f8"
      },
      "outputs": [],
      "source": [
        "# Assignments"
      ]
    },
    {
      "cell_type": "code",
      "execution_count": null,
      "metadata": {
        "id": "0c82bb6e"
      },
      "outputs": [],
      "source": [
        "List=[10,10,10,20,20,30]\n",
        "dict= {}\n",
        "count, result = 0, \" \"\n",
        "for item in reversed(List):\n",
        "    dict[item] = dict.get(item,0)+1\n",
        "     if dict[item] >= count:\n",
        "        count, result = dict[item],item\n",
        "\n",
        "print(count,result)\n",
        "print(dict)"
      ]
    },
    {
      "cell_type": "code",
      "execution_count": null,
      "metadata": {
        "id": "8e02f79f"
      },
      "outputs": [],
      "source": [
        "most_frequent([10,20,10,10,20,30])"
      ]
    },
    {
      "cell_type": "code",
      "execution_count": null,
      "metadata": {
        "id": "4070ea10"
      },
      "outputs": [],
      "source": [
        "str1=\"I LOVE PYTHON\"\n",
        "print(type(str1))\n",
        "A={}\n",
        "for i in str1:\n",
        "    print(i,end=\" \")\n",
        "    A[i]=str1.count(i)\n",
        "print(A)"
      ]
    },
    {
      "cell_type": "code",
      "execution_count": null,
      "metadata": {
        "id": "1acc3db3"
      },
      "outputs": [],
      "source": [
        "dict={1:10,2:20,3:30}\n",
        "ans = 0\n",
        "A=list(dict.values())\n",
        "for i in A:\n",
        "    ans=ans+i\n",
        "print(ans)"
      ]
    },
    {
      "cell_type": "code",
      "execution_count": null,
      "metadata": {
        "id": "41e5e7b6"
      },
      "outputs": [],
      "source": [
        "dict1={1:10,2:20,3:30}\n",
        "dict2={3:10,4:25,5:55}\n",
        "dict3 = {}\n",
        "for i,j in dict1.items():\n",
        "    for k,l in dict2.items():\n",
        "        if i==k:\n",
        "            dict3[i]=j+l\n",
        "            #dict3.update({i:j+l})\n",
        "        else:\n",
        "            continue\n",
        "print(dict3)"
      ]
    },
    {
      "cell_type": "code",
      "execution_count": null,
      "metadata": {
        "id": "b87ab311"
      },
      "outputs": [],
      "source": [
        "dictionary={\"a\":[1,2,3,4,5],\"b\":[1,2,3,3,3,3,3,4,4,4,5,5,5,6,6]}\n",
        "max_val = 0\n",
        "max_key = None\n",
        "A=list(dictionary.values())\n",
        "C=list(dictionary.keys())\n",
        "for i in range(len(A)):\n",
        "    B=set(A[i])\n",
        "    if len(B)>max_val:\n",
        "        max_val=len(B)\n",
        "        max_key=C[i]\n",
        "print(max_key)"
      ]
    },
    {
      "cell_type": "code",
      "execution_count": null,
      "metadata": {
        "id": "c9c985bf"
      },
      "outputs": [],
      "source": [
        "# How to merge two dictionaries\n",
        "\n",
        "d1={\"a\":100, \"b\":200}\n",
        "d2={\"x\":300, \"y\":400}\n",
        "d3={}\n",
        "d3.update(d1)\n",
        "d3.update(d2)\n",
        "print(d3)"
      ]
    },
    {
      "cell_type": "code",
      "execution_count": null,
      "metadata": {
        "id": "587b016e"
      },
      "outputs": [],
      "source": [
        "# Find sum of all the values of dictionary\n",
        "\n",
        "my_dict={\"data1\":100, \"data2\":-54,\"data3\":247}\n",
        "sum(my_dict.values())"
      ]
    },
    {
      "cell_type": "code",
      "execution_count": null,
      "metadata": {
        "id": "ad58f77e"
      },
      "outputs": [],
      "source": [
        "# Write a function that takes a list of numbers and return a list with two elements\n",
        " # --> The first element should be the sum of all the even numbers in the list\n",
        "   # --> The second element should be the sum of all the odd numbers in the list\n",
        "\n",
        "A=list(map(int,input().split()))\n",
        "def addition(A):\n",
        "    ans_even=0\n",
        "    ans_odd=0\n",
        "    for i in A:\n",
        "        if i%2==0:\n",
        "            ans_even+=i\n",
        "        else:\n",
        "            ans_odd+=i\n",
        "    B=[ans_even,ans_odd]\n",
        "    return B\n",
        "\n",
        "addition(A)"
      ]
    },
    {
      "cell_type": "code",
      "execution_count": null,
      "metadata": {
        "id": "18b0f457"
      },
      "outputs": [],
      "source": [
        "# Method 2\n",
        "\n",
        "def addition_method2(A):\n",
        "    ans_even=0\n",
        "    ans_odd=0\n",
        "    B=[i for i in A if i%2==0]\n",
        "    C=[i for i in A if i%2==1]\n",
        "    D=[sum(B),sum(C)]\n",
        "    return D\n",
        "\n",
        "addition_method2([1,2,3,4])"
      ]
    },
    {
      "cell_type": "code",
      "execution_count": null,
      "metadata": {
        "id": "d5ea5df9"
      },
      "outputs": [],
      "source": [
        "# Create a function that takes two list of numbers sorted in ascending order and returns a list of no. which are common...\n",
        "#... to both the lists\n",
        "\n",
        "def common_members(A,B): # A & B are input lists\n",
        "    A=sorted(A)\n",
        "    B=sorted(B)\n",
        "    C=[]\n",
        "    for i in A:\n",
        "        for j in B:\n",
        "            if i==j:\n",
        "                C.append(i)\n",
        "    return list(set(C))\n",
        "\n",
        "common_members([2,1,3,4,7,9],[4,1,5,7,9])"
      ]
    },
    {
      "cell_type": "code",
      "execution_count": null,
      "metadata": {
        "id": "07e05055"
      },
      "outputs": [],
      "source": [
        "# Method 2 : Simplest one using concept of SET\n",
        "\n",
        "def common_members(A,B): # A & B are input lists\n",
        "    return list(set(A)&set(B))\n",
        "\n",
        "common_members([2,1,3,4,7,9],[4,1,5,7,9])"
      ]
    },
    {
      "cell_type": "code",
      "execution_count": null,
      "metadata": {
        "id": "44c707bd"
      },
      "outputs": [],
      "source": [
        "# Create a function that takes a list of strings & return a dictionary\n",
        "# input list is [\"1=one\",\"2=two\",\"3=three\",\"4=Four\"]\n",
        "\n",
        "def list_to_dict(A):\n",
        "    B=[]\n",
        "    C={}\n",
        "    for i in range(len(A)):\n",
        "        B.append(list(map(str,A[i].split(\"=\"))))\n",
        "    for i in range(len(B)):\n",
        "        C[B[i][0]]=B[i][1]\n",
        "    return C\n",
        "\n",
        "list_to_dict([\"1=one\",\"2=two\",\"3=three\",\"4=Four\"])"
      ]
    },
    {
      "cell_type": "code",
      "execution_count": null,
      "metadata": {
        "id": "7f23a2fd"
      },
      "outputs": [],
      "source": [
        "# Method 2:\n",
        "\n",
        "def list_to_dict(A):\n",
        "    return dict(i.split(\"=\") for i in A)\n",
        "\n",
        "list_to_dict([\"1=one\",\"2=two\",\"3=three\",\"4=Four\"])"
      ]
    },
    {
      "cell_type": "markdown",
      "source": [
        "# Section 8: Tuple"
      ],
      "metadata": {
        "id": "MQ_hLcDMfq81"
      }
    },
    {
      "cell_type": "code",
      "execution_count": null,
      "metadata": {
        "id": "6be1dc2f"
      },
      "outputs": [],
      "source": []
    },
    {
      "cell_type": "code",
      "execution_count": null,
      "metadata": {
        "id": "818df7e7"
      },
      "outputs": [],
      "source": [
        "####### TUPLES #######"
      ]
    },
    {
      "cell_type": "code",
      "execution_count": null,
      "metadata": {
        "id": "ef05479c"
      },
      "outputs": [],
      "source": [
        "# Sometime, when we are working on any project ans we want any array which we cannot edit or the array won't be editable,\n",
        "# this is called Tuples... List is something we can edit anytime but tuple is not editable....\n",
        "\n",
        "#Egaxmple: A=(1,2,3,4,5) ==> We use ( ) to define tuple"
      ]
    },
    {
      "cell_type": "code",
      "execution_count": null,
      "metadata": {
        "id": "013b3d7a"
      },
      "outputs": [],
      "source": [
        "A=(1,2,3,4,5)\n",
        "type(A)"
      ]
    },
    {
      "cell_type": "code",
      "execution_count": null,
      "metadata": {
        "id": "a591eb0d"
      },
      "outputs": [],
      "source": [
        "#Let's try to modify the data withing tuple to check whether really tuples are non-editable or it is a myth...."
      ]
    },
    {
      "cell_type": "code",
      "execution_count": null,
      "metadata": {
        "id": "e6dc4b6e"
      },
      "outputs": [],
      "source": [
        "A=(1,2,3,4,5)\n",
        "A[0] # Referring the index number 0 and returning the respective value"
      ]
    },
    {
      "cell_type": "code",
      "execution_count": null,
      "metadata": {
        "id": "a366a240"
      },
      "outputs": [],
      "source": [
        "# Let's try to change 3rd value (index 2) of A from 3 to 100.\n",
        "\n",
        "A[2]=100\n",
        "A # It says tuple does not support item assignment that means changes is not possible in tuple, it is always frozen or fixed"
      ]
    },
    {
      "cell_type": "code",
      "execution_count": null,
      "metadata": {
        "id": "26abcae5"
      },
      "outputs": [],
      "source": [
        "# Whenever you need immutable (not editable) data in an array use TUPLE not LIST"
      ]
    },
    {
      "cell_type": "code",
      "execution_count": null,
      "metadata": {
        "id": "5ec445e3"
      },
      "outputs": [],
      "source": [
        "# Inserting element, removing element, replacing element is not allowed in tuple"
      ]
    },
    {
      "cell_type": "code",
      "execution_count": null,
      "metadata": {
        "id": "f09a5457"
      },
      "outputs": [],
      "source": [
        "# So whenever we are 100% want to make our array non-editable then use tuple.\n",
        "# If we want to give scope of future updation to array then use List."
      ]
    },
    {
      "cell_type": "code",
      "execution_count": null,
      "metadata": {
        "id": "fab0baf6"
      },
      "outputs": [],
      "source": [
        "# How to create tuple\n",
        "T=()\n",
        "T2=tuple()\n",
        "print(type(T))\n",
        "print(type(T2))"
      ]
    },
    {
      "cell_type": "code",
      "execution_count": null,
      "metadata": {
        "id": "335dd7ee"
      },
      "outputs": [],
      "source": [
        "# Convert from list to tuple\n",
        "L=[1,2,3,4,5]\n",
        "T=tuple(L)\n",
        "print(T)"
      ]
    },
    {
      "cell_type": "code",
      "execution_count": null,
      "metadata": {
        "id": "769b3a16"
      },
      "outputs": [],
      "source": [
        "# Convert from tumple to list\n",
        "T=(1,2,3,4,5)\n",
        "L=list(T)\n",
        "L"
      ]
    },
    {
      "cell_type": "code",
      "execution_count": null,
      "metadata": {
        "id": "c350d017"
      },
      "outputs": [],
      "source": [
        "# So whenever we need to edit TUPLE, conert it to LIST and do the changes and reconvert again as TUPLE"
      ]
    },
    {
      "cell_type": "code",
      "execution_count": null,
      "metadata": {
        "id": "57e2d20a"
      },
      "outputs": [],
      "source": [
        "A=(\"a\",\"b\",\"c\",\"d\")\n",
        "A=list(A)\n",
        "A.append(\"E\")\n",
        "print(A)\n",
        "A=tuple(A)\n",
        "A"
      ]
    },
    {
      "cell_type": "code",
      "execution_count": null,
      "metadata": {
        "id": "1c7503c3"
      },
      "outputs": [],
      "source": [
        "A=1,2,3,4 # it will store as tuple only\n",
        "print(A)\n",
        "print(type(A))"
      ]
    },
    {
      "cell_type": "code",
      "execution_count": null,
      "metadata": {
        "id": "2732ac67"
      },
      "outputs": [],
      "source": [
        "# Given an array, check if the array is in increasing order or not\n",
        "\n",
        "A=(1,2,4,3,5,6)\n",
        "print(len(A))\n",
        "for i in range(len(A)-1):\n",
        "    if A[i]<A[i+1]:\n",
        "        print(\"Yes\")\n",
        "    else:\n",
        "        print(\"No\")\n",
        "        break"
      ]
    },
    {
      "cell_type": "code",
      "execution_count": null,
      "metadata": {
        "id": "158d40cb"
      },
      "outputs": [],
      "source": [
        "#Efficient Method\n",
        "\n",
        "A=(1,2,3,4,5,6)\n",
        "ans=\"Yes\"\n",
        "for i in range(len(A)-1):\n",
        "    if A[i]<A[i+1]:\n",
        "        continue\n",
        "    else:\n",
        "        ans=\"No\"\n",
        "        break\n",
        "print(ans)"
      ]
    },
    {
      "cell_type": "code",
      "execution_count": null,
      "metadata": {
        "id": "0761621f"
      },
      "outputs": [],
      "source": [
        "#### MAP FUNCTION ####"
      ]
    },
    {
      "cell_type": "code",
      "execution_count": null,
      "metadata": {
        "id": "411b1940"
      },
      "outputs": [],
      "source": [
        "# map(function, iterable) ==> iterable could be anything list, tuple, sets, etc."
      ]
    },
    {
      "cell_type": "code",
      "execution_count": null,
      "metadata": {
        "id": "82fdc828"
      },
      "outputs": [],
      "source": [
        "#Given an array, generate a new array containing squares of all numbers.\n",
        "\n",
        "A=(1,2,3,4,5,6)\n",
        "def square(x):\n",
        "    return x**2\n",
        "B=[]\n",
        "for i in A:\n",
        "    B.append(square(i))\n",
        "print(B)"
      ]
    },
    {
      "cell_type": "code",
      "execution_count": null,
      "metadata": {
        "id": "83a961fe"
      },
      "outputs": [],
      "source": [
        "#By using map we can execute above in one line\n",
        "\n",
        "A=(1,2,3,4,5)\n",
        "def square(x):\n",
        "    return x**2\n",
        "B=list(map(square,A)) # Just call the name of function, no need to use () in from of function\n",
        "B"
      ]
    },
    {
      "cell_type": "code",
      "execution_count": null,
      "metadata": {
        "id": "05c272dc"
      },
      "outputs": [],
      "source": [
        "a,b,c=map(int,input().split())\n",
        "print(a,b,c)"
      ]
    },
    {
      "cell_type": "code",
      "execution_count": null,
      "metadata": {
        "id": "266d9b60"
      },
      "outputs": [],
      "source": [
        "#### 2D List #### [Two dimention list ==> The list which have list inside that]"
      ]
    },
    {
      "cell_type": "code",
      "execution_count": null,
      "metadata": {
        "id": "57dbaada"
      },
      "outputs": [],
      "source": [
        "# Python allow us to store a list inside list called nested list"
      ]
    },
    {
      "cell_type": "code",
      "execution_count": null,
      "metadata": {
        "id": "97f81ba0"
      },
      "outputs": [],
      "source": [
        "# In python, we can use 2D list to write matrix [We will enter each row as a list within the original list]"
      ]
    },
    {
      "cell_type": "code",
      "execution_count": null,
      "metadata": {
        "id": "0cb7aee6"
      },
      "outputs": [],
      "source": [
        "A=[[1,2,3],[4,5,6],[7,8,9]]\n",
        "print(A)"
      ]
    },
    {
      "cell_type": "code",
      "execution_count": null,
      "metadata": {
        "id": "8b28ef9b"
      },
      "outputs": [],
      "source": [
        "print(A[0])\n",
        "print(A[1])\n",
        "print(A[2])\n"
      ]
    },
    {
      "cell_type": "code",
      "execution_count": null,
      "metadata": {
        "id": "18f4b7a8"
      },
      "outputs": [],
      "source": [
        "# Alternative method to print each row separately\n",
        "\n",
        "A=[[1,2,3],[4,5,6],[7,8,9]]\n",
        "for i in A:\n",
        "    print(i)"
      ]
    },
    {
      "cell_type": "code",
      "execution_count": null,
      "metadata": {
        "id": "535f65d9"
      },
      "outputs": [],
      "source": [
        "# Print each column separately\n",
        "\n",
        "A=[[1,2,3],[4,5,6],[7,8,9]]\n",
        "for i in range(len(A)):\n",
        "    for j in range(len(A)):\n",
        "        print(A[j][i],end=\" \")\n",
        "    print()"
      ]
    },
    {
      "cell_type": "code",
      "execution_count": null,
      "metadata": {
        "id": "9c86e2ca"
      },
      "outputs": [],
      "source": [
        "def solve(A, B):\n",
        "    ans=0\n",
        "    for i in range(len(B)-1):\n",
        "        for j in range(i+1,len(B)):\n",
        "            if B[i]+B[j]==A:\n",
        "                ans=1\n",
        "            else:\n",
        "                continue\n",
        "    return ans\n",
        "\n",
        "solve(A=100,B=[10,23,52,95,29,9,47,49,55,96,4])"
      ]
    },
    {
      "cell_type": "markdown",
      "source": [],
      "metadata": {
        "id": "7Mwk8dOMgXSd"
      }
    },
    {
      "cell_type": "markdown",
      "source": [
        "# Exercise"
      ],
      "metadata": {
        "id": "ClunpJmCW5La"
      }
    },
    {
      "cell_type": "code",
      "execution_count": null,
      "metadata": {
        "id": "a0NT9BJ2KnIk"
      },
      "outputs": [],
      "source": [
        "# Given the value of N, print the below pattern\n",
        "\n",
        "**********\n",
        "****  ****\n",
        "***    ***\n",
        "**      **\n",
        "*        *\n",
        "\n",
        "# Given N=5, print the below pattern\n",
        "\n",
        "*        *\n",
        "**      **\n",
        "***    ***\n",
        "****  ****\n",
        "**********\n",
        "\n",
        "# Given N=5, print the below pattern\n",
        "\n",
        "\n",
        "# Given N=5, print the below pattern\n",
        "\n",
        "N=5\n",
        "for i in range(N):\n",
        "    for j in range(N-i):\n",
        "        print(\"*\",end=\"\")\n",
        "    for j in range(2*i):\n",
        "        print(\" \",end=\"\")\n",
        "    for j in range(N-i):\n",
        "        print(\"*\",end=\"\")\n",
        "\n",
        "**********\n",
        "****  ****\n",
        "***    ***\n",
        "**      **\n",
        "*        *\n",
        "*        *\n",
        "**      **\n",
        "***    ***\n",
        "****  ****\n",
        "**********\n",
        "\n",
        "# Given N, print the below pattern\n",
        "\n",
        "1\n",
        "2 3\n",
        "4 5 6\n",
        "7 8 9 10\n",
        "\n",
        "# Given N=5, print the below pattern\n",
        "\n",
        "____*_\n",
        "___*_*_\n",
        "__*_*_*_\n",
        "_*_*_*_*_\n",
        "*_*_*_*_*_\n",
        "\n"
      ]
    },
    {
      "cell_type": "markdown",
      "source": [
        "\n",
        "\n",
        "```\n",
        "# Given the value of N, print the below pattern\n",
        "\n",
        "**********\n",
        "****  ****\n",
        "***    ***\n",
        "**      **\n",
        "*        *\n",
        "\n",
        "```\n",
        "\n"
      ],
      "metadata": {
        "id": "v6EPxmji4CXE"
      }
    },
    {
      "cell_type": "code",
      "source": [
        "data_01 = int(input(\"Enter Number: \"))"
      ],
      "metadata": {
        "id": "BBWcvYoV5Kcx"
      },
      "execution_count": null,
      "outputs": []
    },
    {
      "cell_type": "markdown",
      "source": [
        "**Logic 01**\n",
        "\n",
        "\n",
        "1. Looping Through Rows\n",
        "2. Printing Stars and Spaces"
      ],
      "metadata": {
        "id": "BG2R7tFu5sUu"
      }
    },
    {
      "cell_type": "markdown",
      "source": [
        "For Loop"
      ],
      "metadata": {
        "id": "usxPwGl25wwl"
      }
    },
    {
      "cell_type": "code",
      "source": [
        "for i in range(data_01):\n",
        "    print('*' * (data_01 - i - 1), end='')\n",
        "    print(' ' * (2 * i), end='')\n",
        "    print('*' * (data_01 - i - 1))"
      ],
      "metadata": {
        "id": "j7UA4Icy4quS"
      },
      "execution_count": null,
      "outputs": []
    },
    {
      "cell_type": "markdown",
      "source": [
        "While Loop"
      ],
      "metadata": {
        "id": "CP1OBlLq6aav"
      }
    },
    {
      "cell_type": "code",
      "source": [
        "    i = 0\n",
        "    while i < data_01:\n",
        "        print('*' * (data_01 - i - 1), end='')\n",
        "        print(' ' * (2 * i), end='')\n",
        "        print('*' * (data_01 - i - 1))\n",
        "        i += 1"
      ],
      "metadata": {
        "id": "pEr8e8lv5HfQ"
      },
      "execution_count": null,
      "outputs": []
    },
    {
      "cell_type": "markdown",
      "source": [
        "**Logic 02**\n"
      ],
      "metadata": {
        "id": "gSZY1xCH6gIV"
      }
    },
    {
      "cell_type": "markdown",
      "source": [
        "For Loop"
      ],
      "metadata": {
        "id": "LrAieoRS6gIX"
      }
    },
    {
      "cell_type": "code",
      "source": [
        "for i in range(data_01):\n",
        "    for j in range(data_01-i):\n",
        "        print(\"*\",end=\"\")\n",
        "    for j in range(2*i):\n",
        "        print(\" \",end=\"\")\n",
        "    for j in range(data_01-i):\n",
        "        print(\"*\",end=\"\")\n",
        "    print()"
      ],
      "metadata": {
        "id": "JyIfH0JC3xG2"
      },
      "execution_count": null,
      "outputs": []
    },
    {
      "cell_type": "markdown",
      "source": [
        "While Loop"
      ],
      "metadata": {
        "id": "jb4F1y8D6gIY"
      }
    },
    {
      "cell_type": "code",
      "source": [
        "i = 0\n",
        "while i < data_01:\n",
        "    j = 0\n",
        "    while j < data_01-i:\n",
        "        print(\"*\",end=\"\")\n",
        "        j += 1\n",
        "    j = 0\n",
        "    while j < 2*i:\n",
        "        print(\" \",end=\"\")\n",
        "        j += 1\n",
        "    j = 0\n",
        "    while j < data_01-i:\n",
        "        print(\"*\",end=\"\")\n",
        "        j += 1\n",
        "    print()\n",
        "    i += 1"
      ],
      "metadata": {
        "id": "gTgCb_EM4iNG"
      },
      "execution_count": null,
      "outputs": []
    },
    {
      "cell_type": "markdown",
      "source": [
        "\n",
        "\n",
        "```\n",
        "# Given the value of N, print the below pattern\n",
        "\n",
        "*        *\n",
        "**      **\n",
        "***    ***\n",
        "****  ****\n",
        "**********\n",
        "```\n",
        "\n"
      ],
      "metadata": {
        "id": "l1VJXwJC7h3C"
      }
    },
    {
      "cell_type": "code",
      "source": [
        "data_02 = int(input(\"Enter Number: \"))"
      ],
      "metadata": {
        "id": "SK6z1YmG7h3E"
      },
      "execution_count": null,
      "outputs": []
    },
    {
      "cell_type": "markdown",
      "source": [
        "**Logic 01**\n",
        "\n",
        "\n",
        "1. Looping Through Rows\n",
        "2. Printing Stars and Spaces"
      ],
      "metadata": {
        "id": "sNi3oSvX7h3H"
      }
    },
    {
      "cell_type": "markdown",
      "source": [
        "For Loop"
      ],
      "metadata": {
        "id": "iMf2uhZx7h3J"
      }
    },
    {
      "cell_type": "code",
      "source": [
        "for i in range(data_02,-1,-1):\n",
        "    print('*' * (data_02 - i - 1), end='')\n",
        "    print(' ' * (2 * i), end='')\n",
        "    print('*' * (data_02 - i - 1))"
      ],
      "metadata": {
        "id": "UDAcdtjY7h3K"
      },
      "execution_count": null,
      "outputs": []
    },
    {
      "cell_type": "markdown",
      "source": [
        "While Loop"
      ],
      "metadata": {
        "id": "xRDSC9Z57h3M"
      }
    },
    {
      "cell_type": "code",
      "source": [
        "    i = data_02\n",
        "    while i >-1:\n",
        "        print('*' * (data_02 - i - 1), end='')\n",
        "        print(' ' * (2 * i), end='')\n",
        "        print('*' * (data_02 - i - 1))\n",
        "        i -= 1"
      ],
      "metadata": {
        "id": "eX37nsEr7h3M"
      },
      "execution_count": null,
      "outputs": []
    },
    {
      "cell_type": "markdown",
      "source": [
        "**Logic 02**\n"
      ],
      "metadata": {
        "id": "WocWHxOm7h3N"
      }
    },
    {
      "cell_type": "markdown",
      "source": [
        "For Loop"
      ],
      "metadata": {
        "id": "q1831V217h3O"
      }
    },
    {
      "cell_type": "code",
      "source": [
        "for i in range(data_02,-1,-1):\n",
        "    for j in range(data_02-i):\n",
        "        print(\"*\",end=\"\")\n",
        "    for j in range(2*i):\n",
        "        print(\" \",end=\"\")\n",
        "    for j in range(data_02-i):\n",
        "        print(\"*\",end=\"\")\n",
        "    print()"
      ],
      "metadata": {
        "id": "TUB34aXN7h3O"
      },
      "execution_count": null,
      "outputs": []
    },
    {
      "cell_type": "markdown",
      "source": [
        "While Loop"
      ],
      "metadata": {
        "id": "WuO59tZ07h3P"
      }
    },
    {
      "cell_type": "code",
      "source": [
        "i = data_02\n",
        "while i > -1:\n",
        "    j = 0\n",
        "    while j < data_02-i:\n",
        "        print(\"*\",end=\"\")\n",
        "        j += 1\n",
        "    j = 0\n",
        "    while j < 2*i:\n",
        "        print(\" \",end=\"\")\n",
        "        j += 1\n",
        "    j = 0\n",
        "    while j < data_02-i:\n",
        "        print(\"*\",end=\"\")\n",
        "        j += 1\n",
        "    print()\n",
        "    i -= 1"
      ],
      "metadata": {
        "id": "a4VOkTKS7h3Q"
      },
      "execution_count": null,
      "outputs": []
    },
    {
      "cell_type": "markdown",
      "source": [
        "\n",
        "\n",
        "```\n",
        "# Given N, print the below pattern\n",
        "\n",
        "1\n",
        "2 3\n",
        "4 5 6\n",
        "7 8 9 10\n",
        "\n",
        "```\n",
        "\n"
      ],
      "metadata": {
        "id": "KEUbLzd8Tl5m"
      }
    },
    {
      "cell_type": "markdown",
      "source": [
        "For Loop"
      ],
      "metadata": {
        "id": "pyARL4NlT1V6"
      }
    },
    {
      "cell_type": "code",
      "source": [
        "current_number = 1\n",
        "for i in range(1, data_02 + 1):\n",
        "    row_numbers = []\n",
        "    for j in range(i):\n",
        "        row_numbers.append(str(current_number))\n",
        "        current_number += 1\n",
        "    print(' '.join(row_numbers))"
      ],
      "metadata": {
        "id": "b7dR_bnB_Dop"
      },
      "execution_count": null,
      "outputs": []
    },
    {
      "cell_type": "markdown",
      "source": [
        "While Loop"
      ],
      "metadata": {
        "id": "oginXe9PT3VU"
      }
    },
    {
      "cell_type": "code",
      "source": [
        "current_number = 1\n",
        "i = 1\n",
        "\n",
        "while i <= data_02:\n",
        "    row_numbers = []\n",
        "    j = 0\n",
        "    while j < i:\n",
        "        row_numbers.append(str(current_number))\n",
        "        current_number += 1\n",
        "        j += 1\n",
        "    print(' '.join(row_numbers))\n",
        "    i += 1\n"
      ],
      "metadata": {
        "id": "28nVM6E5T5Op"
      },
      "execution_count": null,
      "outputs": []
    },
    {
      "cell_type": "markdown",
      "source": [
        "\n",
        "\n",
        "```\n",
        "# Given N=5, print the below pattern\n",
        "\n",
        "____*_\n",
        "___*_*_\n",
        "__*_*_*_\n",
        "_*_*_*_*_\n",
        "*_*_*_*_*_\n",
        "\n",
        "```\n",
        "\n"
      ],
      "metadata": {
        "id": "pBxf3bOHT_ih"
      }
    },
    {
      "cell_type": "markdown",
      "source": [
        "For Loop"
      ],
      "metadata": {
        "id": "dH1xT4yBUCKY"
      }
    },
    {
      "cell_type": "code",
      "source": [
        "for i in range(data_02):\n",
        "    padding = '_' * (data_02 - i - 1)\n",
        "    stars = '*_' * (i + 1)\n",
        "    print(padding + stars.rstrip('_'))"
      ],
      "metadata": {
        "id": "0QGkJcCOQTDs"
      },
      "execution_count": null,
      "outputs": []
    },
    {
      "cell_type": "markdown",
      "source": [
        "While Loop"
      ],
      "metadata": {
        "id": "SiPcpOhSUHwv"
      }
    },
    {
      "cell_type": "code",
      "source": [
        "i = 0\n",
        "while i < data_02:\n",
        "    padding = '_' * (data_02 - i - 1)\n",
        "    stars = '*_' * (i + 1)\n",
        "    print(padding + stars.rstrip('_'))\n",
        "    i += 1\n"
      ],
      "metadata": {
        "id": "lMECtm97TJ37"
      },
      "execution_count": null,
      "outputs": []
    },
    {
      "cell_type": "markdown",
      "source": [
        "**Exercise : List and Matrix**\n",
        "\n",
        "1. Given an array & target number, find the number of occurrences of the target number in the array\n",
        "2. Given an array and an increment number, generate a new array which contain all values of original array increased by increment value\n",
        "3. Given an array, generate a new array containing squares of all numbers\n",
        "4. Given an array, filter out all odd numbers\n",
        "5. Given 2 Matrices, find their sum.\n",
        "6. Given a matrix, find the sum of element of each row\n",
        "7. Given a square matrix check if it is an identity matrix\n",
        "8. Given a square matrix, compute the sum of it's diagonal element\n",
        "9. Find determinant of square matrix\n",
        "10. Find multiplication of two matrices\n",
        "11. Find inverse of square matrix"
      ],
      "metadata": {
        "id": "FAvIF9phODNn"
      }
    },
    {
      "cell_type": "code",
      "source": [
        "# Just Used For Answer Verification\n",
        "import numpy as np"
      ],
      "metadata": {
        "id": "cQ2oHXNMiHVZ"
      },
      "execution_count": null,
      "outputs": []
    },
    {
      "cell_type": "code",
      "source": [
        "data_01 = [[1,8,9],[8,414,28],[56,4,8]]\n",
        "data_02 = int(input(\"Enter a number for further : \"))\n",
        "data_05 = np.array(data_01)"
      ],
      "metadata": {
        "id": "VsX6I6tXZfxA"
      },
      "execution_count": null,
      "outputs": []
    },
    {
      "cell_type": "code",
      "source": [
        "def same_dimension_01(data_01,data_02):\n",
        "    for i in range(min(len(data_01),len(data_02))):\n",
        "        if len(data_01[i]) == len(data_02[i]):\n",
        "            return True\n",
        "        else:\n",
        "            return False"
      ],
      "metadata": {
        "id": "HMrTMRMmAYZ6"
      },
      "execution_count": null,
      "outputs": []
    },
    {
      "cell_type": "code",
      "source": [
        "def is_square_matrix(data):\n",
        "    if all(len(row) == len(data) for row in data):\n",
        "        return True\n",
        "    else:\n",
        "        return False"
      ],
      "metadata": {
        "id": "XeX_nA7frTBW"
      },
      "execution_count": null,
      "outputs": []
    },
    {
      "cell_type": "code",
      "source": [
        "def can_multiply(matrix1, matrix2):\n",
        "    rows1 = len(matrix1)\n",
        "    cols1 = len(matrix1[0]) if rows1 > 0 else 0\n",
        "    rows2 = len(matrix2)\n",
        "    cols2 = len(matrix2[0]) if rows2 > 0 else 0\n",
        "    return cols1 == rows2"
      ],
      "metadata": {
        "id": "foaAbWijBhvW"
      },
      "execution_count": null,
      "outputs": []
    },
    {
      "cell_type": "markdown",
      "source": [
        "**1. Given an array & target number, find the number of occurrences of the target number in the array**"
      ],
      "metadata": {
        "id": "i9jPcMZHZf9Z"
      }
    },
    {
      "cell_type": "markdown",
      "source": [
        "For Loop"
      ],
      "metadata": {
        "id": "4HzL8jv6cIGM"
      }
    },
    {
      "cell_type": "code",
      "execution_count": null,
      "metadata": {
        "id": "1p_I9J-JYIyE"
      },
      "outputs": [],
      "source": [
        "dummy_01,dummy_02 = False ,[]\n",
        "for i in range(len(data_01)):\n",
        "    for j in range(len(data_01[i])):\n",
        "        if data_01[i][j] == data_02:\n",
        "            dummy_01 = True\n",
        "            dummy_02.append((i,j))\n",
        "if dummy_01 == True:\n",
        "    print(\"Number found\")\n",
        "    print(f\"{dummy_02} is residing {data_02}'s loaction\")\n",
        "    print(f\"{len(dummy_02)} times number {data_02} is repated\")\n",
        "else:\n",
        "    print(\"Number not found\")"
      ]
    },
    {
      "cell_type": "markdown",
      "source": [
        "While Loop"
      ],
      "metadata": {
        "id": "aSyyEumvcJuA"
      }
    },
    {
      "cell_type": "code",
      "source": [
        "dummy_01,dummy_02 = False ,[]\n",
        "i = 0\n",
        "while i < len(data_01):\n",
        "    j = 0\n",
        "    while j < len(data_01[i]):\n",
        "        if data_01[i][j] == data_02:\n",
        "            dummy_01 = True\n",
        "            dummy_02.append((i, j))\n",
        "        j += 1\n",
        "    i += 1\n",
        "\n",
        "if dummy_01 == True:\n",
        "    print(\"Number found\")\n",
        "    print(f\"{dummy_02} is residing {data_02}'s loaction\")\n",
        "    print(f\"{len(dummy_02)} times number {data_02} is repated\")\n",
        "else:\n",
        "    print(\"Number not found\")"
      ],
      "metadata": {
        "id": "Iqr--ZevaZiy"
      },
      "execution_count": null,
      "outputs": []
    },
    {
      "cell_type": "markdown",
      "source": [
        "Numpy"
      ],
      "metadata": {
        "id": "LXRiUKMQj5at"
      }
    },
    {
      "cell_type": "code",
      "source": [
        "print(f\"{np.sum(data_05 == data_02)} times number {data_02} is repated\")"
      ],
      "metadata": {
        "id": "UX-NidPKkUHZ"
      },
      "execution_count": null,
      "outputs": []
    },
    {
      "cell_type": "markdown",
      "source": [
        "**2. Given an array and an increment number, generate a new array which contain all values of original array increased by increment value**"
      ],
      "metadata": {
        "id": "dVSMl4NIeLeX"
      }
    },
    {
      "cell_type": "code",
      "source": [
        "data_03 = []\n",
        "for i in range(len(data_01)):\n",
        "    data_04 = []\n",
        "    for j in range(len(data_01[i])):\n",
        "        data_04.append(data_01[i][j] + data_02)\n",
        "    data_03.append(data_04)\n",
        "print(f\"{data_01} is Original List \\n {data_03} is Incremented List\")"
      ],
      "metadata": {
        "id": "uAxE0JImctlT"
      },
      "execution_count": null,
      "outputs": []
    },
    {
      "cell_type": "markdown",
      "source": [
        "While Loop"
      ],
      "metadata": {
        "id": "z4g1_DQdhWI4"
      }
    },
    {
      "cell_type": "code",
      "source": [
        "data_03 = []\n",
        "i = 0\n",
        "while i < len(data_01):\n",
        "    data_04 = []\n",
        "    j = 0\n",
        "    while j < len(data_01[i]):\n",
        "        data_04.append(data_01[i][j] + data_02)\n",
        "        j += 1\n",
        "    data_03.append(data_04)\n",
        "    i += 1\n",
        "print(f\"{data_01} is Original List \\n {data_03} is Incremented List\")"
      ],
      "metadata": {
        "id": "i-oYjr77ehZX"
      },
      "execution_count": null,
      "outputs": []
    },
    {
      "cell_type": "markdown",
      "source": [
        "Numpy"
      ],
      "metadata": {
        "id": "hkZeL1F4jpdE"
      }
    },
    {
      "cell_type": "code",
      "source": [
        "print(f\"{data_01} is Original List \\n {(data_05 + data_02)} is Incremented List\")"
      ],
      "metadata": {
        "id": "QVWolFDijreX"
      },
      "execution_count": null,
      "outputs": []
    },
    {
      "cell_type": "markdown",
      "source": [
        "**3. Given an array, generate a new array containing squares of all numbers**"
      ],
      "metadata": {
        "id": "o_LbB2dHhaPl"
      }
    },
    {
      "cell_type": "code",
      "source": [
        "data_03 = []\n",
        "for i in range(len(data_01)):\n",
        "    data_04 = []\n",
        "    for j in range(len(data_01[i])):\n",
        "        data_04.append(data_01[i][j]**2)\n",
        "    data_03.append(data_04)\n",
        "print(f\"{data_01} is Original List \\n {data_03} is Squared List\")"
      ],
      "metadata": {
        "id": "ImQZvKoShVFp"
      },
      "execution_count": null,
      "outputs": []
    },
    {
      "cell_type": "code",
      "source": [
        "data_03 = []\n",
        "i = 0\n",
        "while i < len(data_01):\n",
        "    data_04 = []\n",
        "    j = 0\n",
        "    while j < len(data_01[i]):\n",
        "        data_04.append(data_01[i][j] **2)\n",
        "        j += 1\n",
        "    data_03.append(data_04)\n",
        "    i += 1\n",
        "print(f\"{data_01} is Original List \\n {data_03} is Squared List\")"
      ],
      "metadata": {
        "id": "nOsxKUYLhnHr"
      },
      "execution_count": null,
      "outputs": []
    },
    {
      "cell_type": "markdown",
      "source": [
        "Numpy"
      ],
      "metadata": {
        "id": "ZnZ3jkv-lOMl"
      }
    },
    {
      "cell_type": "code",
      "source": [
        "print(f\"{data_01} is Original List \\n {(data_05 **2)} is Squared List\")"
      ],
      "metadata": {
        "id": "J99zEF01htPr"
      },
      "execution_count": null,
      "outputs": []
    },
    {
      "cell_type": "markdown",
      "source": [
        "**4. Given an array, filter out all odd numbers**"
      ],
      "metadata": {
        "id": "Grc1aEqHqxOh"
      }
    },
    {
      "cell_type": "code",
      "source": [
        "dummy_01 = []\n",
        "for i in range(len(data_01)):\n",
        "    for j in range(len(data_01[i])):\n",
        "        if data_01[i][j] % 2 != 0:\n",
        "            dummy_01.append(data_01[i][j])\n",
        "\n",
        "print(f\"{dummy_01} are odd numbers present in {data_01}\")"
      ],
      "metadata": {
        "id": "X_lVBIn8lLXl"
      },
      "execution_count": null,
      "outputs": []
    },
    {
      "cell_type": "code",
      "source": [
        "dummy_01 = []\n",
        "i = 0\n",
        "while i < len(data_01):\n",
        "    j = 0\n",
        "    while j < len(data_01[i]):\n",
        "        if data_01[i][j] % 2 != 0:\n",
        "            dummy_01.append(data_01[i][j])\n",
        "        j += 1\n",
        "    i += 1\n",
        "\n",
        "print(f\"{dummy_01} are odd numbers present in {data_01}\")"
      ],
      "metadata": {
        "id": "247LVSsCraBb"
      },
      "execution_count": null,
      "outputs": []
    },
    {
      "cell_type": "markdown",
      "source": [
        "**5. Given 2 Matrices, find their sum.**"
      ],
      "metadata": {
        "id": "D9zkZJOXsDqC"
      }
    },
    {
      "cell_type": "markdown",
      "source": [
        "For Loop"
      ],
      "metadata": {
        "id": "sfL1gxBK63F9"
      }
    },
    {
      "cell_type": "code",
      "source": [
        "if same_dimension_01(data_01, data_03):\n",
        "    data_05 = []\n",
        "    for i in range(len(data_01)):\n",
        "        data_04 = []\n",
        "        for j in range(len(data_01[i])):\n",
        "            data_04.append(data_01[i][j] + data_03[i][j])\n",
        "        data_05.append(data_04)\n",
        "    print(data_05)\n",
        "else:\n",
        "    print(\"Matrix size is not the same\")\n"
      ],
      "metadata": {
        "id": "BgRkB4CrP30i"
      },
      "execution_count": null,
      "outputs": []
    },
    {
      "cell_type": "markdown",
      "source": [
        "While Loop"
      ],
      "metadata": {
        "id": "LlC2l6kg64mT"
      }
    },
    {
      "cell_type": "code",
      "source": [
        "if same_dimension_01(data_01, data_03):\n",
        "    data_05 = []\n",
        "    i = 0\n",
        "    while i < len(data_01):\n",
        "        data_04 = []\n",
        "        j = 0\n",
        "        while j < len(data_01[i]):\n",
        "            data_04.append(data_01[i][j] + data_03[i][j])\n",
        "            j += 1\n",
        "        data_05.append(data_04)\n",
        "        i += 1\n",
        "print(data_05)"
      ],
      "metadata": {
        "id": "0UxAL-V36cyw"
      },
      "execution_count": null,
      "outputs": []
    },
    {
      "cell_type": "markdown",
      "source": [
        "Numpy"
      ],
      "metadata": {
        "id": "ip2ldGF068of"
      }
    },
    {
      "cell_type": "code",
      "source": [
        "np.array(data_01)+np.array(data_03)"
      ],
      "metadata": {
        "id": "etgutFy0SP3L"
      },
      "execution_count": null,
      "outputs": []
    },
    {
      "cell_type": "markdown",
      "source": [
        "**6. Given a matrix, find the sum of element of each row**"
      ],
      "metadata": {
        "id": "KWQxROqb7QEY"
      }
    },
    {
      "cell_type": "markdown",
      "source": [
        "For Loop"
      ],
      "metadata": {
        "id": "A6POduDm78N-"
      }
    },
    {
      "cell_type": "code",
      "source": [
        "for i in range(len(data_01)):\n",
        "    print(f\"{sum(data_01[i])} is sum of {i} row in matrix\")"
      ],
      "metadata": {
        "id": "E41I2oHV7FxO"
      },
      "execution_count": null,
      "outputs": []
    },
    {
      "cell_type": "markdown",
      "source": [
        "While Loop"
      ],
      "metadata": {
        "id": "Zd6SDgHK7-i_"
      }
    },
    {
      "cell_type": "code",
      "source": [
        "i = 0\n",
        "while i < len(data_01):\n",
        "    print(f\"{(sum(data_01[i]))} is sum of {i} row in matrix\")\n",
        "    i += 1"
      ],
      "metadata": {
        "id": "10UvCuwC7tn-"
      },
      "execution_count": null,
      "outputs": []
    },
    {
      "cell_type": "markdown",
      "source": [
        "Numpy"
      ],
      "metadata": {
        "id": "Ad1L-0RS8E5y"
      }
    },
    {
      "cell_type": "code",
      "source": [
        "np.sum(data_01, axis=1)"
      ],
      "metadata": {
        "id": "rw1bcww077b8"
      },
      "execution_count": null,
      "outputs": []
    },
    {
      "cell_type": "markdown",
      "source": [
        "**7. Given a square matrix check if it is an identity matrix**"
      ],
      "metadata": {
        "id": "PmSgl6gQUjvV"
      }
    },
    {
      "cell_type": "markdown",
      "source": [
        "For Loop"
      ],
      "metadata": {
        "id": "0NUMbokwUt0g"
      }
    },
    {
      "cell_type": "code",
      "source": [
        "dummy = True\n",
        "for i in range(len(data_01)):\n",
        "    for j in range(len(data_01[i])):\n",
        "        if i == j:\n",
        "            if data_01[i][j] != 1:\n",
        "                dummy = False\n",
        "                break\n",
        "        else:\n",
        "            if data_01[i][j] != 0:\n",
        "                dummy = False\n",
        "                break\n",
        "if dummy == True:\n",
        "    print(\"It is an identity matrix\")\n",
        "else:\n",
        "    print(\"It is not an identity matrix\")"
      ],
      "metadata": {
        "id": "qZns0pGYUt0h"
      },
      "execution_count": null,
      "outputs": []
    },
    {
      "cell_type": "markdown",
      "source": [
        "While Loop"
      ],
      "metadata": {
        "id": "d1Xe-mPYUt0i"
      }
    },
    {
      "cell_type": "code",
      "source": [
        "dummy = True\n",
        "i = 0\n",
        "while i < len(data_01):\n",
        "    j = 0\n",
        "    while j < len(data_01[i]):\n",
        "        if i == j:\n",
        "            if data_01[i][j] != 1:\n",
        "                dummy = False\n",
        "                break\n",
        "        else:\n",
        "            if data_01[i][j] != 0:\n",
        "                dummy = False\n",
        "                break\n",
        "        j += 1\n",
        "    i += 1\n",
        "\n",
        "\n",
        "if dummy == True:\n",
        "    print(\"It is an identity matrix\")\n",
        "else:\n",
        "    print(\"It is not an identity matrix\")"
      ],
      "metadata": {
        "id": "N1Sd9JN5Ut0j"
      },
      "execution_count": null,
      "outputs": []
    },
    {
      "cell_type": "markdown",
      "source": [
        "**8. Given a square matrix, compute the sum of it's diagonal element**"
      ],
      "metadata": {
        "id": "14__tiYFgBBC"
      }
    },
    {
      "cell_type": "markdown",
      "source": [
        "For Loop"
      ],
      "metadata": {
        "id": "xGfByWzrg_V9"
      }
    },
    {
      "cell_type": "code",
      "source": [
        "dummy = 0\n",
        "for i in range(len(data_01)):\n",
        "    for j in range(len(data_01[i])):\n",
        "        if i == j:\n",
        "            dummy += data_01[i][j]\n",
        "print(f\"Sum of Diagonal of given Matrix is {dummy}\")"
      ],
      "metadata": {
        "id": "SQ6Lh-RLgEcI"
      },
      "execution_count": null,
      "outputs": []
    },
    {
      "cell_type": "markdown",
      "source": [
        "While Loop"
      ],
      "metadata": {
        "id": "lbEqs5yfhKWG"
      }
    },
    {
      "cell_type": "code",
      "source": [
        "i, dummy = 0, 0\n",
        "while i < len(data_01):\n",
        "    j = 0\n",
        "    while j < len(data_01[i]):\n",
        "        if i == j:\n",
        "            dummy += data_01[i][j]\n",
        "        j += 1\n",
        "    i += 1\n",
        "print(f\"Sum of Diagonal of given Matrix is {dummy}\")"
      ],
      "metadata": {
        "id": "A_P99h7wgi1Z"
      },
      "execution_count": null,
      "outputs": []
    },
    {
      "cell_type": "markdown",
      "source": [
        "Numpy"
      ],
      "metadata": {
        "id": "yNegrABqigVW"
      }
    },
    {
      "cell_type": "code",
      "source": [
        "np.sum(np.diagonal(data_01))"
      ],
      "metadata": {
        "id": "MqYzwp9uhWY4"
      },
      "execution_count": null,
      "outputs": []
    },
    {
      "cell_type": "markdown",
      "source": [
        "**9. Find determinant of square matrix**"
      ],
      "metadata": {
        "id": "73AuyZn3iiZz"
      }
    },
    {
      "cell_type": "markdown",
      "source": [
        "For Loop"
      ],
      "metadata": {
        "id": "jXDmYpGAszQ2"
      }
    },
    {
      "cell_type": "code",
      "source": [
        "if is_square_matrix(data_01):\n",
        "    det = 0\n",
        "    for i in range(3):\n",
        "        sub_det = data_01[0][i] * (\n",
        "            data_01[1][(i+1) % 3] * data_01[2][(i+2) % 3] -\n",
        "            data_01[1][(i+2) % 3] * data_01[2][(i+1) % 3]\n",
        "            )\n",
        "        det += sub_det if i % 2 == 0 else -sub_det\n",
        "    print(f\"Determinantof matrix : {det}\")\n",
        "else:\n",
        "    raise Error(\"Data must be 3x3\")"
      ],
      "metadata": {
        "id": "ik3XUS97ihST"
      },
      "execution_count": null,
      "outputs": []
    },
    {
      "cell_type": "markdown",
      "source": [
        "While Loop"
      ],
      "metadata": {
        "id": "VyyTWNoOtvow"
      }
    },
    {
      "cell_type": "code",
      "source": [
        "if is_square_matrix(data_01):\n",
        "    det = 0\n",
        "    i = 0\n",
        "    while i < 3:\n",
        "        sub_det = data_01[0][i] * (\n",
        "            data_01[1][(i+1) % 3] * data_01[2][(i+2) % 3] -\n",
        "            data_01[1][(i+2) % 3] * data_01[2][(i+1) % 3]\n",
        "        )\n",
        "        det += sub_det if i % 2 == 0 else -sub_det\n",
        "\n",
        "        i += 1\n",
        "print(f\"Determinantof matrix : {det}\")"
      ],
      "metadata": {
        "id": "Cmm3eJiZtv85"
      },
      "execution_count": null,
      "outputs": []
    },
    {
      "cell_type": "code",
      "source": [
        "np.linalg.det(data_01)"
      ],
      "metadata": {
        "id": "iNSc3AljJKhC"
      },
      "execution_count": null,
      "outputs": []
    },
    {
      "cell_type": "markdown",
      "source": [
        "**10. Find multiplication of two matrices**"
      ],
      "metadata": {
        "id": "zuyQgVM60qrF"
      }
    },
    {
      "cell_type": "code",
      "source": [
        "if can_multiply(data_01, data_03):\n",
        "    rows_A = len(data_01)\n",
        "    cols_B = len(data_03[0])\n",
        "    cols_A = len(data_01[0])\n",
        "    data_05 = []\n",
        "    for i in range(rows_A):\n",
        "        data_04 = []\n",
        "        for j in range(cols_B):\n",
        "            sum_product = sum(data_01[i][k] * data_03[k][j] for k in range(cols_A))\n",
        "            data_04.append(sum_product)\n",
        "        data_05.append(data_04)\n",
        "print(f\"{data_01} * {data_03} = {data_05}\")"
      ],
      "metadata": {
        "id": "ASZMDQtI1ePI"
      },
      "execution_count": null,
      "outputs": []
    },
    {
      "cell_type": "code",
      "source": [
        "if  can_multiply(data_01, data_03):\n",
        "    rows_A = len(data_01)\n",
        "    cols_B = len(data_03[0])\n",
        "    cols_A = len(data_01[0])\n",
        "\n",
        "    data_05 = []\n",
        "\n",
        "    i = 0\n",
        "    while i < rows_A:\n",
        "        data_04 = []\n",
        "        j = 0\n",
        "        while j < cols_B:\n",
        "            sum_product = 0\n",
        "            k = 0\n",
        "            while k < cols_A:\n",
        "                sum_product += data_01[i][k] * data_03[k][j]\n",
        "                k += 1\n",
        "            data_04.append(sum_product)\n",
        "            j += 1\n",
        "        data_05.append(data_04)\n",
        "        i += 1\n",
        "\n",
        "print(f\"{data_01} * {data_03} = {data_05}\")"
      ],
      "metadata": {
        "id": "dtxjb9-PGdlh"
      },
      "execution_count": null,
      "outputs": []
    },
    {
      "cell_type": "markdown",
      "source": [
        "Numpy"
      ],
      "metadata": {
        "id": "WlWqb7-MJFF0"
      }
    },
    {
      "cell_type": "code",
      "source": [
        "np.dot(data_01,data_03)"
      ],
      "metadata": {
        "id": "wNZRaYFHJHWI"
      },
      "execution_count": null,
      "outputs": []
    },
    {
      "cell_type": "markdown",
      "source": [
        "# Session 9: Regression and Correlation"
      ],
      "metadata": {
        "id": "BvbkdMlk6VaU"
      }
    },
    {
      "cell_type": "code",
      "execution_count": null,
      "metadata": {
        "id": "hYABDcIlf5fv"
      },
      "outputs": [],
      "source": [
        "import pandas as pd\n",
        "df1 = pd.read_excel(\"Data_Regression_Final.xlsx\")"
      ]
    },
    {
      "cell_type": "code",
      "execution_count": null,
      "metadata": {
        "id": "NrftudntgKjU"
      },
      "outputs": [],
      "source": [
        "df1.head()"
      ]
    },
    {
      "cell_type": "code",
      "execution_count": null,
      "metadata": {
        "id": "sRDOYkWhgkLl"
      },
      "outputs": [],
      "source": [
        "df1.info()"
      ]
    },
    {
      "cell_type": "code",
      "execution_count": null,
      "metadata": {
        "id": "WFwoOxjtgCGV"
      },
      "outputs": [],
      "source": [
        "df1.describe()"
      ]
    },
    {
      "cell_type": "code",
      "execution_count": null,
      "metadata": {
        "id": "6bUQr5wCgOv5"
      },
      "outputs": [],
      "source": [
        "# Correlation Analysis"
      ]
    },
    {
      "cell_type": "code",
      "execution_count": null,
      "metadata": {
        "id": "n5vdNclRgQvr"
      },
      "outputs": [],
      "source": [
        "df1.corr()"
      ]
    },
    {
      "cell_type": "code",
      "execution_count": null,
      "metadata": {
        "id": "eNH5xs3Shm3b"
      },
      "outputs": [],
      "source": [
        "df1.corr(\"spearman\")"
      ]
    },
    {
      "cell_type": "code",
      "execution_count": null,
      "metadata": {
        "id": "4PX0kvF3h4BN"
      },
      "outputs": [],
      "source": [
        "# Linear Regression"
      ]
    },
    {
      "cell_type": "code",
      "execution_count": null,
      "metadata": {
        "id": "NtKM51ociFn-"
      },
      "outputs": [],
      "source": [
        "import pandas as pd\n",
        "import numpy as np\n",
        "import seaborn as sns\n",
        "import matplotlib.pyplot as plt\n",
        "from sklearn.linear_model import LinearRegression\n",
        "import statsmodels as sts\n",
        "import warnings\n",
        "import scipy"
      ]
    },
    {
      "cell_type": "code",
      "execution_count": null,
      "metadata": {
        "id": "dN4JV2e3IsaK"
      },
      "outputs": [],
      "source": [
        "y=np.array(df1.Recommendation)"
      ]
    },
    {
      "cell_type": "code",
      "execution_count": null,
      "metadata": {
        "id": "N7QzySoSJEa-"
      },
      "outputs": [],
      "source": [
        "y"
      ]
    },
    {
      "cell_type": "code",
      "execution_count": null,
      "metadata": {
        "id": "wykORRXwJJd4"
      },
      "outputs": [],
      "source": [
        "x=np.array([df1.Quick_in_and_out, df1.Fast_Efficient_check_out, df1.Good_Selection_of_brands, df1.Everthing_in_one_place,df1.Always_in_stock,df1.High_Quality_Products,df1.Friendly_Employees,df1.Clean_Store,df1.Employees_available_for_assistance,df1.Value_for_the_money,df1.Low_Prices,df1.Worthwhile_promotions,df1.Helpful_digital_tool]).reshape(2471,13)"
      ]
    },
    {
      "cell_type": "code",
      "execution_count": null,
      "metadata": {
        "id": "gT-lQPLkLJwo"
      },
      "outputs": [],
      "source": [
        "x"
      ]
    },
    {
      "cell_type": "code",
      "execution_count": null,
      "metadata": {
        "id": "oO4loA74LQ9q"
      },
      "outputs": [],
      "source": [
        "x.shape"
      ]
    },
    {
      "cell_type": "code",
      "execution_count": null,
      "metadata": {
        "id": "wfTHcALsMjPZ"
      },
      "outputs": [],
      "source": [
        "print(x)"
      ]
    },
    {
      "cell_type": "code",
      "execution_count": null,
      "metadata": {
        "id": "0uSNGMCsLqmu"
      },
      "outputs": [],
      "source": [
        "# Splitting the dataset into Train set and Test set\n",
        "\n",
        "from sklearn.model_selection import train_test_split\n",
        "\n",
        "X_train, X_test, y_train, y_test = train_test_split(x, y , test_size = 0.2 , random_state = 21)\n",
        "\n",
        "# test_size = value > 0 & less than 1\n",
        "# test_size = 0 ==> 100% of the data is used for training\n",
        "# test_size = 1 --> 100% of the data is sued for testing\n",
        "#hence test_size value should never be equal to 0 or 1\n",
        "# test_size = 0.2 ---> 20 % of the total data points is taken for testing while the remaining\n",
        "# 80% is taken for training.\n",
        "\n",
        "# if we have to go with the 75,25 split, what would the test_size value would be = 0.25"
      ]
    },
    {
      "cell_type": "code",
      "execution_count": null,
      "metadata": {
        "id": "LFPV6RuGM1sS"
      },
      "outputs": [],
      "source": [
        "print(\"Shape of train set features\")\n",
        "print(X_train.shape)\n",
        "print(\"Shape of test set features\")\n",
        "print(X_test.shape)"
      ]
    },
    {
      "cell_type": "code",
      "execution_count": null,
      "metadata": {
        "id": "RPkOb7D1M-ON"
      },
      "outputs": [],
      "source": [
        "print(\"Shape of train set target\")\n",
        "print(y_train.shape)\n",
        "print(\"Shape of test set target\")\n",
        "print(y_test.shape)"
      ]
    },
    {
      "cell_type": "code",
      "execution_count": null,
      "metadata": {
        "id": "yEGX5YzsNAXT"
      },
      "outputs": [],
      "source": [
        "# Building the Multiple Linear Regression model\n",
        "# Step 1 : Import a model of our choice.\n",
        "# Step 2 : Instantiate an estimator object which contains the ML model.\n",
        "# Step 3 : Fit the ML model on the given data (train set)\n",
        "# Step 4 : Use the model on the test set for predictions.\n",
        "# Step 5 : Evaluate your model using appropriate evaluation metrics."
      ]
    },
    {
      "cell_type": "code",
      "execution_count": null,
      "metadata": {
        "id": "ypJd8i8pNE2o"
      },
      "outputs": [],
      "source": [
        "from sklearn.linear_model import LinearRegression\n",
        "\n",
        "model_lr = LinearRegression()"
      ]
    },
    {
      "cell_type": "code",
      "execution_count": null,
      "metadata": {
        "id": "Z2JJFccyaqxI"
      },
      "outputs": [],
      "source": []
    },
    {
      "cell_type": "code",
      "execution_count": null,
      "metadata": {
        "id": "6MRWDVX5NHio"
      },
      "outputs": [],
      "source": [
        "model_lr.fit(X_train, y_train) # supervised ML approach"
      ]
    },
    {
      "cell_type": "code",
      "execution_count": null,
      "metadata": {
        "id": "Qet2TpQdNLRt"
      },
      "outputs": [],
      "source": [
        "print(\"The intercept for this Multiple Linear regression model is \",\n",
        "      model_lr.intercept_)"
      ]
    },
    {
      "cell_type": "code",
      "execution_count": null,
      "metadata": {
        "id": "HJRm7uKmNSey"
      },
      "outputs": [],
      "source": [
        "print(\"The regression co-efficients of the Multiple Linear regression model are :\")\n",
        "print(\"==========================================================================\")\n",
        "print(model_lr.coef_)"
      ]
    },
    {
      "cell_type": "code",
      "execution_count": null,
      "metadata": {
        "id": "1ad4Z6O7NYU_"
      },
      "outputs": [],
      "source": [
        "y_test_predicted_value = model_lr.predict(X_test)"
      ]
    },
    {
      "cell_type": "code",
      "execution_count": null,
      "metadata": {
        "id": "MEpCTnaqNcEi",
        "scrolled": true
      },
      "outputs": [],
      "source": [
        "y_test_predicted_value"
      ]
    },
    {
      "cell_type": "code",
      "execution_count": null,
      "metadata": {
        "id": "2iVI4LU0NdvH"
      },
      "outputs": [],
      "source": [
        "import pandas as pd\n",
        "predictions= pd.DataFrame({'Actual': y_test, 'Predicted' : y_test_predicted_value})\n",
        "predictions"
      ]
    },
    {
      "cell_type": "code",
      "execution_count": null,
      "metadata": {
        "id": "rHqLkwsXNi_b"
      },
      "outputs": [],
      "source": [
        "from sklearn.metrics import mean_squared_error\n",
        "import numpy as np\n",
        "\n",
        "print(\"RMSE value of the test dataset is :\")\n",
        "\n",
        "print(np.sqrt(mean_squared_error(y_test , y_test_predicted_value))) #this order of parameters should be\n",
        "                                                           # followed."
      ]
    },
    {
      "cell_type": "code",
      "execution_count": null,
      "metadata": {
        "id": "GBTrUtu9Npnw"
      },
      "outputs": [],
      "source": [
        "## figuring out R2 score\n",
        "\n",
        "print(\"R2 score is : {}\".format(model_lr.score(X_test,y_test)))"
      ]
    },
    {
      "cell_type": "code",
      "execution_count": null,
      "metadata": {
        "id": "keXL_gkLmXHA"
      },
      "outputs": [],
      "source": [
        "# Check Assumptions - Multiple Regression Analysis"
      ]
    },
    {
      "cell_type": "code",
      "execution_count": null,
      "metadata": {
        "id": "mtLsSHHsmc-E"
      },
      "outputs": [],
      "source": [
        "# Linearity\n",
        "\n",
        "predictions['Residuals']= abs(predictions['Actual']) - abs(predictions['Predicted'])\n",
        "print(\"Residual Calculations\")\n",
        "print(predictions.head())\n",
        "\n",
        "residuals= predictions['Residuals']\n",
        "\n",
        "#Plotting the Residual VS Fitted values\n",
        "\n",
        "sns.lmplot(x='Actual', y='Residuals', data=predictions, fit_reg=False)\n",
        "\n",
        "# Plotting the diagonal line\n",
        "\n",
        "line_coords=np.arange(predictions.min().min(), predictions.max().max())\n",
        "plt.plot(line_coords, line_coords, color=\"darkorange\", linestyle=\"--\")\n",
        "plt.title('Residual VS Fitted')\n",
        "plt.show()"
      ]
    },
    {
      "cell_type": "code",
      "execution_count": null,
      "metadata": {
        "id": "pkueKiOPt6Iy"
      },
      "outputs": [],
      "source": [
        "# Normality\n",
        "\n",
        "plt.subplots()\n",
        "plt.title('Plot of Residuals')\n",
        "sns.distplot(predictions['Residuals'])\n",
        "plt.show()\n",
        "\n",
        "predictions['Residuals'].skew()"
      ]
    },
    {
      "cell_type": "code",
      "execution_count": null,
      "metadata": {
        "id": "adYO59GS021N"
      },
      "outputs": [],
      "source": [
        "# Homoscedasticity\n",
        "\n",
        "residuals=predictions['Residuals']\n",
        "\n",
        "plt.figure(figsize=(5,5))\n",
        "sns.scatterplot(x = y_test_predicted_value, y = residuals)\n",
        "plt.xlabel('y_pred/predicted values')\n",
        "plt.ylabel('Residuals')\n",
        "p = plt.title('Residuals vs fitted values plot for homoscedasticity check')"
      ]
    },
    {
      "cell_type": "code",
      "execution_count": null,
      "metadata": {
        "id": "ZPuQzXFr4Lw-"
      },
      "outputs": [],
      "source": [
        "# Goldfeld Quandt Test\n",
        "# Checking heteroscedasticity : Using Goldfeld Quandt we test for heteroscedasticity.\n",
        "# Null Hypothesis: Error terms are homoscedastic\n",
        "# Alternative Hypothesis: Error terms are heteroscedastic.\n",
        "\n",
        "import statsmodels.stats.api as sms\n",
        "from statsmodels.compat import lzip\n",
        "name = ['F statistic', 'p-value']\n",
        "test = sms.het_goldfeldquandt(residuals, X_test)\n",
        "lzip(name, test)\n",
        "\n",
        "#Since p value is greater than 0.05 in Goldfeld Quandt Test.\n",
        "# Therefore, we do not reject Null hypothesis. Hnece, we Conclude that error terms are homoscedastic."
      ]
    },
    {
      "cell_type": "code",
      "execution_count": null,
      "metadata": {
        "id": "49W95JlK41Z7"
      },
      "outputs": [],
      "source": [
        "# Multicollinearity\n",
        "\n",
        "plt.figure(figsize=(5,5))\n",
        "p=sns.heatmap(df1.corr(), annot=True,cmap='RdYlGn',square=True,linewidth= 4)  # seaborn has very simple solution for heatmap\n"
      ]
    },
    {
      "cell_type": "code",
      "execution_count": null,
      "metadata": {
        "id": "mFkB28iC4_y2"
      },
      "outputs": [],
      "source": [
        "# Checking for autocorrelation To ensure the absence of autocorrelation we use Ljungbox test.\n",
        "\n",
        "# Null Hypothesis: Autocorrelation is absent.\n",
        "\n",
        "# Alternative Hypothesis: Autocorrelation is present.\n",
        "\n",
        "from statsmodels.stats import diagnostic as diag\n",
        "\n",
        "#min(diag.acorr_ljungbox(residuals , lags = 40)[1])\n",
        "\n",
        "result = diag.acorr_ljungbox(residuals, lags=40)\n",
        "min_value = min(result.iloc[:, 1]) if len(result.columns) > 1 else None\n",
        "print(min_value)\n",
        "\n",
        "#Autocorrelation is present"
      ]
    },
    {
      "cell_type": "code",
      "execution_count": null,
      "metadata": {
        "id": "saaz4iQRURe1"
      },
      "outputs": [],
      "source": [
        "# Logistic Regression"
      ]
    },
    {
      "cell_type": "code",
      "execution_count": null,
      "metadata": {
        "id": "sErnwhYgUmf6"
      },
      "outputs": [],
      "source": [
        "y_bin=np.array(df1.Reco_Binary)"
      ]
    },
    {
      "cell_type": "code",
      "execution_count": null,
      "metadata": {
        "id": "Zx-1u8qmWgHe"
      },
      "outputs": [],
      "source": [
        "from sklearn.model_selection import train_test_split\n",
        "X_train_bin, X_test_bin, y_train_bin, y_test_bin = train_test_split(x, y_bin, test_size=0.25, random_state = 21)"
      ]
    },
    {
      "cell_type": "code",
      "execution_count": null,
      "metadata": {
        "id": "A7Fe6j-HWvLF"
      },
      "outputs": [],
      "source": [
        "print(\"Shape of X_train is : \",X_train_bin.shape)\n",
        "print(\"Shape of X_test is : \",X_test_bin.shape)\n",
        "print(\"Shape of y_train is : \",y_train_bin.shape)\n",
        "print(\"Shape of y_test is : \",y_test_bin.shape)"
      ]
    },
    {
      "cell_type": "code",
      "execution_count": null,
      "metadata": {
        "id": "n1fTpuryWy8j"
      },
      "outputs": [],
      "source": [
        "# Building the Logistic Regression Model"
      ]
    },
    {
      "cell_type": "code",
      "execution_count": null,
      "metadata": {
        "id": "Tvk0QjJJW5Ps"
      },
      "outputs": [],
      "source": [
        "from sklearn.linear_model import LogisticRegression"
      ]
    },
    {
      "cell_type": "code",
      "execution_count": null,
      "metadata": {
        "id": "dI4v_V2lW9Yr"
      },
      "outputs": [],
      "source": [
        "logreg = LogisticRegression()\n",
        "logreg.fit(X_train_bin,y_train_bin)"
      ]
    },
    {
      "cell_type": "code",
      "execution_count": null,
      "metadata": {
        "id": "k2QkTHvHXKH1"
      },
      "outputs": [],
      "source": [
        "#logreg = LogisticRegression(solver =\"newton-cg\")\n",
        "\n",
        "logreg.fit(X_train_bin,y_train_bin) # supervised"
      ]
    },
    {
      "cell_type": "code",
      "execution_count": null,
      "metadata": {
        "id": "NpCE_5gkZ2S9"
      },
      "outputs": [],
      "source": [
        "y_log_pred=logreg.predict(X_test_bin) # using the model to make predictions on my test data features"
      ]
    },
    {
      "cell_type": "code",
      "execution_count": null,
      "metadata": {
        "id": "bytgGorgkI4Y"
      },
      "outputs": [],
      "source": [
        "y_log_pred"
      ]
    },
    {
      "cell_type": "code",
      "execution_count": null,
      "metadata": {
        "id": "OcuhBOU5Z7Vl"
      },
      "outputs": [],
      "source": [
        "from sklearn import metrics\n",
        "\n",
        "print('Accuracy Score:')\n",
        "print(\"The accuracy of the LogReg model : \")\n",
        "print(metrics.accuracy_score(y_test_bin,y_log_pred)) # The first parameter should always be the actual value\n",
        "#while the second parameter should be the predicted value"
      ]
    },
    {
      "cell_type": "code",
      "execution_count": null,
      "metadata": {
        "id": "7zil50pmabU3"
      },
      "outputs": [],
      "source": [
        "from sklearn.metrics import classification_report,confusion_matrix\n",
        "\n",
        "print(\"The confusion matrix for test data is : \")\n",
        "print(\"-----------------------------------------\")\n",
        "print(confusion_matrix(y_test_bin,y_log_pred))# The first parameter should always be the actual value\n",
        "#while the second parameter should be the predicted value"
      ]
    },
    {
      "cell_type": "code",
      "execution_count": null,
      "metadata": {
        "id": "6UKC4X1za7ft"
      },
      "outputs": [],
      "source": [
        "print(classification_report(y_test_bin,y_log_pred))"
      ]
    },
    {
      "cell_type": "markdown",
      "source": [
        "# Session 10: Cluster_Analysis & LDA"
      ],
      "metadata": {
        "id": "Z8xPB6Du6rZ5"
      }
    },
    {
      "cell_type": "code",
      "execution_count": null,
      "metadata": {
        "id": "o8IwZJnEf_zZ"
      },
      "outputs": [],
      "source": []
    },
    {
      "cell_type": "code",
      "execution_count": null,
      "metadata": {
        "id": "oX-5XB7AqFu1"
      },
      "outputs": [],
      "source": [
        "import pandas as pd\n",
        "df1 = pd.read_csv(\"default of credit card clients.csv\")"
      ]
    },
    {
      "cell_type": "code",
      "execution_count": null,
      "metadata": {
        "id": "o4x4t2Jdqra5"
      },
      "outputs": [],
      "source": [
        "df1.head()"
      ]
    },
    {
      "cell_type": "code",
      "execution_count": null,
      "metadata": {
        "id": "oE-N9KxKqviZ"
      },
      "outputs": [],
      "source": [
        "# K Means Clustering"
      ]
    },
    {
      "cell_type": "code",
      "execution_count": null,
      "metadata": {
        "id": "9CoSQ2WqqykZ"
      },
      "outputs": [],
      "source": [
        "from sklearn.cluster import KMeans\n",
        "from matplotlib import pyplot as plt"
      ]
    },
    {
      "cell_type": "code",
      "execution_count": null,
      "metadata": {
        "id": "BdVtAPvzrt8l"
      },
      "outputs": [],
      "source": [
        "plt.scatter(df1[\"Spending Score (1-100)\"],df1[\"Annual Income (k$)\"])"
      ]
    },
    {
      "cell_type": "code",
      "execution_count": null,
      "metadata": {
        "id": "-tVFUqa1q-IB"
      },
      "outputs": [],
      "source": [
        "X=df1[['Spending Score (1-100)','Annual Income (k$)']].copy()"
      ]
    },
    {
      "cell_type": "code",
      "execution_count": null,
      "metadata": {
        "id": "k6O4EqYUsTPV"
      },
      "outputs": [],
      "source": [
        "X"
      ]
    },
    {
      "cell_type": "code",
      "execution_count": null,
      "metadata": {
        "id": "u3ynwxjpsVue"
      },
      "outputs": [],
      "source": [
        "wcss=list()\n",
        "for i in range(1, 11):\n",
        "    kmeans = KMeans(n_clusters=i, random_state=0)\n",
        "    kmeans.fit(X)\n",
        "    y=kmeans.inertia_\n",
        "    wcss.append(y)"
      ]
    },
    {
      "cell_type": "code",
      "execution_count": null,
      "metadata": {
        "id": "i6uom7-FsqH6"
      },
      "outputs": [],
      "source": [
        "wcss"
      ]
    },
    {
      "cell_type": "code",
      "execution_count": null,
      "metadata": {
        "id": "CqH7ZwADta_i"
      },
      "outputs": [],
      "source": [
        "import matplotlib.pyplot as plt\n",
        "import seaborn as sns\n",
        "sns.set()\n",
        "plt.plot(range(1, 11), wcss)\n",
        "plt.title('Selecting the Numbeer of Clusters using the Elbow Method')\n",
        "plt.xlabel('Clusters')\n",
        "plt.ylabel('WCSS')\n",
        "plt.show()\n"
      ]
    },
    {
      "cell_type": "code",
      "execution_count": null,
      "metadata": {
        "id": "Rde22IcKt5mF"
      },
      "outputs": [],
      "source": [
        "km=KMeans(n_clusters=5)\n",
        "y_predicted=km.fit_predict(X)"
      ]
    },
    {
      "cell_type": "code",
      "execution_count": null,
      "metadata": {
        "id": "pHuPVdGkuC7C"
      },
      "outputs": [],
      "source": [
        "y_predicted"
      ]
    },
    {
      "cell_type": "code",
      "execution_count": null,
      "metadata": {
        "id": "XAIxuRNuuFD5"
      },
      "outputs": [],
      "source": [
        "df1[\"cluster\"]=y_predicted\n",
        "df1.head()"
      ]
    },
    {
      "cell_type": "code",
      "execution_count": null,
      "metadata": {
        "id": "7qmEw5sCuNdw"
      },
      "outputs": [],
      "source": [
        "# Dividing data by cluster to color and plot different datapoints in cluster\n",
        "\n",
        "df11=\n",
        "\n",
        "plt.scatter(df11[\"Spending Score (1-100)\"],df11[\"Annual Income (k$)\"],color='green')\n",
        "plt.scatter(df12[\"Spending Score (1-100)\"],df12[\"Annual Income (k$)\"],color='blue')\n",
        "plt.scatter(df13[\"Spending Score (1-100)\"],df13[\"Annual Income (k$)\"],color='red')\n",
        "plt.scatter(df14[\"Spending Score (1-100)\"],df14[\"Annual Income (k$)\"],color='yellow')\n",
        "plt.scatter(df15[\"Spending Score (1-100)\"],df15[\"Annual Income (k$)\"],color='black')\n",
        "\n",
        "plt.xlabel('Spending Score')\n",
        "plt.ylabel('Annual Income')"
      ]
    },
    {
      "cell_type": "code",
      "execution_count": null,
      "metadata": {
        "id": "fLWCmEPBwS_z"
      },
      "outputs": [],
      "source": [
        "#Gaussian Mixture Model (GMM)"
      ]
    },
    {
      "cell_type": "code",
      "execution_count": null,
      "metadata": {
        "id": "WAIIUfM3upjA"
      },
      "outputs": [],
      "source": [
        "from sklearn.mixture import GaussianMixture"
      ]
    },
    {
      "cell_type": "code",
      "execution_count": null,
      "metadata": {
        "id": "Y5iYz6hqwYTk"
      },
      "outputs": [],
      "source": [
        "from sklearn.mixture import GaussianMixture\n",
        "n_clusters = 5\n",
        "gmm_model = GaussianMixture(n_components=n_clusters)\n",
        "gmm_model.fit(X)"
      ]
    },
    {
      "cell_type": "code",
      "execution_count": null,
      "metadata": {
        "id": "nyHrNxkWwbs1"
      },
      "outputs": [],
      "source": [
        "cluster_labels = gmm_model.predict(X)\n",
        "X = pd.DataFrame(X)\n",
        "X['cluster'] = cluster_labels"
      ]
    },
    {
      "cell_type": "code",
      "execution_count": null,
      "metadata": {
        "id": "ugcB6oFnxNmy"
      },
      "outputs": [],
      "source": [
        "X.head()"
      ]
    },
    {
      "cell_type": "code",
      "execution_count": null,
      "metadata": {
        "id": "p-QuI72XwcQK"
      },
      "outputs": [],
      "source": [
        "for k in range(0,n_clusters):\n",
        "    data = X[X[\"cluster\"]==k]\n",
        "    plt.scatter(data[\"Annual Income (k$)\"],data[\"Spending Score (1-100)\"])\n",
        "plt.title(\"Clusters Identified by Guassian Mixture Model\")\n",
        "plt.ylabel(\"Spending Score (1-100)\")\n",
        "plt.xlabel(\"Annual Income\")\n",
        "plt.show()"
      ]
    },
    {
      "cell_type": "code",
      "execution_count": null,
      "metadata": {
        "id": "SXdlbBkTzbeO"
      },
      "outputs": [],
      "source": [
        "data"
      ]
    },
    {
      "cell_type": "code",
      "execution_count": null,
      "metadata": {
        "id": "ub7FYv6SwggG"
      },
      "outputs": [],
      "source": [
        "# Spectral Clustering - Used in case of multi dimentional data [It reduce the dimension in backend and then run clustering in reduced dimention]"
      ]
    },
    {
      "cell_type": "code",
      "execution_count": null,
      "metadata": {
        "id": "tmwPLOFS0a4D"
      },
      "outputs": [],
      "source": [
        "from sklearn.cluster import SpectralClustering"
      ]
    },
    {
      "cell_type": "code",
      "execution_count": null,
      "metadata": {
        "id": "ZqhmxN7H0cft"
      },
      "outputs": [],
      "source": [
        "spectral_cluster_model= SpectralClustering(\n",
        "    n_clusters=5,\n",
        "    random_state=25,\n",
        "    affinity='nearest_neighbors'\n",
        ")"
      ]
    },
    {
      "cell_type": "code",
      "execution_count": null,
      "metadata": {
        "id": "buTBLno40fm3"
      },
      "outputs": [],
      "source": [
        "X['cluster'] = spectral_cluster_model.fit_predict(X[['Annual Income (k$)', 'Spending Score (1-100)']])"
      ]
    },
    {
      "cell_type": "code",
      "execution_count": null,
      "metadata": {
        "id": "N3BgoS900k3H"
      },
      "outputs": [],
      "source": [
        "fig, ax = plt.subplots()\n",
        "sns.scatterplot(x='Annual Income (k$)', y='Spending Score (1-100)', data=X, hue='cluster', ax=ax)\n",
        "ax.set(title='Spectral Clustering')"
      ]
    },
    {
      "cell_type": "code",
      "execution_count": null,
      "metadata": {
        "id": "nxzFMllo1_aD"
      },
      "outputs": [],
      "source": [
        "# Hierarichal Clustering"
      ]
    },
    {
      "cell_type": "code",
      "execution_count": null,
      "metadata": {
        "id": "j-ML2gY63XqK"
      },
      "outputs": [],
      "source": [
        "from scipy.cluster.hierarchy import linkage, dendrogram\n",
        "\n",
        "complete_clustering = linkage(X, method=\"complete\", metric=\"euclidean\")\n",
        "average_clustering = linkage(X, method=\"average\", metric=\"euclidean\")\n",
        "single_clustering = linkage(X, method=\"single\", metric=\"euclidean\")"
      ]
    },
    {
      "cell_type": "code",
      "execution_count": null,
      "metadata": {
        "id": "KMlBnmjE3mdb"
      },
      "outputs": [],
      "source": [
        "dendrogram(average_clustering)\n",
        "plt.show()"
      ]
    },
    {
      "cell_type": "code",
      "execution_count": null,
      "metadata": {
        "id": "7jjDqs-_5j5t"
      },
      "outputs": [],
      "source": [
        "# Linear Dicriminant Analysis (LDA)"
      ]
    },
    {
      "cell_type": "code",
      "execution_count": null,
      "metadata": {
        "id": "w36tvEox_dU1"
      },
      "outputs": [],
      "source": [
        "from google.colab import files"
      ]
    },
    {
      "cell_type": "code",
      "execution_count": null,
      "metadata": {
        "id": "Br2d-jkg_eYu"
      },
      "outputs": [],
      "source": [
        "uploaded = files.upload()"
      ]
    },
    {
      "cell_type": "code",
      "execution_count": null,
      "metadata": {
        "id": "m97xd2wl_fcW"
      },
      "outputs": [],
      "source": [
        "import pandas as pd\n",
        "datafile = pd.read_excel(\"Data_Regression_Final.xlsx\")"
      ]
    },
    {
      "cell_type": "code",
      "execution_count": null,
      "metadata": {
        "id": "EDthx1gJmYAD"
      },
      "outputs": [],
      "source": [
        "datafile.head()"
      ]
    },
    {
      "cell_type": "code",
      "execution_count": null,
      "metadata": {
        "id": "jJ75ygv25mix"
      },
      "outputs": [],
      "source": [
        "import numpy as np\n",
        "import pandas as pd\n",
        "import matplotlib.pyplot as plt\n",
        "import seaborn as sns\n",
        "from sklearn.preprocessing import LabelEncoder\n",
        "from sklearn.model_selection import train_test_split\n",
        "from sklearn.discriminant_analysis import LinearDiscriminantAnalysis\n",
        "from sklearn.ensemble import RandomForestClassifier\n",
        "from sklearn.metrics import accuracy_score, confusion_matrix"
      ]
    },
    {
      "cell_type": "code",
      "execution_count": null,
      "metadata": {
        "id": "aIFwg6gg7_3M"
      },
      "outputs": [],
      "source": [
        "X_ind=datafile[['Quick_in_and_out','Fast_Efficient_check_out','Good_Selection_of_brands']].copy()\n",
        "Y_Dep=datafile[\"Reco_Binary\"].copy()"
      ]
    },
    {
      "cell_type": "code",
      "execution_count": null,
      "metadata": {
        "id": "FwM1m3nWmp00"
      },
      "outputs": [],
      "source": []
    },
    {
      "cell_type": "code",
      "execution_count": null,
      "metadata": {
        "id": "OR4jdt-q8RfP"
      },
      "outputs": [],
      "source": [
        "correlation_matrix = datafile.corr(numeric_only = True)\n",
        "plt.figure(figsize=(8, 6))\n",
        "sns.heatmap(correlation_matrix, annot=True, cmap='coolwarm', linewidths=0.5)\n",
        "plt.title(\"Correlation Heatmap\")\n",
        "plt.show()"
      ]
    },
    {
      "cell_type": "code",
      "execution_count": null,
      "metadata": {
        "id": "bdi6wLup89kI"
      },
      "outputs": [],
      "source": [
        "# Split the data set into training and testing sets\n",
        "\n",
        "X_train, X_test, y_train, y_test = train_test_split(X_ind, Y_Dep, test_size=0.2)"
      ]
    },
    {
      "cell_type": "code",
      "execution_count": null,
      "metadata": {
        "id": "zR8-eOK59Hte"
      },
      "outputs": [],
      "source": [
        "X_train.shape"
      ]
    },
    {
      "cell_type": "code",
      "execution_count": null,
      "metadata": {
        "id": "8sBm40_6-vcm"
      },
      "outputs": [],
      "source": [
        "# Apply Linear Discriminant Analysis\n",
        "lda = LinearDiscriminantAnalysis(n_components=1)\n",
        "X_train = lda.fit_transform(X_train, y_train)\n",
        "X_test = lda.transform(X_test)"
      ]
    },
    {
      "cell_type": "code",
      "execution_count": null,
      "metadata": {
        "id": "DC9Yiz3x-67F"
      },
      "outputs": [],
      "source": [
        "classifier = RandomForestClassifier(max_depth=2, random_state=0)\n",
        "classifier.fit(X_train, y_train)\n",
        "y_pred = classifier.predict(X_test)"
      ]
    },
    {
      "cell_type": "code",
      "execution_count": null,
      "metadata": {
        "id": "lHMmiNoKnZhc"
      },
      "outputs": [],
      "source": [
        "y_pred"
      ]
    },
    {
      "cell_type": "code",
      "execution_count": null,
      "metadata": {
        "id": "YOr0wUpV_CHa"
      },
      "outputs": [],
      "source": [
        "#Assume 'y_test' and 'y_pred' are already defined\n",
        "accuracy = accuracy_score(y_test, y_pred)\n",
        "conf_m = confusion_matrix(y_test, y_pred)\n",
        "\n",
        "#Display the accuracy\n",
        "print(f'Accuracy: {accuracy:.2f}')\n",
        "\n",
        "#Display the confusion matrix as a heatmap\n",
        "plt.figure(figsize=(6, 6))\n",
        "sns.heatmap(conf_m, annot=True, fmt=\"d\", cmap=\"Blues\", cbar=False, square=True)\n",
        "plt.xlabel(\"Predicted\")\n",
        "plt.ylabel(\"True\")\n",
        "plt.title(\"Confusion Matrix\")\n",
        "plt.show()"
      ]
    }
  ]
}