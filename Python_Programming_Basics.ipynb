{
  "nbformat": 4,
  "nbformat_minor": 0,
  "metadata": {
    "colab": {
      "provenance": [],
      "authorship_tag": "ABX9TyMcn0vwmT0ZLBje9gQ6lG6/",
      "include_colab_link": true
    },
    "kernelspec": {
      "name": "python3",
      "display_name": "Python 3"
    },
    "language_info": {
      "name": "python"
    },
    "gpuClass": "standard"
  },
  "cells": [
    {
      "cell_type": "markdown",
      "metadata": {
        "id": "view-in-github",
        "colab_type": "text"
      },
      "source": [
        "<a href=\"https://colab.research.google.com/github/Utkarshmishra2k2/Python-Basics/blob/main/Python_Programming_Basics.ipynb\" target=\"_parent\"><img src=\"https://colab.research.google.com/assets/colab-badge.svg\" alt=\"Open In Colab\"/></a>"
      ]
    },
    {
      "cell_type": "code",
      "source": [
        "import math as mt"
      ],
      "metadata": {
        "id": "EuSPMu6aseMH"
      },
      "execution_count": 1,
      "outputs": []
    },
    {
      "cell_type": "markdown",
      "source": [
        "1.\n",
        "\n",
        "Accept a number from user and print its multiplication table using For loop."
      ],
      "metadata": {
        "id": "SoSiSCaltApy"
      }
    },
    {
      "cell_type": "code",
      "source": [
        "data_01 = int ( input ( \"Enter A Number :\" ) )\n",
        "for i in range (1,11):\n",
        "    multiple = data_01 * i\n",
        "    print (data_01,\"*\",i,\"=\" , multiple)"
      ],
      "metadata": {
        "id": "k4kKDGjoysWM",
        "colab": {
          "base_uri": "https://localhost:8080/"
        },
        "outputId": "e6786563-4bb6-4e3e-d704-8005fad031e1"
      },
      "execution_count": 2,
      "outputs": [
        {
          "output_type": "stream",
          "name": "stdout",
          "text": [
            "Enter A Number :1412\n",
            "1412 * 1 = 1412\n",
            "1412 * 2 = 2824\n",
            "1412 * 3 = 4236\n",
            "1412 * 4 = 5648\n",
            "1412 * 5 = 7060\n",
            "1412 * 6 = 8472\n",
            "1412 * 7 = 9884\n",
            "1412 * 8 = 11296\n",
            "1412 * 9 = 12708\n",
            "1412 * 10 = 14120\n"
          ]
        }
      ]
    },
    {
      "cell_type": "markdown",
      "source": [
        "2.\n",
        "\n",
        "Accept a number from user and print its factorial using While loop."
      ],
      "metadata": {
        "id": "NzRGxLzGtiuZ"
      }
    },
    {
      "cell_type": "code",
      "source": [
        "data_01 = int ( input ( \"Enter A Number :\" ) )\n",
        "fact = 1\n",
        "i = 1\n",
        "while i<data_01+1:\n",
        "    fact =  fact *i\n",
        "    i = i+1\n",
        "\n",
        "print(fact)"
      ],
      "metadata": {
        "colab": {
          "base_uri": "https://localhost:8080/"
        },
        "id": "HDDD7Qv4tRtm",
        "outputId": "c6e1c0c0-2c82-4322-915a-4925b43b94d8"
      },
      "execution_count": 3,
      "outputs": [
        {
          "output_type": "stream",
          "name": "stdout",
          "text": [
            "Enter A Number :1412\n",
            "207403570692548242395553894325773218072248520936311520104490322673122351116298072282742552476838857419985780142628882242457481092916939525543423132973678230829189445891222299881064282170785893757541298045232447304291756322321719813712073762058976107286948063556341292221486845430593739033564611136737060932960649035663223837171254723677394705476377838962876969126889585605820395934272591429263606854918790742341439867428032097989075167713872181175944777119776582339742563617577872825856315042587791374327042662062510918423757491350319529027792780087055954190860399419218382736227886796367043045039716367321666199883993439534299077143177550381818106718881669382201333341404968626451445333012852955555261754575722672781683665873247114143620127477738966025328966986986066281813299595522146761428955699404012903920978699710976014296810530734297526000178305891153981016311096350268816079410410484141814360532536579431260712009721786711402245174387614419170725941114298061234660834015438705297478825936736573454529668726224488056965173574386056232080946186393972914695837835824800238902014912035710140915158100676425799347820015926887998155274650887427198175555714522911198047252222086073810599448201373048114145550715782599529548038141585497635600139867453275126456745426879713026448698258659687693875752507118169129683120913043102454326705835441907768508648433507805521005710539410962463895385157702478034536771068790641163330398880005312759187214860290990237502365000645545103198570349631363179940401937454791016372988646826440596939703160452327007896826248975588905411356161278265762059034750821547982436853533815358578269412602731488136360006705138806439552305593857360767387055219657004584950535506624485944492118359034228286063213002101312526232281643383433851297371521685768488311801457315946519745839237273144857076944254401290467561236107258472663558282293797455785925031014942717519068591888784366362066597955384978694343903878488273983659502098646908751116835213483350624770197049237760692936686540247787070805310397093593292460969838549753659751513597705265282779968331599386838028653721934726976537847997479680976302208868950088192004866530171189467850097591771792326311441469799235492154812382057818081658802726291456381548338531760666823249528582359582617987328498030657362818267432107218422955126170328310907457782101587357049799272044367987235456610245676632094972189694275325783398672533404173263018939036743085955099014221650031194701539941074411100264484360651345939688610614137925235636346955887179826929568483840809548886521949517210332547207910592573309010421318288856619399182685257651128683188965790657005863989794494720946947398673837276260760955668332887563605850886917638201444302285691630391597365226032361140746944580676583445918458549037871859969499195968583828865164760830731704330253598429245982705142206461759459801039069296661673681216786920324576086038971425369119453674150438396341788235381735705299115349016060564092497570088722141775840426475516125469794098200870251238846878270919357871824192423708825252421705586319880289469853653003917073175022779170723142279116381286866241264814871751911354120965767388429305079356522971464545874743205180056554104257336270246759605359319411259052908692967110814362178925842344380975798239860469638428988435579857718456586974690192446233642316467563156935475052660934875078402254469938434162936677042124614784621989604522489299196917353149423450075279460891915947029459765720661229730532640974981509992909639778304000000000000000000000000000000000000000000000000000000000000000000000000000000000000000000000000000000000000000000000000000000000000000000000000000000000000000000000000000000000000000000000000000000000000000000000000000000000000000000000000000000000000000000000000000000000000000000000000000000000000000000000000000000000000000000000000000000000000000\n"
          ]
        }
      ]
    },
    {
      "cell_type": "markdown",
      "source": [
        "3.\n",
        "\n",
        "Accept a number from user. Pass this number to a function which will test if the number is a multiple of 7 and is divisible by 5."
      ],
      "metadata": {
        "id": "3JZZ1lr9tyEB"
      }
    },
    {
      "cell_type": "code",
      "source": [
        "def multiple(data_01):\n",
        "    if data_01 % 7 == 0 & data_01 % 5 ==0:\n",
        "      print(data_01)\n",
        "    else:\n",
        "      print(\"Reenter\")\n",
        "\n",
        "multiple(215)"
      ],
      "metadata": {
        "id": "F5Ykvyc1tplk",
        "colab": {
          "base_uri": "https://localhost:8080/"
        },
        "outputId": "8b8f4309-be11-45a4-f1be-c1b9f745d37e"
      },
      "execution_count": 4,
      "outputs": [
        {
          "output_type": "stream",
          "name": "stdout",
          "text": [
            "Reenter\n"
          ]
        }
      ]
    },
    {
      "cell_type": "markdown",
      "source": [
        "4.\n",
        "\n",
        "Accept a number from user(n). Print the numbers from n to 1 in reverse order by using a recursive function."
      ],
      "metadata": {
        "id": "ssLNho9iuAXi"
      }
    },
    {
      "cell_type": "code",
      "source": [
        "def check(n):\n",
        "    if (n>0):\n",
        "        print (n)\n",
        "        check (n-1)\n",
        "    else:\n",
        "        return\n",
        "\n",
        "data_01 = int ( input ( \"Enter A Number :\" ) )\n",
        "check (data_01)"
      ],
      "metadata": {
        "id": "9PDF_3lKt4Hh",
        "colab": {
          "base_uri": "https://localhost:8080/"
        },
        "outputId": "3353d98a-97f8-4dc0-8c3a-c2f79a00e682"
      },
      "execution_count": 6,
      "outputs": [
        {
          "output_type": "stream",
          "name": "stdout",
          "text": [
            "Enter A Number :65\n",
            "65\n",
            "64\n",
            "63\n",
            "62\n",
            "61\n",
            "60\n",
            "59\n",
            "58\n",
            "57\n",
            "56\n",
            "55\n",
            "54\n",
            "53\n",
            "52\n",
            "51\n",
            "50\n",
            "49\n",
            "48\n",
            "47\n",
            "46\n",
            "45\n",
            "44\n",
            "43\n",
            "42\n",
            "41\n",
            "40\n",
            "39\n",
            "38\n",
            "37\n",
            "36\n",
            "35\n",
            "34\n",
            "33\n",
            "32\n",
            "31\n",
            "30\n",
            "29\n",
            "28\n",
            "27\n",
            "26\n",
            "25\n",
            "24\n",
            "23\n",
            "22\n",
            "21\n",
            "20\n",
            "19\n",
            "18\n",
            "17\n",
            "16\n",
            "15\n",
            "14\n",
            "13\n",
            "12\n",
            "11\n",
            "10\n",
            "9\n",
            "8\n",
            "7\n",
            "6\n",
            "5\n",
            "4\n",
            "3\n",
            "2\n",
            "1\n"
          ]
        }
      ]
    },
    {
      "cell_type": "markdown",
      "source": [
        "5.\n",
        "\n",
        "Create a List L with 5 numbers stored in it. Write a loop program which calculates and prints the sum of all the numbers stored in the List."
      ],
      "metadata": {
        "id": "EVyYrTPhuNVj"
      }
    },
    {
      "cell_type": "code",
      "source": [
        "data_01 = [14654,541,68418,641,654165]\n",
        "y = 0\n",
        "for i in data_01:\n",
        "    y = y + i\n",
        "\n",
        "print(y)"
      ],
      "metadata": {
        "id": "aRgkCd1LuSwA",
        "colab": {
          "base_uri": "https://localhost:8080/"
        },
        "outputId": "8f9e1c62-0452-448b-ba25-69f0275508a4"
      },
      "execution_count": 7,
      "outputs": [
        {
          "output_type": "stream",
          "name": "stdout",
          "text": [
            "738419\n"
          ]
        }
      ]
    },
    {
      "cell_type": "markdown",
      "source": [
        "6.\n",
        "\n",
        "Write a program to check if the number given by user exists in a tuple. If it is found then print “Yes, No. Found” else print “ No. Not found”."
      ],
      "metadata": {
        "id": "oMHBW6ejul8Z"
      }
    },
    {
      "cell_type": "code",
      "source": [
        "tuple = (54165416,56165,415,114,141474,154,147,454,1457,4,5)\n",
        "x = int(input(\"Enter search value:\"))\n",
        "f = \"false\"\n",
        "for i in tuple:\n",
        "    if i == x:\n",
        "        print(\"It's Found\")\n",
        "        f = \"true\"\n",
        "\n",
        "if (f == \"false\") :\n",
        "    print(\"Not Found\")"
      ],
      "metadata": {
        "id": "vmcpCgmLu-9v",
        "colab": {
          "base_uri": "https://localhost:8080/"
        },
        "outputId": "f5690d20-8773-48b7-89f0-f7d3dbb08d3e"
      },
      "execution_count": 8,
      "outputs": [
        {
          "output_type": "stream",
          "name": "stdout",
          "text": [
            "Enter search value:1412\n",
            "Not Found\n"
          ]
        }
      ]
    },
    {
      "cell_type": "markdown",
      "source": [
        "7.\n",
        "\n",
        "Given a dictionary get all values from the dictionary and add it in a list but don’t add duplicates. "
      ],
      "metadata": {
        "id": "sni1IWiMvFoU"
      }
    },
    {
      "cell_type": "code",
      "source": [
        "data_01 = {  \"A\" :465 , \"B\" : 41, \"C\" : 41 , \"D\" : 411545 ,\"E\" : 654165 }\n",
        "list = []\n",
        "print(\"Dictionory Values \",data_01.values())\n",
        "for i in data_01.values():\n",
        "    if i not in list:\n",
        "        list.append(i)\n",
        "\n",
        "print(\"List\" , list)"
      ],
      "metadata": {
        "id": "84Fq-Si4vS-R",
        "colab": {
          "base_uri": "https://localhost:8080/"
        },
        "outputId": "0defa7a0-ded4-46ed-8024-086d7df48737"
      },
      "execution_count": 9,
      "outputs": [
        {
          "output_type": "stream",
          "name": "stdout",
          "text": [
            "Dictionory Values  dict_values([465, 41, 41, 411545, 654165])\n",
            "List [465, 41, 411545, 654165]\n"
          ]
        }
      ]
    },
    {
      "cell_type": "markdown",
      "source": [
        "8.\n",
        "\n",
        "Write a Python program to convert temperatures in Celsius to  fahrenheit.\n",
        "[ Formula : c/5 = f-32/9 [ where c = temperature in celsius and f = temperature in fahrenheit ] "
      ],
      "metadata": {
        "id": "Su2HSYVXvaav"
      }
    },
    {
      "cell_type": "code",
      "source": [
        "data_01 = float ( input ( \"Enter the Temperature In Degree Celsius : \" ) )\n",
        "F = ( data_01 * 1.8 ) + 32\n",
        "print ( \" Temprature on Degree Fahrenheit {}. \".format(F) )"
      ],
      "metadata": {
        "id": "3Lu5tIY_vrou",
        "colab": {
          "base_uri": "https://localhost:8080/"
        },
        "outputId": "7ed5cadf-38ea-4499-d7b9-611514ddf448"
      },
      "execution_count": 10,
      "outputs": [
        {
          "output_type": "stream",
          "name": "stdout",
          "text": [
            "Enter the Temperature In Degree Celsius : 1412\n",
            " Temprature on Degree Fahrenheit 2573.6. \n"
          ]
        }
      ]
    },
    {
      "cell_type": "markdown",
      "source": [
        "9.\n",
        "\n",
        "Accept User name & Password from user. If the user name is “RJC” and Password is \n",
        "“student” then print “Login Successful” else print “Login Failed”."
      ],
      "metadata": {
        "id": "vyLvRCkZw5ww"
      }
    },
    {
      "cell_type": "code",
      "source": [
        "data_01 = str( input ( \"Enter The Lodin Id : \" ) )\n",
        "data_02 = str( input ( \"Enter The Password : \" ) )\n",
        "if ( data_01 == \"RJC\") & (data_02 == \"student\" ):\n",
        "    print( \"Login Succesfull\" )\n",
        "else:\n",
        "    print( \"Login Failed\" )"
      ],
      "metadata": {
        "colab": {
          "base_uri": "https://localhost:8080/"
        },
        "id": "LiR5YfEvxDWR",
        "outputId": "ca899c84-1f1a-42e0-cb1a-e8708e36b674"
      },
      "execution_count": 11,
      "outputs": [
        {
          "output_type": "stream",
          "name": "stdout",
          "text": [
            "Enter The Lodin Id : 1412\n",
            "Enter The Password : 1412\n",
            "Login Failed\n"
          ]
        }
      ]
    },
    {
      "cell_type": "markdown",
      "source": [
        "10.\n",
        "\n",
        "Create a List having five numbers in it. Find and print the biggest & smallest number of the list."
      ],
      "metadata": {
        "id": "hhvTYvd70Z9t"
      }
    },
    {
      "cell_type": "code",
      "source": [
        "list_01 = [54654665,564645,65444,56532,64685]\n",
        "x = min ( list_01 )\n",
        "y = max ( list_01 )\n",
        "print (\" Maximum & Minimum from list are {} & {} respectively. \".format ( x , y ))"
      ],
      "metadata": {
        "colab": {
          "base_uri": "https://localhost:8080/"
        },
        "id": "dxMg0ov_0bqH",
        "outputId": "799d63c8-06df-41ac-a974-83d9b69c62c4"
      },
      "execution_count": 12,
      "outputs": [
        {
          "output_type": "stream",
          "name": "stdout",
          "text": [
            " Maximum & Minimum from list are 56532 & 54654665 respectively. \n"
          ]
        }
      ]
    },
    {
      "cell_type": "markdown",
      "source": [
        "11.\n",
        "\n",
        "Create the following list :\n",
        "L= [ 12,33,56,78,100] . Accept any number from the user and search its location in the list. If the number is found in the list , print its index number else print message “Number Not Found”."
      ],
      "metadata": {
        "id": "tSaiSGoc2E5O"
      }
    },
    {
      "cell_type": "code",
      "source": [
        "list_01 = [ 12,33,56,78,100] \n",
        "x = int ( input ( \" Enter A Number: \" ) )\n",
        "try:\n",
        "    y = list_01.index( x )\n",
        "    print( \"Value Found with index value {} \".fromat ( y ) )\n",
        "except:\n",
        "    print ( \"Value Not Found\" )"
      ],
      "metadata": {
        "id": "KSOrKBYP2K6G",
        "colab": {
          "base_uri": "https://localhost:8080/"
        },
        "outputId": "b0068711-3e3c-4355-d80a-a455adc1727a"
      },
      "execution_count": 13,
      "outputs": [
        {
          "output_type": "stream",
          "name": "stdout",
          "text": [
            " Enter A Number: 1412\n",
            "Value Not Found\n"
          ]
        }
      ]
    },
    {
      "cell_type": "code",
      "source": [
        "list_01 = [ 12,33,56,78,100] \n",
        "x = int ( input ( \" Enter A Number: \" ) )\n",
        "flag = True\n",
        "for i in range (0,len( list_01 ) ):\n",
        "    if ( x == list_01[i] ):\n",
        "        print( \"Value Found with index value {} \".fromat ( i ) )\n",
        "        flag = False\n",
        "        break\n",
        "\n",
        "if flag == True :\n",
        "    print ( \"Value Not Found\" )"
      ],
      "metadata": {
        "colab": {
          "base_uri": "https://localhost:8080/"
        },
        "id": "pljVO68o3cW4",
        "outputId": "e24cc7b2-2716-4fc6-9110-93d357f35512"
      },
      "execution_count": 14,
      "outputs": [
        {
          "output_type": "stream",
          "name": "stdout",
          "text": [
            " Enter A Number: 1412\n",
            "Value Not Found\n"
          ]
        }
      ]
    },
    {
      "cell_type": "markdown",
      "source": [
        "12.  Write a Python script to print a dictionary where the keys are numbers between 1 and 10 (both included) and the values are square of keys."
      ],
      "metadata": {
        "id": "4vc1uWEh3VKX"
      }
    },
    {
      "cell_type": "code",
      "source": [
        "dict_01 = dict()\n",
        "for i in range (1,11):\n",
        "    dict_01[i] = i ** 2\n",
        "\n",
        "for w in dict_01:\n",
        "    print(\"{} : {}\".format(w,dict_01[w]))"
      ],
      "metadata": {
        "colab": {
          "base_uri": "https://localhost:8080/"
        },
        "id": "k8uX9lS34sWn",
        "outputId": "873ed7b2-1683-478f-f1b6-399061126719"
      },
      "execution_count": 15,
      "outputs": [
        {
          "output_type": "stream",
          "name": "stdout",
          "text": [
            "1 : 1\n",
            "2 : 4\n",
            "3 : 9\n",
            "4 : 16\n",
            "5 : 25\n",
            "6 : 36\n",
            "7 : 49\n",
            "8 : 64\n",
            "9 : 81\n",
            "10 : 100\n"
          ]
        }
      ]
    },
    {
      "cell_type": "markdown",
      "source": [
        "13.\n",
        "\n",
        "Create the following dictionary:\n",
        "Dict= { “Roll” : 11 , “Name”:”ABC”, “sub1”:89, “sub2”:90}\n",
        "Print the output as :\n",
        "Roll     11\n",
        "Name    ABC\n",
        "Sub1     89\n",
        "Sub2    90\n",
        "Total    179"
      ],
      "metadata": {
        "id": "eJJgiwoM6W4f"
      }
    },
    {
      "cell_type": "code",
      "source": [
        "dict_01 = { \"Roll\" : 11 , \"Name\":\"ABC\", \"sub1\":89, \"sub2\":90 }\n",
        "total = dict_01[\"sub1\"] + dict_01[\"sub2\"]\n",
        "for w in dict_01:\n",
        "    print(\"{} : {}\".format(w,dict_01[w]))\n",
        "print(\"Total : {}\".format(total))"
      ],
      "metadata": {
        "colab": {
          "base_uri": "https://localhost:8080/"
        },
        "id": "-4SP7klX6arh",
        "outputId": "8cace2e2-e973-403d-8dce-e86666c939d1"
      },
      "execution_count": 16,
      "outputs": [
        {
          "output_type": "stream",
          "name": "stdout",
          "text": [
            "Roll : 11\n",
            "Name : ABC\n",
            "sub1 : 89\n",
            "sub2 : 90\n",
            "Total : 179\n"
          ]
        }
      ]
    },
    {
      "cell_type": "markdown",
      "source": [
        "14.\n",
        "\n",
        "Write a python function to accept 3 parameters and print the smallest number."
      ],
      "metadata": {
        "id": "jQ5o9xQg7vPJ"
      }
    },
    {
      "cell_type": "code",
      "source": [
        "def campare( a,b,c):\n",
        "    x = min(a,b,c)\n",
        "    y = max(a,b,c)\n",
        "    print (\"Minimum value and Maximum value are {} & {} respectively .\".format(x,y))\n",
        "\n",
        "campare(53546,6487/97,45)"
      ],
      "metadata": {
        "colab": {
          "base_uri": "https://localhost:8080/"
        },
        "id": "l0OTE9cW8MFX",
        "outputId": "71f93ef7-8831-4082-b6e8-f408594fc06b"
      },
      "execution_count": 17,
      "outputs": [
        {
          "output_type": "stream",
          "name": "stdout",
          "text": [
            "Minimum value and Maximum value are 45 & 53546 respectively .\n"
          ]
        }
      ]
    },
    {
      "cell_type": "markdown",
      "source": [
        "15.\n",
        "\n",
        "Write a python function to accept a number as parameter and print its factorial."
      ],
      "metadata": {
        "id": "RFR8PvdX79Uo"
      }
    },
    {
      "cell_type": "code",
      "source": [
        "data_01 = float ( input ( \"Enter the Number : \" ) )\n",
        "fact = mt.factorial( data_01 )\n",
        "print(\"Factorial of {} is {} .\".format(data_01,fact))"
      ],
      "metadata": {
        "colab": {
          "base_uri": "https://localhost:8080/"
        },
        "id": "XiPRYpld8Ma3",
        "outputId": "a84f2a56-e65c-418b-a509-1b4babb566d2"
      },
      "execution_count": 18,
      "outputs": [
        {
          "output_type": "stream",
          "name": "stdout",
          "text": [
            "Enter the Number : 1412\n",
            "Factorial of 1412.0 is 207403570692548242395553894325773218072248520936311520104490322673122351116298072282742552476838857419985780142628882242457481092916939525543423132973678230829189445891222299881064282170785893757541298045232447304291756322321719813712073762058976107286948063556341292221486845430593739033564611136737060932960649035663223837171254723677394705476377838962876969126889585605820395934272591429263606854918790742341439867428032097989075167713872181175944777119776582339742563617577872825856315042587791374327042662062510918423757491350319529027792780087055954190860399419218382736227886796367043045039716367321666199883993439534299077143177550381818106718881669382201333341404968626451445333012852955555261754575722672781683665873247114143620127477738966025328966986986066281813299595522146761428955699404012903920978699710976014296810530734297526000178305891153981016311096350268816079410410484141814360532536579431260712009721786711402245174387614419170725941114298061234660834015438705297478825936736573454529668726224488056965173574386056232080946186393972914695837835824800238902014912035710140915158100676425799347820015926887998155274650887427198175555714522911198047252222086073810599448201373048114145550715782599529548038141585497635600139867453275126456745426879713026448698258659687693875752507118169129683120913043102454326705835441907768508648433507805521005710539410962463895385157702478034536771068790641163330398880005312759187214860290990237502365000645545103198570349631363179940401937454791016372988646826440596939703160452327007896826248975588905411356161278265762059034750821547982436853533815358578269412602731488136360006705138806439552305593857360767387055219657004584950535506624485944492118359034228286063213002101312526232281643383433851297371521685768488311801457315946519745839237273144857076944254401290467561236107258472663558282293797455785925031014942717519068591888784366362066597955384978694343903878488273983659502098646908751116835213483350624770197049237760692936686540247787070805310397093593292460969838549753659751513597705265282779968331599386838028653721934726976537847997479680976302208868950088192004866530171189467850097591771792326311441469799235492154812382057818081658802726291456381548338531760666823249528582359582617987328498030657362818267432107218422955126170328310907457782101587357049799272044367987235456610245676632094972189694275325783398672533404173263018939036743085955099014221650031194701539941074411100264484360651345939688610614137925235636346955887179826929568483840809548886521949517210332547207910592573309010421318288856619399182685257651128683188965790657005863989794494720946947398673837276260760955668332887563605850886917638201444302285691630391597365226032361140746944580676583445918458549037871859969499195968583828865164760830731704330253598429245982705142206461759459801039069296661673681216786920324576086038971425369119453674150438396341788235381735705299115349016060564092497570088722141775840426475516125469794098200870251238846878270919357871824192423708825252421705586319880289469853653003917073175022779170723142279116381286866241264814871751911354120965767388429305079356522971464545874743205180056554104257336270246759605359319411259052908692967110814362178925842344380975798239860469638428988435579857718456586974690192446233642316467563156935475052660934875078402254469938434162936677042124614784621989604522489299196917353149423450075279460891915947029459765720661229730532640974981509992909639778304000000000000000000000000000000000000000000000000000000000000000000000000000000000000000000000000000000000000000000000000000000000000000000000000000000000000000000000000000000000000000000000000000000000000000000000000000000000000000000000000000000000000000000000000000000000000000000000000000000000000000000000000000000000000000000000000000000000000000 .\n"
          ]
        }
      ]
    },
    {
      "cell_type": "code",
      "source": [
        "def factorial(a):\n",
        "    fact=1\n",
        "    if a < 0:\n",
        "        print(\"no factorial for 0\")\n",
        "    elif a==0:\n",
        "        print(\"factorial of 0 is 0\")\n",
        "    else:\n",
        "        for i in range(1,a+1):\n",
        "             fact*=i\n",
        "             \n",
        "        print(\"factorial of\",a,\"is\",fact)\n",
        "data_01 = int ( input ( \"Enter the Number : \" ) )          \n",
        "factorial(data_01)"
      ],
      "metadata": {
        "colab": {
          "base_uri": "https://localhost:8080/"
        },
        "id": "h3xoU3YvEjQG",
        "outputId": "730d6cb0-0f56-4466-f970-0c879e523717"
      },
      "execution_count": 19,
      "outputs": [
        {
          "output_type": "stream",
          "name": "stdout",
          "text": [
            "Enter the Number : 1412\n",
            "factorial of 1412 is 207403570692548242395553894325773218072248520936311520104490322673122351116298072282742552476838857419985780142628882242457481092916939525543423132973678230829189445891222299881064282170785893757541298045232447304291756322321719813712073762058976107286948063556341292221486845430593739033564611136737060932960649035663223837171254723677394705476377838962876969126889585605820395934272591429263606854918790742341439867428032097989075167713872181175944777119776582339742563617577872825856315042587791374327042662062510918423757491350319529027792780087055954190860399419218382736227886796367043045039716367321666199883993439534299077143177550381818106718881669382201333341404968626451445333012852955555261754575722672781683665873247114143620127477738966025328966986986066281813299595522146761428955699404012903920978699710976014296810530734297526000178305891153981016311096350268816079410410484141814360532536579431260712009721786711402245174387614419170725941114298061234660834015438705297478825936736573454529668726224488056965173574386056232080946186393972914695837835824800238902014912035710140915158100676425799347820015926887998155274650887427198175555714522911198047252222086073810599448201373048114145550715782599529548038141585497635600139867453275126456745426879713026448698258659687693875752507118169129683120913043102454326705835441907768508648433507805521005710539410962463895385157702478034536771068790641163330398880005312759187214860290990237502365000645545103198570349631363179940401937454791016372988646826440596939703160452327007896826248975588905411356161278265762059034750821547982436853533815358578269412602731488136360006705138806439552305593857360767387055219657004584950535506624485944492118359034228286063213002101312526232281643383433851297371521685768488311801457315946519745839237273144857076944254401290467561236107258472663558282293797455785925031014942717519068591888784366362066597955384978694343903878488273983659502098646908751116835213483350624770197049237760692936686540247787070805310397093593292460969838549753659751513597705265282779968331599386838028653721934726976537847997479680976302208868950088192004866530171189467850097591771792326311441469799235492154812382057818081658802726291456381548338531760666823249528582359582617987328498030657362818267432107218422955126170328310907457782101587357049799272044367987235456610245676632094972189694275325783398672533404173263018939036743085955099014221650031194701539941074411100264484360651345939688610614137925235636346955887179826929568483840809548886521949517210332547207910592573309010421318288856619399182685257651128683188965790657005863989794494720946947398673837276260760955668332887563605850886917638201444302285691630391597365226032361140746944580676583445918458549037871859969499195968583828865164760830731704330253598429245982705142206461759459801039069296661673681216786920324576086038971425369119453674150438396341788235381735705299115349016060564092497570088722141775840426475516125469794098200870251238846878270919357871824192423708825252421705586319880289469853653003917073175022779170723142279116381286866241264814871751911354120965767388429305079356522971464545874743205180056554104257336270246759605359319411259052908692967110814362178925842344380975798239860469638428988435579857718456586974690192446233642316467563156935475052660934875078402254469938434162936677042124614784621989604522489299196917353149423450075279460891915947029459765720661229730532640974981509992909639778304000000000000000000000000000000000000000000000000000000000000000000000000000000000000000000000000000000000000000000000000000000000000000000000000000000000000000000000000000000000000000000000000000000000000000000000000000000000000000000000000000000000000000000000000000000000000000000000000000000000000000000000000000000000000000000000000000000000000000\n"
          ]
        }
      ]
    },
    {
      "cell_type": "markdown",
      "source": [
        "16.\n",
        "\n",
        "Perform Basic Mathematical Operation "
      ],
      "metadata": {
        "id": "mQeKQwAmFQp9"
      }
    },
    {
      "cell_type": "code",
      "execution_count": 20,
      "metadata": {
        "colab": {
          "base_uri": "https://localhost:8080/"
        },
        "id": "ITIe0I6ZoHyG",
        "outputId": "8572dfc2-48d2-469d-fd55-6b5a27ed1088"
      },
      "outputs": [
        {
          "output_type": "stream",
          "name": "stdout",
          "text": [
            "Please Enter A Number :1412\n",
            "Please Enter A Number :153\n",
            "Please Enter A Number :1482\n",
            "Sum =  3047.0\n",
            "Subtraction =  -223.0\n",
            "Multiplication =  320165352.0\n",
            "Division =  0.9527665317139001\n"
          ]
        }
      ],
      "source": [
        "num_01 = float( input( \"Please Enter A Number :\" ) )\n",
        "num_02 = float( input( \"Please Enter A Number :\" ) )\n",
        "num_03 = float( input( \"Please Enter A Number :\" ) )\n",
        "\n",
        "print( \"Sum = \" , num_01 + num_02 + num_03 )\n",
        "print( \"Subtraction = \" , num_01 - num_02 - num_03 )\n",
        "print( \"Multiplication = \" , num_01 * num_02 * num_03 )\n",
        "print( \"Division = \" , num_01 /  num_03 )"
      ]
    }
  ]
}